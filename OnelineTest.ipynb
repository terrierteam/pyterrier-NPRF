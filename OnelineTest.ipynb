{
 "cells": [
  {
   "cell_type": "code",
   "execution_count": 1,
   "metadata": {},
   "outputs": [],
   "source": [
    "import warnings\n",
    "warnings.filterwarnings('ignore')"
   ]
  },
  {
   "cell_type": "code",
   "execution_count": 2,
   "metadata": {},
   "outputs": [
    {
     "name": "stderr",
     "output_type": "stream",
     "text": [
      "Using TensorFlow backend.\n"
     ]
    }
   ],
   "source": [
    "from Estimator import NeuralPRFEstimator\n",
    "import pyterrier as pt\n",
    "if not pt.started():\n",
    "    pt.init()\n",
    "vaswani_dataset = pt.datasets.get_dataset(\"vaswani\")\n",
    "indexref = vaswani_dataset.get_index()\n",
    "index = pt.IndexFactory.of(indexref)\n",
    "nrf = NeuralPRFEstimator(index)\n",
    "topics = vaswani_dataset.get_topics()\n",
    "\n",
    "train=topics.sample(frac=0.8,random_state=200) #random state is a seed value\n",
    "test=topics.drop(train.index)\n",
    "# topics=topics[0:2]\n",
    "\n",
    "# train=train[0:10]\n",
    "retr = pt.BatchRetrieve(index, controls = {\"wmodel\": \"TF_IDF\"})\n",
    "retr.setControl(\"wmodel\", \"TF_IDF\")\n",
    "retr.setControls({\"wmodel\": \"TF_IDF\"})\n",
    "\n",
    "res_train=retr.transform(train)\n",
    "qrels = vaswani_dataset.get_qrels()\n",
    "# relevance_dict=nrf.create_relevance(res,qrels)\n",
    "# nrf.relevance_dict = relevance_dict\n",
    "\n",
    "res_test=retr.transform(test)\n"
   ]
  },
  {
   "cell_type": "code",
   "execution_count": 3,
   "metadata": {},
   "outputs": [
    {
     "data": {
      "text/plain": [
       "((74, 2), (19, 2))"
      ]
     },
     "execution_count": 3,
     "metadata": {},
     "output_type": "execute_result"
    }
   ],
   "source": [
    "train.shape, test.shape"
   ]
  },
  {
   "cell_type": "code",
   "execution_count": 4,
   "metadata": {},
   "outputs": [],
   "source": [
    "# relevance_dict=nrf.create_relevance(res_train,qrels)\n",
    "# topk_term_corpus = nrf.top_k(res_train,20)\n",
    "# top_idf_dict = nrf.parse_idf_for_document(relevance_dict,topk_term_corpus,20)\n",
    "        \n"
   ]
  },
  {
   "cell_type": "code",
   "execution_count": 5,
   "metadata": {
    "scrolled": true
   },
   "outputs": [],
   "source": [
    "# nrf.preprocess(res_train, qrels, train, 20)\n",
    "# import os\n",
    "# tempdir = 'data/'\n",
    "# nrf.relevance_file = os.path.join(tempdir, \"relevance.pkl\")\n",
    "# nrf.topk_idf_file = os.path.join(tempdir, \"topk.idf.pkl\" )"
   ]
  },
  {
   "cell_type": "code",
   "execution_count": 6,
   "metadata": {
    "scrolled": true
   },
   "outputs": [
    {
     "name": "stderr",
     "output_type": "stream",
     "text": [
      "2020-07-12 23:21:32,327 : INFO : loading projection weights from data/GoogleNews-vectors-negative300.bin\n",
      "2020-07-12 23:21:52,528 : INFO : loaded (3000000, 300) matrix from data/GoogleNews-vectors-negative300.bin\n"
     ]
    },
    {
     "name": "stdout",
     "output_type": "stream",
     "text": [
      "Finish qid: 1\n",
      "Finish qid: 10\n",
      "Finish qid: 11\n",
      "Finish qid: 13\n",
      "Finish qid: 14\n",
      "Finish qid: 18\n",
      "Finish qid: 19\n",
      "Finish qid: 20\n",
      "Finish qid: 21\n",
      "Finish qid: 22\n",
      "Finish qid: 23\n",
      "Finish qid: 24\n",
      "Finish qid: 25\n",
      "Finish qid: 26\n",
      "Finish qid: 29\n",
      "Finish qid: 3\n",
      "Finish qid: 30\n",
      "Finish qid: 31\n",
      "Finish qid: 32\n",
      "Finish qid: 33\n",
      "Finish qid: 34\n",
      "Finish qid: 35\n",
      "Finish qid: 36\n",
      "Finish qid: 37\n",
      "Finish qid: 38\n",
      "Finish qid: 39\n",
      "Finish qid: 4\n",
      "Finish qid: 40\n",
      "Finish qid: 41\n",
      "Finish qid: 42\n",
      "Finish qid: 44\n",
      "Finish qid: 45\n",
      "Finish qid: 46\n",
      "Finish qid: 47\n",
      "Finish qid: 48\n",
      "Finish qid: 49\n",
      "Finish qid: 5\n",
      "Finish qid: 50\n",
      "Finish qid: 51\n",
      "Finish qid: 53\n",
      "Finish qid: 54\n",
      "Finish qid: 55\n",
      "Finish qid: 59\n",
      "Finish qid: 6\n",
      "Finish qid: 60\n",
      "Finish qid: 61\n",
      "Finish qid: 62\n",
      "Finish qid: 63\n",
      "Finish qid: 64\n",
      "Finish qid: 65\n",
      "Finish qid: 66\n",
      "Finish qid: 67\n",
      "Finish qid: 68\n",
      "Finish qid: 70\n",
      "Finish qid: 71\n",
      "Finish qid: 72\n",
      "Finish qid: 73\n",
      "Finish qid: 75\n",
      "Finish qid: 76\n",
      "Finish qid: 78\n",
      "Finish qid: 79\n",
      "Finish qid: 81\n",
      "Finish qid: 82\n",
      "Finish qid: 83\n",
      "Finish qid: 84\n",
      "Finish qid: 85\n",
      "Finish qid: 86\n",
      "Finish qid: 87\n",
      "Finish qid: 88\n",
      "Finish qid: 89\n",
      "Finish qid: 9\n",
      "Finish qid: 91\n",
      "Finish qid: 92\n",
      "Finish qid: 93\n",
      "Finish all!\n"
     ]
    }
   ],
   "source": [
    "nrf.preprocess(res_train, qrels, train, 20)"
   ]
  },
  {
   "cell_type": "code",
   "execution_count": null,
   "metadata": {},
   "outputs": [],
   "source": []
  },
  {
   "cell_type": "code",
   "execution_count": 7,
   "metadata": {
    "scrolled": true
   },
   "outputs": [
    {
     "name": "stdout",
     "output_type": "stream",
     "text": [
      "WARNING:tensorflow:From /home/saraw/.local/lib/python3.6/site-packages/keras/backend/tensorflow_backend.py:517: The name tf.placeholder is deprecated. Please use tf.compat.v1.placeholder instead.\n",
      "\n"
     ]
    },
    {
     "name": "stderr",
     "output_type": "stream",
     "text": [
      "2020-07-13 01:41:11,475 : WARNING : From /home/saraw/.local/lib/python3.6/site-packages/keras/backend/tensorflow_backend.py:517: The name tf.placeholder is deprecated. Please use tf.compat.v1.placeholder instead.\n",
      "\n"
     ]
    },
    {
     "name": "stdout",
     "output_type": "stream",
     "text": [
      "WARNING:tensorflow:From /home/saraw/.local/lib/python3.6/site-packages/keras/backend/tensorflow_backend.py:4138: The name tf.random_uniform is deprecated. Please use tf.random.uniform instead.\n",
      "\n"
     ]
    },
    {
     "name": "stderr",
     "output_type": "stream",
     "text": [
      "2020-07-13 01:41:11,528 : WARNING : From /home/saraw/.local/lib/python3.6/site-packages/keras/backend/tensorflow_backend.py:4138: The name tf.random_uniform is deprecated. Please use tf.random.uniform instead.\n",
      "\n"
     ]
    },
    {
     "name": "stdout",
     "output_type": "stream",
     "text": [
      "WARNING:tensorflow:From /home/saraw/.local/lib/python3.6/site-packages/keras/backend/tensorflow_backend.py:74: The name tf.get_default_graph is deprecated. Please use tf.compat.v1.get_default_graph instead.\n",
      "\n"
     ]
    },
    {
     "name": "stderr",
     "output_type": "stream",
     "text": [
      "2020-07-13 01:41:11,598 : WARNING : From /home/saraw/.local/lib/python3.6/site-packages/keras/backend/tensorflow_backend.py:74: The name tf.get_default_graph is deprecated. Please use tf.compat.v1.get_default_graph instead.\n",
      "\n"
     ]
    },
    {
     "name": "stdout",
     "output_type": "stream",
     "text": [
      "WARNING:tensorflow:From /mnt/c/Dev/Terrier/model/nprf_drmm.py:66: The name tf.matrix_diag_part is deprecated. Please use tf.linalg.diag_part instead.\n",
      "\n"
     ]
    },
    {
     "name": "stderr",
     "output_type": "stream",
     "text": [
      "2020-07-13 01:41:11,612 : WARNING : From /mnt/c/Dev/Terrier/model/nprf_drmm.py:66: The name tf.matrix_diag_part is deprecated. Please use tf.linalg.diag_part instead.\n",
      "\n",
      "2020-07-13 01:41:11,627 : INFO : Apply doc gating, No dense layer on top, sum up scores\n"
     ]
    },
    {
     "name": "stdout",
     "output_type": "stream",
     "text": [
      "__________________________________________________________________________________________________\n",
      "Layer (type)                    Output Shape         Param #     Connected to                     \n",
      "==================================================================================================\n",
      "dd_d_input (InputLayer)         (None, 20, 20, 10)   0                                            \n",
      "__________________________________________________________________________________________________\n",
      "dd_q_input (InputLayer)         (None, 20, 20, 1)    0                                            \n",
      "__________________________________________________________________________________________________\n",
      "hidden (Dense)                  (None, 20, 20, 5)    55          dd_d_input[0][0]                 \n",
      "__________________________________________________________________________________________________\n",
      "dd_q_gate (Dense)               (None, 20, 20, 1)    1           dd_q_input[0][0]                 \n",
      "__________________________________________________________________________________________________\n",
      "dd_d_gate (Dense)               (None, 20, 20, 1)    6           hidden[0][0]                     \n",
      "__________________________________________________________________________________________________\n",
      "dd_q_softmax (Lambda)           (None, 20, 20)       0           dd_q_gate[0][0]                  \n",
      "__________________________________________________________________________________________________\n",
      "reshape_1 (Reshape)             (None, 20, 20)       0           dd_d_gate[0][0]                  \n",
      "__________________________________________________________________________________________________\n",
      "reshape_2 (Reshape)             (None, 20, 20)       0           dd_q_softmax[0][0]               \n",
      "__________________________________________________________________________________________________\n",
      "dd_pseudo_out (Lambda)          (None, 20, 20)       0           reshape_1[0][0]                  \n",
      "                                                                 reshape_2[0][0]                  \n",
      "__________________________________________________________________________________________________\n",
      "baseline_doc_score (InputLayer) (None, 20, 1)        0                                            \n",
      "__________________________________________________________________________________________________\n",
      "dd_init_out (Lambda)            (None, 20)           0           dd_pseudo_out[0][0]              \n",
      "__________________________________________________________________________________________________\n",
      "dd_gate (Dense)                 (None, 20, 1)        1           baseline_doc_score[0][0]         \n",
      "__________________________________________________________________________________________________\n",
      "reshape_4 (Reshape)             (None, 20)           0           dd_init_out[0][0]                \n",
      "__________________________________________________________________________________________________\n",
      "reshape_3 (Reshape)             (None, 20)           0           dd_gate[0][0]                    \n",
      "__________________________________________________________________________________________________\n",
      "score (Dot)                     (None, 1)            0           reshape_4[0][0]                  \n",
      "                                                                 reshape_3[0][0]                  \n",
      "==================================================================================================\n",
      "Total params: 63\n",
      "Trainable params: 63\n",
      "Non-trainable params: 0\n",
      "__________________________________________________________________________________________________\n",
      "None\n",
      "WARNING:tensorflow:From /home/saraw/.local/lib/python3.6/site-packages/keras/optimizers.py:790: The name tf.train.Optimizer is deprecated. Please use tf.compat.v1.train.Optimizer instead.\n",
      "\n"
     ]
    },
    {
     "name": "stderr",
     "output_type": "stream",
     "text": [
      "2020-07-13 01:41:11,639 : WARNING : From /home/saraw/.local/lib/python3.6/site-packages/keras/optimizers.py:790: The name tf.train.Optimizer is deprecated. Please use tf.compat.v1.train.Optimizer instead.\n",
      "\n"
     ]
    },
    {
     "name": "stdout",
     "output_type": "stream",
     "text": [
      "WARNING:tensorflow:From /mnt/c/Dev/Terrier/Estimator.py:388: The name tf.Session is deprecated. Please use tf.compat.v1.Session instead.\n",
      "\n"
     ]
    },
    {
     "name": "stderr",
     "output_type": "stream",
     "text": [
      "2020-07-13 01:41:11,663 : WARNING : From /mnt/c/Dev/Terrier/Estimator.py:388: The name tf.Session is deprecated. Please use tf.compat.v1.Session instead.\n",
      "\n"
     ]
    },
    {
     "name": "stdout",
     "output_type": "stream",
     "text": [
      "WARNING:tensorflow:From /mnt/c/Dev/Terrier/Estimator.py:388: The name tf.ConfigProto is deprecated. Please use tf.compat.v1.ConfigProto instead.\n",
      "\n"
     ]
    },
    {
     "name": "stderr",
     "output_type": "stream",
     "text": [
      "2020-07-13 01:41:11,665 : WARNING : From /mnt/c/Dev/Terrier/Estimator.py:388: The name tf.ConfigProto is deprecated. Please use tf.compat.v1.ConfigProto instead.\n",
      "\n"
     ]
    },
    {
     "name": "stdout",
     "output_type": "stream",
     "text": [
      "WARNING:tensorflow:From /mnt/c/Dev/Terrier/Estimator.py:388: The name tf.GPUOptions is deprecated. Please use tf.compat.v1.GPUOptions instead.\n",
      "\n"
     ]
    },
    {
     "name": "stderr",
     "output_type": "stream",
     "text": [
      "2020-07-13 01:41:11,666 : WARNING : From /mnt/c/Dev/Terrier/Estimator.py:388: The name tf.GPUOptions is deprecated. Please use tf.compat.v1.GPUOptions instead.\n",
      "\n"
     ]
    },
    {
     "name": "stdout",
     "output_type": "stream",
     "text": [
      "Epoch 0\n",
      "WARNING:tensorflow:From /home/saraw/.local/lib/python3.6/site-packages/tensorflow_core/python/ops/math_grad.py:1424: where (from tensorflow.python.ops.array_ops) is deprecated and will be removed in a future version.\n",
      "Instructions for updating:\n",
      "Use tf.where in 2.0, which has the same broadcast rule as np.where\n"
     ]
    },
    {
     "name": "stderr",
     "output_type": "stream",
     "text": [
      "2020-07-13 01:51:27,222 : WARNING : From /home/saraw/.local/lib/python3.6/site-packages/tensorflow_core/python/ops/math_grad.py:1424: where (from tensorflow.python.ops.array_ops) is deprecated and will be removed in a future version.\n",
      "Instructions for updating:\n",
      "Use tf.where in 2.0, which has the same broadcast rule as np.where\n"
     ]
    },
    {
     "name": "stdout",
     "output_type": "stream",
     "text": [
      "WARNING:tensorflow:From /home/saraw/.local/lib/python3.6/site-packages/keras/backend/tensorflow_backend.py:986: The name tf.assign_add is deprecated. Please use tf.compat.v1.assign_add instead.\n",
      "\n"
     ]
    },
    {
     "name": "stderr",
     "output_type": "stream",
     "text": [
      "2020-07-13 01:51:27,738 : WARNING : From /home/saraw/.local/lib/python3.6/site-packages/keras/backend/tensorflow_backend.py:986: The name tf.assign_add is deprecated. Please use tf.compat.v1.assign_add instead.\n",
      "\n"
     ]
    },
    {
     "name": "stdout",
     "output_type": "stream",
     "text": [
      "WARNING:tensorflow:From /home/saraw/.local/lib/python3.6/site-packages/keras/backend/tensorflow_backend.py:973: The name tf.assign is deprecated. Please use tf.compat.v1.assign instead.\n",
      "\n"
     ]
    },
    {
     "name": "stderr",
     "output_type": "stream",
     "text": [
      "2020-07-13 01:51:28,197 : WARNING : From /home/saraw/.local/lib/python3.6/site-packages/keras/backend/tensorflow_backend.py:973: The name tf.assign is deprecated. Please use tf.compat.v1.assign instead.\n",
      "\n",
      "2020-07-13 01:51:29,584 : INFO : Generate totally 18780 pairs\n"
     ]
    },
    {
     "name": "stdout",
     "output_type": "stream",
     "text": [
      "WARNING:tensorflow:From /home/saraw/.local/lib/python3.6/site-packages/keras/backend/tensorflow_backend.py:174: The name tf.get_default_session is deprecated. Please use tf.compat.v1.get_default_session instead.\n",
      "\n"
     ]
    },
    {
     "name": "stderr",
     "output_type": "stream",
     "text": [
      "2020-07-13 01:51:29,769 : WARNING : From /home/saraw/.local/lib/python3.6/site-packages/keras/backend/tensorflow_backend.py:174: The name tf.get_default_session is deprecated. Please use tf.compat.v1.get_default_session instead.\n",
      "\n"
     ]
    },
    {
     "name": "stdout",
     "output_type": "stream",
     "text": [
      "WARNING:tensorflow:From /home/saraw/.local/lib/python3.6/site-packages/keras/backend/tensorflow_backend.py:190: The name tf.global_variables is deprecated. Please use tf.compat.v1.global_variables instead.\n",
      "\n"
     ]
    },
    {
     "name": "stderr",
     "output_type": "stream",
     "text": [
      "2020-07-13 01:51:29,778 : WARNING : From /home/saraw/.local/lib/python3.6/site-packages/keras/backend/tensorflow_backend.py:190: The name tf.global_variables is deprecated. Please use tf.compat.v1.global_variables instead.\n",
      "\n"
     ]
    },
    {
     "name": "stdout",
     "output_type": "stream",
     "text": [
      "WARNING:tensorflow:From /home/saraw/.local/lib/python3.6/site-packages/keras/backend/tensorflow_backend.py:199: The name tf.is_variable_initialized is deprecated. Please use tf.compat.v1.is_variable_initialized instead.\n",
      "\n"
     ]
    },
    {
     "name": "stderr",
     "output_type": "stream",
     "text": [
      "2020-07-13 01:51:29,797 : WARNING : From /home/saraw/.local/lib/python3.6/site-packages/keras/backend/tensorflow_backend.py:199: The name tf.is_variable_initialized is deprecated. Please use tf.compat.v1.is_variable_initialized instead.\n",
      "\n"
     ]
    },
    {
     "name": "stdout",
     "output_type": "stream",
     "text": [
      "WARNING:tensorflow:From /home/saraw/.local/lib/python3.6/site-packages/keras/backend/tensorflow_backend.py:206: The name tf.variables_initializer is deprecated. Please use tf.compat.v1.variables_initializer instead.\n",
      "\n"
     ]
    },
    {
     "name": "stderr",
     "output_type": "stream",
     "text": [
      "2020-07-13 01:51:30,490 : WARNING : From /home/saraw/.local/lib/python3.6/site-packages/keras/backend/tensorflow_backend.py:206: The name tf.variables_initializer is deprecated. Please use tf.compat.v1.variables_initializer instead.\n",
      "\n"
     ]
    },
    {
     "name": "stdout",
     "output_type": "stream",
     "text": [
      "[Iter 0]\tLoss: [0.994414917230606]\n",
      "[Valid]\t\tMAP\tP20\tNDCG20\n",
      "\t\t0.0766\t0.0667\t0.0941\n",
      "[Iter 1]\tLoss: [0.9184169507026673]\n",
      "[Valid]\t\tMAP\tP20\tNDCG20\n",
      "\t\t0.0779\t0.0733\t0.0999\n",
      "[Iter 2]\tLoss: [0.8284255945682526]\n",
      "[Valid]\t\tMAP\tP20\tNDCG20\n",
      "\t\t0.0812\t0.0767\t0.1035\n",
      "[Iter 3]\tLoss: [0.7845514217019081]\n",
      "[Valid]\t\tMAP\tP20\tNDCG20\n",
      "\t\t0.0864\t0.0833\t0.1138\n",
      "[Iter 4]\tLoss: [0.7563348060846329]\n",
      "[Valid]\t\tMAP\tP20\tNDCG20\n",
      "\t\t0.0988\t0.1033\t0.1343\n",
      "[Iter 5]\tLoss: [0.6339496803283692]\n",
      "[Valid]\t\tMAP\tP20\tNDCG20\n",
      "\t\t0.1220\t0.1367\t0.1705\n",
      "[Iter 6]\tLoss: [0.5647750464081764]\n",
      "[Valid]\t\tMAP\tP20\tNDCG20\n",
      "\t\t0.2002\t0.2233\t0.2969\n",
      "[Iter 7]\tLoss: [0.46281842075288293]\n",
      "[Valid]\t\tMAP\tP20\tNDCG20\n",
      "\t\t0.2239\t0.2633\t0.3352\n",
      "[Iter 8]\tLoss: [0.3852164363861084]\n",
      "[Valid]\t\tMAP\tP20\tNDCG20\n",
      "\t\t0.2361\t0.2667\t0.3502\n",
      "Epoch 1\n"
     ]
    },
    {
     "name": "stderr",
     "output_type": "stream",
     "text": [
      "2020-07-13 10:15:35,557 : INFO : Generate totally 18780 pairs\n"
     ]
    },
    {
     "name": "stdout",
     "output_type": "stream",
     "text": [
      "[Iter 9]\tLoss: [0.35762834951281547]\n",
      "[Valid]\t\tMAP\tP20\tNDCG20\n",
      "\t\t0.2690\t0.2933\t0.3913\n",
      "[Iter 10]\tLoss: [0.38165215998888014]\n",
      "[Valid]\t\tMAP\tP20\tNDCG20\n",
      "\t\t0.2733\t0.3000\t0.3961\n",
      "[Iter 11]\tLoss: [0.34559365529567004]\n",
      "[Valid]\t\tMAP\tP20\tNDCG20\n",
      "\t\t0.2750\t0.3033\t0.4008\n",
      "[Iter 12]\tLoss: [0.36408099871128796]\n",
      "[Valid]\t\tMAP\tP20\tNDCG20\n",
      "\t\t0.2806\t0.3067\t0.4065\n",
      "[Iter 13]\tLoss: [0.31922280121594665]\n",
      "[Valid]\t\tMAP\tP20\tNDCG20\n",
      "\t\t0.2677\t0.2967\t0.3944\n",
      "[Iter 14]\tLoss: [0.36882311768829823]\n",
      "[Valid]\t\tMAP\tP20\tNDCG20\n",
      "\t\t0.2686\t0.3000\t0.3968\n",
      "[Iter 15]\tLoss: [0.33269789107143877]\n",
      "[Valid]\t\tMAP\tP20\tNDCG20\n",
      "\t\t0.2871\t0.3133\t0.4171\n",
      "[Iter 16]\tLoss: [0.3493615859001875]\n",
      "[Valid]\t\tMAP\tP20\tNDCG20\n",
      "\t\t0.2757\t0.3100\t0.4071\n",
      "[Iter 17]\tLoss: [0.34342207595705987]\n"
     ]
    },
    {
     "name": "stderr",
     "output_type": "stream",
     "text": [
      "2020-07-13 10:17:12,542 : INFO : Generate totally 18780 pairs\n"
     ]
    },
    {
     "name": "stdout",
     "output_type": "stream",
     "text": [
      "[Valid]\t\tMAP\tP20\tNDCG20\n",
      "\t\t0.2871\t0.3100\t0.4142\n",
      "Epoch 2\n",
      "[Iter 18]\tLoss: [0.3427096199709922]\n",
      "[Valid]\t\tMAP\tP20\tNDCG20\n",
      "\t\t0.2730\t0.3033\t0.4005\n",
      "[Iter 19]\tLoss: [0.3351000624150038]\n",
      "[Valid]\t\tMAP\tP20\tNDCG20\n",
      "\t\t0.2834\t0.3100\t0.4097\n",
      "[Iter 20]\tLoss: [0.3214652882516384]\n",
      "[Valid]\t\tMAP\tP20\tNDCG20\n",
      "\t\t0.2858\t0.3167\t0.4178\n",
      "[Iter 21]\tLoss: [0.31135507161729037]\n",
      "[Valid]\t\tMAP\tP20\tNDCG20\n",
      "\t\t0.2827\t0.3067\t0.4087\n",
      "[Iter 22]\tLoss: [0.33388487037271264]\n",
      "[Valid]\t\tMAP\tP20\tNDCG20\n",
      "\t\t0.2841\t0.3067\t0.4088\n",
      "[Iter 23]\tLoss: [0.32988667279481887]\n",
      "[Valid]\t\tMAP\tP20\tNDCG20\n",
      "\t\t0.2871\t0.3200\t0.4190\n",
      "[Iter 24]\tLoss: [0.3207505311630666]\n",
      "[Valid]\t\tMAP\tP20\tNDCG20\n",
      "\t\t0.2869\t0.3200\t0.4197\n",
      "[Iter 25]\tLoss: [0.32255629800260066]\n",
      "[Valid]\t\tMAP\tP20\tNDCG20\n",
      "\t\t0.2773\t0.3100\t0.4078\n",
      "[Iter 26]\tLoss: [0.32548178143799306]\n"
     ]
    },
    {
     "name": "stderr",
     "output_type": "stream",
     "text": [
      "2020-07-13 10:18:33,068 : INFO : Generate totally 18780 pairs\n"
     ]
    },
    {
     "name": "stdout",
     "output_type": "stream",
     "text": [
      "[Valid]\t\tMAP\tP20\tNDCG20\n",
      "\t\t0.2787\t0.3100\t0.4086\n",
      "Epoch 3\n",
      "[Iter 27]\tLoss: [0.33435296460986136]\n",
      "[Valid]\t\tMAP\tP20\tNDCG20\n",
      "\t\t0.2868\t0.3167\t0.4156\n",
      "[Iter 28]\tLoss: [0.307424330720678]\n",
      "[Valid]\t\tMAP\tP20\tNDCG20\n",
      "\t\t0.2855\t0.3100\t0.4106\n",
      "[Iter 29]\tLoss: [0.3661146382056177]\n",
      "[Valid]\t\tMAP\tP20\tNDCG20\n",
      "\t\t0.2857\t0.3100\t0.4105\n",
      "[Iter 30]\tLoss: [0.32469076886773107]\n",
      "[Valid]\t\tMAP\tP20\tNDCG20\n",
      "\t\t0.2853\t0.3067\t0.4086\n",
      "[Iter 31]\tLoss: [0.3154861425375566]\n",
      "[Valid]\t\tMAP\tP20\tNDCG20\n",
      "\t\t0.2859\t0.3100\t0.4108\n",
      "[Iter 32]\tLoss: [0.3270215499587357]\n",
      "[Valid]\t\tMAP\tP20\tNDCG20\n",
      "\t\t0.2871\t0.3167\t0.4185\n",
      "[Iter 33]\tLoss: [0.3160684329643846]\n",
      "[Valid]\t\tMAP\tP20\tNDCG20\n",
      "\t\t0.2734\t0.3067\t0.4037\n",
      "[Iter 34]\tLoss: [0.31836392998695373]\n",
      "[Valid]\t\tMAP\tP20\tNDCG20\n",
      "\t\t0.2788\t0.3067\t0.4063\n",
      "[Iter 35]\tLoss: [0.3069819835945964]\n"
     ]
    },
    {
     "name": "stderr",
     "output_type": "stream",
     "text": [
      "2020-07-13 10:19:59,253 : INFO : Generate totally 18780 pairs\n"
     ]
    },
    {
     "name": "stdout",
     "output_type": "stream",
     "text": [
      "[Valid]\t\tMAP\tP20\tNDCG20\n",
      "\t\t0.2809\t0.3100\t0.4088\n",
      "Epoch 4\n",
      "[Iter 36]\tLoss: [0.3174363071843982]\n",
      "[Valid]\t\tMAP\tP20\tNDCG20\n",
      "\t\t0.2788\t0.3067\t0.4061\n",
      "[Iter 37]\tLoss: [0.3177436910942197]\n",
      "[Valid]\t\tMAP\tP20\tNDCG20\n",
      "\t\t0.2817\t0.3100\t0.4090\n",
      "[Iter 38]\tLoss: [0.35187109392136334]\n",
      "[Valid]\t\tMAP\tP20\tNDCG20\n",
      "\t\t0.2912\t0.3167\t0.4205\n",
      "[Iter 39]\tLoss: [0.31336200041696427]\n",
      "[Valid]\t\tMAP\tP20\tNDCG20\n",
      "\t\t0.2913\t0.3167\t0.4204\n",
      "[Iter 40]\tLoss: [0.3150897707790136]\n",
      "[Valid]\t\tMAP\tP20\tNDCG20\n",
      "\t\t0.2939\t0.3167\t0.4224\n",
      "[Iter 41]\tLoss: [0.3351631192117929]\n",
      "[Valid]\t\tMAP\tP20\tNDCG20\n",
      "\t\t0.2709\t0.3067\t0.4048\n",
      "[Iter 42]\tLoss: [0.34542807321995495]\n",
      "[Valid]\t\tMAP\tP20\tNDCG20\n",
      "\t\t0.2903\t0.3200\t0.4215\n",
      "[Iter 43]\tLoss: [0.3353692217171192]\n",
      "[Valid]\t\tMAP\tP20\tNDCG20\n",
      "\t\t0.2972\t0.3300\t0.4335\n",
      "[Iter 44]\tLoss: [0.3220389548316598]\n"
     ]
    },
    {
     "name": "stderr",
     "output_type": "stream",
     "text": [
      "2020-07-13 10:21:20,268 : INFO : Generate totally 18780 pairs\n"
     ]
    },
    {
     "name": "stdout",
     "output_type": "stream",
     "text": [
      "[Valid]\t\tMAP\tP20\tNDCG20\n",
      "\t\t0.2930\t0.3233\t0.4255\n",
      "Epoch 5\n",
      "[Iter 45]\tLoss: [0.3370850847661495]\n",
      "[Valid]\t\tMAP\tP20\tNDCG20\n",
      "\t\t0.2884\t0.3267\t0.4246\n",
      "[Iter 46]\tLoss: [0.3194859781116247]\n",
      "[Valid]\t\tMAP\tP20\tNDCG20\n",
      "\t\t0.2885\t0.3233\t0.4224\n",
      "[Iter 47]\tLoss: [0.35548680581152436]\n",
      "[Valid]\t\tMAP\tP20\tNDCG20\n",
      "\t\t0.2864\t0.3200\t0.4202\n",
      "[Iter 48]\tLoss: [0.305681286547333]\n",
      "[Valid]\t\tMAP\tP20\tNDCG20\n",
      "\t\t0.2796\t0.3133\t0.4085\n",
      "[Iter 49]\tLoss: [0.31596867272630336]\n",
      "[Valid]\t\tMAP\tP20\tNDCG20\n",
      "\t\t0.2887\t0.3267\t0.4259\n",
      "[Iter 50]\tLoss: [0.3285673766210675]\n",
      "[Valid]\t\tMAP\tP20\tNDCG20\n",
      "\t\t0.2973\t0.3300\t0.4370\n",
      "[Iter 51]\tLoss: [0.32904469229280947]\n",
      "[Valid]\t\tMAP\tP20\tNDCG20\n",
      "\t\t0.2881\t0.3267\t0.4253\n",
      "[Iter 52]\tLoss: [0.3194920259714127]\n",
      "[Valid]\t\tMAP\tP20\tNDCG20\n",
      "\t\t0.2791\t0.3133\t0.4084\n",
      "[Iter 53]\tLoss: [0.3015851612761617]\n"
     ]
    },
    {
     "name": "stderr",
     "output_type": "stream",
     "text": [
      "2020-07-13 10:22:41,628 : INFO : Generate totally 18780 pairs\n"
     ]
    },
    {
     "name": "stdout",
     "output_type": "stream",
     "text": [
      "[Valid]\t\tMAP\tP20\tNDCG20\n",
      "\t\t0.2967\t0.3300\t0.4366\n",
      "Epoch 6\n",
      "[Iter 54]\tLoss: [0.3391295889765024]\n",
      "[Valid]\t\tMAP\tP20\tNDCG20\n",
      "\t\t0.2929\t0.3267\t0.4306\n",
      "[Iter 55]\tLoss: [0.3309795591980219]\n",
      "[Valid]\t\tMAP\tP20\tNDCG20\n",
      "\t\t0.3040\t0.3367\t0.4456\n",
      "[Iter 56]\tLoss: [0.3190607809461653]\n",
      "[Valid]\t\tMAP\tP20\tNDCG20\n",
      "\t\t0.2809\t0.3100\t0.4067\n",
      "[Iter 57]\tLoss: [0.33725355841219423]\n",
      "[Valid]\t\tMAP\tP20\tNDCG20\n",
      "\t\t0.2960\t0.3300\t0.4356\n",
      "[Iter 58]\tLoss: [0.378223297894001]\n",
      "[Valid]\t\tMAP\tP20\tNDCG20\n",
      "\t\t0.3027\t0.3367\t0.4445\n",
      "[Iter 59]\tLoss: [0.3100905043631792]\n",
      "[Valid]\t\tMAP\tP20\tNDCG20\n",
      "\t\t0.2964\t0.3267\t0.4333\n",
      "[Iter 60]\tLoss: [0.33395823888480664]\n",
      "[Valid]\t\tMAP\tP20\tNDCG20\n",
      "\t\t0.2988\t0.3300\t0.4374\n",
      "[Iter 61]\tLoss: [0.34052952356636523]\n",
      "[Valid]\t\tMAP\tP20\tNDCG20\n",
      "\t\t0.2985\t0.3300\t0.4369\n",
      "[Iter 62]\tLoss: [0.31640221044421196]\n"
     ]
    },
    {
     "name": "stderr",
     "output_type": "stream",
     "text": [
      "2020-07-13 10:24:05,842 : INFO : Generate totally 18780 pairs\n"
     ]
    },
    {
     "name": "stdout",
     "output_type": "stream",
     "text": [
      "[Valid]\t\tMAP\tP20\tNDCG20\n",
      "\t\t0.2993\t0.3333\t0.4397\n",
      "Epoch 7\n",
      "[Iter 63]\tLoss: [0.29892799027264116]\n",
      "[Valid]\t\tMAP\tP20\tNDCG20\n",
      "\t\t0.2963\t0.3300\t0.4350\n",
      "[Iter 64]\tLoss: [0.3109245306253433]\n",
      "[Valid]\t\tMAP\tP20\tNDCG20\n",
      "\t\t0.2799\t0.3100\t0.4070\n",
      "[Iter 65]\tLoss: [0.32564432417508216]\n",
      "[Valid]\t\tMAP\tP20\tNDCG20\n",
      "\t\t0.2802\t0.3133\t0.4081\n",
      "[Iter 66]\tLoss: [0.33295024126768114]\n",
      "[Valid]\t\tMAP\tP20\tNDCG20\n",
      "\t\t0.2968\t0.3267\t0.4335\n",
      "[Iter 67]\tLoss: [0.3505041620507836]\n",
      "[Valid]\t\tMAP\tP20\tNDCG20\n",
      "\t\t0.2894\t0.3167\t0.4197\n",
      "[Iter 68]\tLoss: [0.32665411300957203]\n",
      "[Valid]\t\tMAP\tP20\tNDCG20\n",
      "\t\t0.2952\t0.3233\t0.4274\n",
      "[Iter 69]\tLoss: [0.34393297027796504]\n",
      "[Valid]\t\tMAP\tP20\tNDCG20\n",
      "\t\t0.3000\t0.3333\t0.4403\n",
      "[Iter 70]\tLoss: [0.32136518508195877]\n",
      "[Valid]\t\tMAP\tP20\tNDCG20\n",
      "\t\t0.3023\t0.3333\t0.4418\n",
      "[Iter 71]\tLoss: [0.29893638225272295]\n"
     ]
    },
    {
     "name": "stderr",
     "output_type": "stream",
     "text": [
      "2020-07-13 10:25:27,448 : INFO : Generate totally 18780 pairs\n"
     ]
    },
    {
     "name": "stdout",
     "output_type": "stream",
     "text": [
      "[Valid]\t\tMAP\tP20\tNDCG20\n",
      "\t\t0.2975\t0.3300\t0.4364\n",
      "Epoch 8\n",
      "[Iter 72]\tLoss: [0.3157910268753767]\n",
      "[Valid]\t\tMAP\tP20\tNDCG20\n",
      "\t\t0.3018\t0.3400\t0.4456\n",
      "[Iter 73]\tLoss: [0.31688460882753133]\n",
      "[Valid]\t\tMAP\tP20\tNDCG20\n",
      "\t\t0.2855\t0.3167\t0.4180\n",
      "[Iter 74]\tLoss: [0.3435129360109568]\n",
      "[Valid]\t\tMAP\tP20\tNDCG20\n",
      "\t\t0.2953\t0.3233\t0.4281\n",
      "[Iter 75]\tLoss: [0.28815892443060875]\n",
      "[Valid]\t\tMAP\tP20\tNDCG20\n",
      "\t\t0.2952\t0.3267\t0.4330\n",
      "[Iter 76]\tLoss: [0.31282508045434954]\n",
      "[Valid]\t\tMAP\tP20\tNDCG20\n",
      "\t\t0.2972\t0.3300\t0.4360\n",
      "[Iter 77]\tLoss: [0.3065714680030942]\n",
      "[Valid]\t\tMAP\tP20\tNDCG20\n",
      "\t\t0.2848\t0.3167\t0.4177\n",
      "[Iter 78]\tLoss: [0.34087874062359336]\n",
      "[Valid]\t\tMAP\tP20\tNDCG20\n",
      "\t\t0.2912\t0.3267\t0.4277\n",
      "[Iter 79]\tLoss: [0.32634046755032614]\n",
      "[Valid]\t\tMAP\tP20\tNDCG20\n",
      "\t\t0.2855\t0.3167\t0.4183\n",
      "[Iter 80]\tLoss: [0.3323514915537089]\n"
     ]
    },
    {
     "name": "stderr",
     "output_type": "stream",
     "text": [
      "2020-07-13 10:26:48,236 : INFO : Generate totally 18780 pairs\n"
     ]
    },
    {
     "name": "stdout",
     "output_type": "stream",
     "text": [
      "[Valid]\t\tMAP\tP20\tNDCG20\n",
      "\t\t0.2993\t0.3333\t0.4394\n",
      "Epoch 9\n",
      "[Iter 81]\tLoss: [0.2773408441618085]\n",
      "[Valid]\t\tMAP\tP20\tNDCG20\n",
      "\t\t0.3002\t0.3333\t0.4400\n",
      "[Iter 82]\tLoss: [0.32170399397611615]\n",
      "[Valid]\t\tMAP\tP20\tNDCG20\n",
      "\t\t0.2938\t0.3333\t0.4353\n",
      "[Iter 83]\tLoss: [0.3120106376335025]\n",
      "[Valid]\t\tMAP\tP20\tNDCG20\n",
      "\t\t0.2921\t0.3333\t0.4348\n",
      "[Iter 84]\tLoss: [0.3042017122358084]\n",
      "[Valid]\t\tMAP\tP20\tNDCG20\n",
      "\t\t0.2919\t0.3300\t0.4296\n",
      "[Iter 85]\tLoss: [0.32561884738504887]\n",
      "[Valid]\t\tMAP\tP20\tNDCG20\n",
      "\t\t0.2946\t0.3333\t0.4360\n",
      "[Iter 86]\tLoss: [0.3173708760738373]\n",
      "[Valid]\t\tMAP\tP20\tNDCG20\n",
      "\t\t0.3009\t0.3367\t0.4422\n",
      "[Iter 87]\tLoss: [0.3173633581399918]\n",
      "[Valid]\t\tMAP\tP20\tNDCG20\n",
      "\t\t0.3001\t0.3333\t0.4397\n",
      "[Iter 88]\tLoss: [0.322885790579021]\n",
      "[Valid]\t\tMAP\tP20\tNDCG20\n",
      "\t\t0.2938\t0.3333\t0.4352\n",
      "[Iter 89]\tLoss: [0.30772528214845807]\n"
     ]
    },
    {
     "name": "stderr",
     "output_type": "stream",
     "text": [
      "2020-07-13 10:28:10,037 : INFO : Generate totally 18780 pairs\n"
     ]
    },
    {
     "name": "stdout",
     "output_type": "stream",
     "text": [
      "[Valid]\t\tMAP\tP20\tNDCG20\n",
      "\t\t0.2854\t0.3200\t0.4199\n",
      "Epoch 10\n",
      "[Iter 90]\tLoss: [0.3069698087312281]\n",
      "[Valid]\t\tMAP\tP20\tNDCG20\n",
      "\t\t0.3013\t0.3367\t0.4427\n",
      "[Iter 91]\tLoss: [0.3168709347397089]\n",
      "[Valid]\t\tMAP\tP20\tNDCG20\n",
      "\t\t0.2945\t0.3333\t0.4363\n",
      "[Iter 92]\tLoss: [0.287974484693259]\n",
      "[Valid]\t\tMAP\tP20\tNDCG20\n",
      "\t\t0.3028\t0.3400\t0.4462\n",
      "[Iter 93]\tLoss: [0.2976715191081166]\n",
      "[Valid]\t\tMAP\tP20\tNDCG20\n",
      "\t\t0.2903\t0.3233\t0.4279\n",
      "[Iter 94]\tLoss: [0.325734029635787]\n",
      "[Valid]\t\tMAP\tP20\tNDCG20\n",
      "\t\t0.2926\t0.3333\t0.4349\n",
      "[Iter 95]\tLoss: [0.29762336999177935]\n",
      "[Valid]\t\tMAP\tP20\tNDCG20\n",
      "\t\t0.2843\t0.3167\t0.4160\n",
      "[Iter 96]\tLoss: [0.32569739760365335]\n",
      "[Valid]\t\tMAP\tP20\tNDCG20\n",
      "\t\t0.3002\t0.3367\t0.4421\n",
      "[Iter 97]\tLoss: [0.33024253137409687]\n",
      "[Valid]\t\tMAP\tP20\tNDCG20\n",
      "\t\t0.2924\t0.3300\t0.4327\n",
      "[Iter 98]\tLoss: [0.31378309227526185]\n"
     ]
    },
    {
     "name": "stderr",
     "output_type": "stream",
     "text": [
      "2020-07-13 10:29:31,407 : INFO : Generate totally 18780 pairs\n"
     ]
    },
    {
     "name": "stdout",
     "output_type": "stream",
     "text": [
      "[Valid]\t\tMAP\tP20\tNDCG20\n",
      "\t\t0.2886\t0.3200\t0.4219\n",
      "Epoch 11\n",
      "[Iter 99]\tLoss: [0.32273858014494183]\n",
      "[Valid]\t\tMAP\tP20\tNDCG20\n",
      "\t\t0.2802\t0.3167\t0.4146\n",
      "[Iter 100]\tLoss: [0.2829370739869773]\n",
      "[Valid]\t\tMAP\tP20\tNDCG20\n",
      "\t\t0.2937\t0.3333\t0.4358\n",
      "[Iter 101]\tLoss: [0.30863120809197425]\n",
      "[Valid]\t\tMAP\tP20\tNDCG20\n",
      "\t\t0.2992\t0.3333\t0.4396\n",
      "[Iter 102]\tLoss: [0.3141202804259956]\n",
      "[Valid]\t\tMAP\tP20\tNDCG20\n",
      "\t\t0.2883\t0.3200\t0.4219\n",
      "[Iter 103]\tLoss: [0.35998865894973275]\n",
      "[Valid]\t\tMAP\tP20\tNDCG20\n",
      "\t\t0.2937\t0.3333\t0.4357\n",
      "[Iter 104]\tLoss: [0.3195991858839989]\n",
      "[Valid]\t\tMAP\tP20\tNDCG20\n",
      "\t\t0.2925\t0.3333\t0.4351\n",
      "[Iter 105]\tLoss: [0.3049050676333718]\n",
      "[Valid]\t\tMAP\tP20\tNDCG20\n",
      "\t\t0.2947\t0.3333\t0.4366\n",
      "[Iter 106]\tLoss: [0.31526116020977496]\n",
      "[Valid]\t\tMAP\tP20\tNDCG20\n",
      "\t\t0.2960\t0.3333\t0.4374\n",
      "[Iter 107]\tLoss: [0.3346708891913295]\n"
     ]
    },
    {
     "name": "stderr",
     "output_type": "stream",
     "text": [
      "2020-07-13 10:30:58,505 : INFO : Generate totally 18780 pairs\n"
     ]
    },
    {
     "name": "stdout",
     "output_type": "stream",
     "text": [
      "[Valid]\t\tMAP\tP20\tNDCG20\n",
      "\t\t0.2961\t0.3367\t0.4397\n",
      "Epoch 12\n",
      "[Iter 108]\tLoss: [0.31903718739748]\n",
      "[Valid]\t\tMAP\tP20\tNDCG20\n",
      "\t\t0.3013\t0.3367\t0.4427\n",
      "[Iter 109]\tLoss: [0.321994655802846]\n",
      "[Valid]\t\tMAP\tP20\tNDCG20\n",
      "\t\t0.2957\t0.3367\t0.4390\n",
      "[Iter 110]\tLoss: [0.3034503906406462]\n",
      "[Valid]\t\tMAP\tP20\tNDCG20\n",
      "\t\t0.2842\t0.3200\t0.4188\n",
      "[Iter 111]\tLoss: [0.3102054554410279]\n",
      "[Valid]\t\tMAP\tP20\tNDCG20\n",
      "\t\t0.2951\t0.3333\t0.4365\n",
      "[Iter 112]\tLoss: [0.3471614880859852]\n",
      "[Valid]\t\tMAP\tP20\tNDCG20\n",
      "\t\t0.2951\t0.3333\t0.4366\n",
      "[Iter 113]\tLoss: [0.32235787354409695]\n",
      "[Valid]\t\tMAP\tP20\tNDCG20\n",
      "\t\t0.3020\t0.3367\t0.4430\n",
      "[Iter 114]\tLoss: [0.31953024834394456]\n",
      "[Valid]\t\tMAP\tP20\tNDCG20\n",
      "\t\t0.2958\t0.3333\t0.4370\n",
      "[Iter 115]\tLoss: [0.28161292005330324]\n",
      "[Valid]\t\tMAP\tP20\tNDCG20\n",
      "\t\t0.2937\t0.3333\t0.4351\n",
      "[Iter 116]\tLoss: [0.3185946375131607]\n"
     ]
    },
    {
     "name": "stderr",
     "output_type": "stream",
     "text": [
      "2020-07-13 10:32:22,716 : INFO : Generate totally 18780 pairs\n"
     ]
    },
    {
     "name": "stdout",
     "output_type": "stream",
     "text": [
      "[Valid]\t\tMAP\tP20\tNDCG20\n",
      "\t\t0.2848\t0.3167\t0.4136\n",
      "Epoch 13\n",
      "[Iter 117]\tLoss: [0.3117731352709234]\n",
      "[Valid]\t\tMAP\tP20\tNDCG20\n",
      "\t\t0.2871\t0.3267\t0.4239\n",
      "[Iter 118]\tLoss: [0.3161619309335947]\n",
      "[Valid]\t\tMAP\tP20\tNDCG20\n",
      "\t\t0.2950\t0.3333\t0.4336\n",
      "[Iter 119]\tLoss: [0.3474485352821648]\n",
      "[Valid]\t\tMAP\tP20\tNDCG20\n",
      "\t\t0.2924\t0.3300\t0.4301\n",
      "[Iter 120]\tLoss: [0.3142274818941951]\n",
      "[Valid]\t\tMAP\tP20\tNDCG20\n",
      "\t\t0.2946\t0.3333\t0.4334\n",
      "[Iter 121]\tLoss: [0.32635748133063314]\n",
      "[Valid]\t\tMAP\tP20\tNDCG20\n",
      "\t\t0.2939\t0.3333\t0.4326\n",
      "[Iter 122]\tLoss: [0.31693449907004834]\n",
      "[Valid]\t\tMAP\tP20\tNDCG20\n",
      "\t\t0.2815\t0.3133\t0.4093\n",
      "[Iter 123]\tLoss: [0.3255542888492346]\n",
      "[Valid]\t\tMAP\tP20\tNDCG20\n",
      "\t\t0.2830\t0.3133\t0.4104\n",
      "[Iter 124]\tLoss: [0.31095506582409144]\n",
      "[Valid]\t\tMAP\tP20\tNDCG20\n",
      "\t\t0.2938\t0.3333\t0.4353\n",
      "[Iter 125]\tLoss: [0.3122052112966776]\n"
     ]
    },
    {
     "name": "stderr",
     "output_type": "stream",
     "text": [
      "2020-07-13 10:33:45,262 : INFO : Generate totally 18780 pairs\n"
     ]
    },
    {
     "name": "stdout",
     "output_type": "stream",
     "text": [
      "[Valid]\t\tMAP\tP20\tNDCG20\n",
      "\t\t0.2921\t0.3267\t0.4304\n",
      "Epoch 14\n",
      "[Iter 126]\tLoss: [0.29886177049949764]\n",
      "[Valid]\t\tMAP\tP20\tNDCG20\n",
      "\t\t0.2945\t0.3333\t0.4359\n",
      "[Iter 127]\tLoss: [0.32277839004993436]\n",
      "[Valid]\t\tMAP\tP20\tNDCG20\n",
      "\t\t0.2969\t0.3333\t0.4376\n",
      "[Iter 128]\tLoss: [0.3047584401303902]\n",
      "[Valid]\t\tMAP\tP20\tNDCG20\n",
      "\t\t0.2963\t0.3333\t0.4373\n",
      "[Iter 129]\tLoss: [0.31456647399812937]\n",
      "[Valid]\t\tMAP\tP20\tNDCG20\n",
      "\t\t0.2870\t0.3200\t0.4203\n",
      "[Iter 130]\tLoss: [0.31321397637948395]\n",
      "[Valid]\t\tMAP\tP20\tNDCG20\n",
      "\t\t0.2929\t0.3300\t0.4329\n",
      "[Iter 131]\tLoss: [0.3001489469781518]\n",
      "[Valid]\t\tMAP\tP20\tNDCG20\n",
      "\t\t0.2971\t0.3367\t0.4400\n",
      "[Iter 132]\tLoss: [0.32455537844449284]\n",
      "[Valid]\t\tMAP\tP20\tNDCG20\n",
      "\t\t0.2921\t0.3300\t0.4298\n",
      "[Iter 133]\tLoss: [0.3344548493484035]\n",
      "[Valid]\t\tMAP\tP20\tNDCG20\n",
      "\t\t0.2957\t0.3333\t0.4370\n",
      "[Iter 134]\tLoss: [0.3193818297982216]\n"
     ]
    },
    {
     "name": "stderr",
     "output_type": "stream",
     "text": [
      "2020-07-13 10:35:06,964 : INFO : Generate totally 18780 pairs\n"
     ]
    },
    {
     "name": "stdout",
     "output_type": "stream",
     "text": [
      "[Valid]\t\tMAP\tP20\tNDCG20\n",
      "\t\t0.2951\t0.3333\t0.4365\n",
      "Epoch 15\n",
      "[Iter 135]\tLoss: [0.2929948195628822]\n",
      "[Valid]\t\tMAP\tP20\tNDCG20\n",
      "\t\t0.2951\t0.3333\t0.4368\n",
      "[Iter 136]\tLoss: [0.3145125334523618]\n",
      "[Valid]\t\tMAP\tP20\tNDCG20\n",
      "\t\t0.2871\t0.3200\t0.4203\n",
      "[Iter 137]\tLoss: [0.31947868891060355]\n",
      "[Valid]\t\tMAP\tP20\tNDCG20\n",
      "\t\t0.3038\t0.3433\t0.4480\n",
      "[Iter 138]\tLoss: [0.3354650032892823]\n",
      "[Valid]\t\tMAP\tP20\tNDCG20\n",
      "\t\t0.2954\t0.3333\t0.4367\n",
      "[Iter 139]\tLoss: [0.33484209679067134]\n",
      "[Valid]\t\tMAP\tP20\tNDCG20\n",
      "\t\t0.2971\t0.3367\t0.4399\n",
      "[Iter 140]\tLoss: [0.3089787472598255]\n",
      "[Valid]\t\tMAP\tP20\tNDCG20\n",
      "\t\t0.2909\t0.3333\t0.4312\n",
      "[Iter 141]\tLoss: [0.30998350130394103]\n",
      "[Valid]\t\tMAP\tP20\tNDCG20\n",
      "\t\t0.2920\t0.3333\t0.4347\n",
      "[Iter 142]\tLoss: [0.32010071627795694]\n",
      "[Valid]\t\tMAP\tP20\tNDCG20\n",
      "\t\t0.2867\t0.3233\t0.4223\n",
      "[Iter 143]\tLoss: [0.31851132661104203]\n"
     ]
    },
    {
     "name": "stderr",
     "output_type": "stream",
     "text": [
      "2020-07-13 10:36:29,644 : INFO : Generate totally 18780 pairs\n"
     ]
    },
    {
     "name": "stdout",
     "output_type": "stream",
     "text": [
      "[Valid]\t\tMAP\tP20\tNDCG20\n",
      "\t\t0.2875\t0.3300\t0.4269\n",
      "Epoch 16\n",
      "[Iter 144]\tLoss: [0.33375117983669045]\n",
      "[Valid]\t\tMAP\tP20\tNDCG20\n",
      "\t\t0.2867\t0.3233\t0.4222\n",
      "[Iter 145]\tLoss: [0.3120578084141016]\n",
      "[Valid]\t\tMAP\tP20\tNDCG20\n",
      "\t\t0.2964\t0.3367\t0.4394\n",
      "[Iter 146]\tLoss: [0.34092482563108206]\n",
      "[Valid]\t\tMAP\tP20\tNDCG20\n",
      "\t\t0.2875\t0.3333\t0.4287\n",
      "[Iter 147]\tLoss: [0.30919845283031466]\n",
      "[Valid]\t\tMAP\tP20\tNDCG20\n",
      "\t\t0.2953\t0.3367\t0.4362\n",
      "[Iter 148]\tLoss: [0.3209678607806563]\n",
      "[Valid]\t\tMAP\tP20\tNDCG20\n",
      "\t\t0.2924\t0.3333\t0.4318\n",
      "[Iter 149]\tLoss: [0.3219550077617168]\n",
      "[Valid]\t\tMAP\tP20\tNDCG20\n",
      "\t\t0.2826\t0.3167\t0.4119\n",
      "[Iter 150]\tLoss: [0.31778195802122355]\n",
      "[Valid]\t\tMAP\tP20\tNDCG20\n",
      "\t\t0.2862\t0.3200\t0.4168\n",
      "[Iter 151]\tLoss: [0.3221432633325458]\n",
      "[Valid]\t\tMAP\tP20\tNDCG20\n",
      "\t\t0.2974\t0.3367\t0.4396\n",
      "[Iter 152]\tLoss: [0.3028104758262634]\n"
     ]
    },
    {
     "name": "stderr",
     "output_type": "stream",
     "text": [
      "2020-07-13 10:37:51,694 : INFO : Generate totally 18780 pairs\n"
     ]
    },
    {
     "name": "stdout",
     "output_type": "stream",
     "text": [
      "[Valid]\t\tMAP\tP20\tNDCG20\n",
      "\t\t0.2968\t0.3367\t0.4397\n",
      "Epoch 17\n",
      "[Iter 153]\tLoss: [0.31817228004336356]\n",
      "[Valid]\t\tMAP\tP20\tNDCG20\n",
      "\t\t0.2864\t0.3233\t0.4218\n",
      "[Iter 154]\tLoss: [0.31433590691536667]\n",
      "[Valid]\t\tMAP\tP20\tNDCG20\n",
      "\t\t0.3020\t0.3433\t0.4470\n",
      "[Iter 155]\tLoss: [0.31717556942254305]\n",
      "[Valid]\t\tMAP\tP20\tNDCG20\n",
      "\t\t0.2883\t0.3300\t0.4269\n",
      "[Iter 156]\tLoss: [0.3153048211336136]\n",
      "[Valid]\t\tMAP\tP20\tNDCG20\n",
      "\t\t0.2962\t0.3333\t0.4370\n",
      "[Iter 157]\tLoss: [0.3311739156022668]\n",
      "[Valid]\t\tMAP\tP20\tNDCG20\n",
      "\t\t0.2928\t0.3333\t0.4323\n",
      "[Iter 158]\tLoss: [0.342025398388505]\n",
      "[Valid]\t\tMAP\tP20\tNDCG20\n",
      "\t\t0.2871\t0.3267\t0.4241\n",
      "[Iter 159]\tLoss: [0.3119979199022055]\n",
      "[Valid]\t\tMAP\tP20\tNDCG20\n",
      "\t\t0.2935\t0.3333\t0.4329\n",
      "[Iter 160]\tLoss: [0.30553703611716626]\n",
      "[Valid]\t\tMAP\tP20\tNDCG20\n",
      "\t\t0.2878\t0.3333\t0.4291\n",
      "[Iter 161]\tLoss: [0.30127489849925043]\n"
     ]
    },
    {
     "name": "stderr",
     "output_type": "stream",
     "text": [
      "2020-07-13 10:39:13,716 : INFO : Generate totally 18780 pairs\n"
     ]
    },
    {
     "name": "stdout",
     "output_type": "stream",
     "text": [
      "[Valid]\t\tMAP\tP20\tNDCG20\n",
      "\t\t0.2941\t0.3333\t0.4334\n",
      "Epoch 18\n",
      "[Iter 162]\tLoss: [0.32655273370444776]\n",
      "[Valid]\t\tMAP\tP20\tNDCG20\n",
      "\t\t0.2890\t0.3333\t0.4294\n",
      "[Iter 163]\tLoss: [0.3087316105142236]\n",
      "[Valid]\t\tMAP\tP20\tNDCG20\n",
      "\t\t0.2948\t0.3333\t0.4337\n",
      "[Iter 164]\tLoss: [0.3093552751094103]\n",
      "[Valid]\t\tMAP\tP20\tNDCG20\n",
      "\t\t0.2812\t0.3167\t0.4112\n",
      "[Iter 165]\tLoss: [0.3130778353661299]\n",
      "[Valid]\t\tMAP\tP20\tNDCG20\n",
      "\t\t0.2976\t0.3433\t0.4439\n",
      "[Iter 166]\tLoss: [0.3258970760554075]\n",
      "[Valid]\t\tMAP\tP20\tNDCG20\n",
      "\t\t0.2899\t0.3333\t0.4299\n",
      "[Iter 167]\tLoss: [0.3394864321500063]\n",
      "[Valid]\t\tMAP\tP20\tNDCG20\n",
      "\t\t0.2819\t0.3167\t0.4115\n",
      "[Iter 168]\tLoss: [0.3276797593664378]\n",
      "[Valid]\t\tMAP\tP20\tNDCG20\n",
      "\t\t0.2945\t0.3367\t0.4354\n",
      "[Iter 169]\tLoss: [0.32457881746347994]\n",
      "[Valid]\t\tMAP\tP20\tNDCG20\n",
      "\t\t0.2863\t0.3200\t0.4166\n",
      "[Iter 170]\tLoss: [0.34722080556675794]\n"
     ]
    },
    {
     "name": "stderr",
     "output_type": "stream",
     "text": [
      "2020-07-13 10:40:36,243 : INFO : Generate totally 18780 pairs\n"
     ]
    },
    {
     "name": "stdout",
     "output_type": "stream",
     "text": [
      "[Valid]\t\tMAP\tP20\tNDCG20\n",
      "\t\t0.2943\t0.3333\t0.4330\n",
      "Epoch 19\n",
      "[Iter 171]\tLoss: [0.3466332931816578]\n",
      "[Valid]\t\tMAP\tP20\tNDCG20\n",
      "\t\t0.2887\t0.3333\t0.4292\n",
      "[Iter 172]\tLoss: [0.3076375117013231]\n",
      "[Valid]\t\tMAP\tP20\tNDCG20\n",
      "\t\t0.2904\t0.3333\t0.4309\n",
      "[Iter 173]\tLoss: [0.2927174087613821]\n",
      "[Valid]\t\tMAP\tP20\tNDCG20\n",
      "\t\t0.2943\t0.3367\t0.4358\n",
      "[Iter 174]\tLoss: [0.34485083155333995]\n",
      "[Valid]\t\tMAP\tP20\tNDCG20\n",
      "\t\t0.2948\t0.3367\t0.4360\n",
      "[Iter 175]\tLoss: [0.3522536177188158]\n",
      "[Valid]\t\tMAP\tP20\tNDCG20\n",
      "\t\t0.2930\t0.3333\t0.4324\n",
      "[Iter 176]\tLoss: [0.3088638734817505]\n",
      "[Valid]\t\tMAP\tP20\tNDCG20\n",
      "\t\t0.2967\t0.3400\t0.4417\n",
      "[Iter 177]\tLoss: [0.30040031637996434]\n",
      "[Valid]\t\tMAP\tP20\tNDCG20\n",
      "\t\t0.2860\t0.3233\t0.4214\n",
      "[Iter 178]\tLoss: [0.31422534517943856]\n",
      "[Valid]\t\tMAP\tP20\tNDCG20\n",
      "\t\t0.2908\t0.3333\t0.4308\n",
      "[Iter 179]\tLoss: [0.30788998227566483]\n"
     ]
    },
    {
     "name": "stderr",
     "output_type": "stream",
     "text": [
      "2020-07-13 10:41:57,590 : INFO : Generate totally 18780 pairs\n"
     ]
    },
    {
     "name": "stdout",
     "output_type": "stream",
     "text": [
      "[Valid]\t\tMAP\tP20\tNDCG20\n",
      "\t\t0.2938\t0.3333\t0.4329\n",
      "Epoch 20\n",
      "[Iter 180]\tLoss: [0.31299302116036415]\n",
      "[Valid]\t\tMAP\tP20\tNDCG20\n",
      "\t\t0.2913\t0.3333\t0.4308\n",
      "[Iter 181]\tLoss: [0.30151145305484534]\n",
      "[Valid]\t\tMAP\tP20\tNDCG20\n",
      "\t\t0.2856\t0.3200\t0.4159\n",
      "[Iter 182]\tLoss: [0.3326439068838954]\n",
      "[Valid]\t\tMAP\tP20\tNDCG20\n",
      "\t\t0.2914\t0.3333\t0.4309\n",
      "[Iter 183]\tLoss: [0.3095660448819399]\n",
      "[Valid]\t\tMAP\tP20\tNDCG20\n",
      "\t\t0.2874\t0.3333\t0.4284\n",
      "[Iter 184]\tLoss: [0.32735600259155034]\n",
      "[Valid]\t\tMAP\tP20\tNDCG20\n",
      "\t\t0.2866\t0.3233\t0.4217\n",
      "[Iter 185]\tLoss: [0.3253982058167458]\n",
      "[Valid]\t\tMAP\tP20\tNDCG20\n",
      "\t\t0.2834\t0.3200\t0.4148\n",
      "[Iter 186]\tLoss: [0.28313715679571033]\n",
      "[Valid]\t\tMAP\tP20\tNDCG20\n",
      "\t\t0.2875\t0.3267\t0.4243\n",
      "[Iter 187]\tLoss: [0.3220728676021099]\n",
      "[Valid]\t\tMAP\tP20\tNDCG20\n",
      "\t\t0.2937\t0.3333\t0.4328\n",
      "[Iter 188]\tLoss: [0.30520456792786715]\n"
     ]
    },
    {
     "name": "stderr",
     "output_type": "stream",
     "text": [
      "2020-07-13 10:43:18,490 : INFO : Generate totally 18780 pairs\n"
     ]
    },
    {
     "name": "stdout",
     "output_type": "stream",
     "text": [
      "[Valid]\t\tMAP\tP20\tNDCG20\n",
      "\t\t0.2866\t0.3300\t0.4258\n",
      "Epoch 21\n",
      "[Iter 189]\tLoss: [0.31359074415639043]\n",
      "[Valid]\t\tMAP\tP20\tNDCG20\n",
      "\t\t0.2917\t0.3333\t0.4315\n",
      "[Iter 190]\tLoss: [0.30493736781179903]\n",
      "[Valid]\t\tMAP\tP20\tNDCG20\n",
      "\t\t0.2876\t0.3300\t0.4263\n",
      "[Iter 191]\tLoss: [0.3035910508222878]\n",
      "[Valid]\t\tMAP\tP20\tNDCG20\n",
      "\t\t0.2934\t0.3333\t0.4327\n",
      "[Iter 192]\tLoss: [0.33025425117462875]\n",
      "[Valid]\t\tMAP\tP20\tNDCG20\n",
      "\t\t0.2861\t0.3233\t0.4215\n",
      "[Iter 193]\tLoss: [0.3157874283473939]\n",
      "[Valid]\t\tMAP\tP20\tNDCG20\n",
      "\t\t0.2887\t0.3300\t0.4270\n",
      "[Iter 194]\tLoss: [0.3180928982794285]\n",
      "[Valid]\t\tMAP\tP20\tNDCG20\n",
      "\t\t0.2865\t0.3233\t0.4216\n",
      "[Iter 195]\tLoss: [0.2886780897527933]\n",
      "[Valid]\t\tMAP\tP20\tNDCG20\n",
      "\t\t0.2961\t0.3433\t0.4405\n",
      "[Iter 196]\tLoss: [0.3233644377812743]\n",
      "[Valid]\t\tMAP\tP20\tNDCG20\n",
      "\t\t0.2908\t0.3333\t0.4309\n",
      "[Iter 197]\tLoss: [0.30200913751497865]\n"
     ]
    },
    {
     "name": "stderr",
     "output_type": "stream",
     "text": [
      "2020-07-13 10:44:38,817 : INFO : Generate totally 18780 pairs\n"
     ]
    },
    {
     "name": "stdout",
     "output_type": "stream",
     "text": [
      "[Valid]\t\tMAP\tP20\tNDCG20\n",
      "\t\t0.2889\t0.3333\t0.4291\n",
      "Epoch 22\n",
      "[Iter 198]\tLoss: [0.3329205289110541]\n",
      "[Valid]\t\tMAP\tP20\tNDCG20\n",
      "\t\t0.2896\t0.3333\t0.4293\n",
      "[Iter 199]\tLoss: [0.30527321726083756]\n",
      "[Valid]\t\tMAP\tP20\tNDCG20\n",
      "\t\t0.2809\t0.3167\t0.4108\n",
      "[Iter 200]\tLoss: [0.3095212410017848]\n",
      "[Valid]\t\tMAP\tP20\tNDCG20\n",
      "\t\t0.2846\t0.3200\t0.4159\n",
      "[Iter 201]\tLoss: [0.30245227728039026]\n",
      "[Valid]\t\tMAP\tP20\tNDCG20\n",
      "\t\t0.2959\t0.3400\t0.4383\n",
      "[Iter 202]\tLoss: [0.32193378590978683]\n",
      "[Valid]\t\tMAP\tP20\tNDCG20\n",
      "\t\t0.2866\t0.3233\t0.4214\n",
      "[Iter 203]\tLoss: [0.3341318214684725]\n",
      "[Valid]\t\tMAP\tP20\tNDCG20\n",
      "\t\t0.2892\t0.3333\t0.4292\n",
      "[Iter 204]\tLoss: [0.3037299342174083]\n",
      "[Valid]\t\tMAP\tP20\tNDCG20\n",
      "\t\t0.2920\t0.3333\t0.4315\n",
      "[Iter 205]\tLoss: [0.32224479895085095]\n",
      "[Valid]\t\tMAP\tP20\tNDCG20\n",
      "\t\t0.2887\t0.3300\t0.4269\n",
      "[Iter 206]\tLoss: [0.3197480828873813]\n"
     ]
    },
    {
     "name": "stderr",
     "output_type": "stream",
     "text": [
      "2020-07-13 10:46:00,831 : INFO : Generate totally 18780 pairs\n"
     ]
    },
    {
     "name": "stdout",
     "output_type": "stream",
     "text": [
      "[Valid]\t\tMAP\tP20\tNDCG20\n",
      "\t\t0.2870\t0.3267\t0.4238\n",
      "Epoch 23\n",
      "[Iter 207]\tLoss: [0.32030170142650605]\n",
      "[Valid]\t\tMAP\tP20\tNDCG20\n",
      "\t\t0.2908\t0.3333\t0.4308\n",
      "[Iter 208]\tLoss: [0.3520035288669169]\n",
      "[Valid]\t\tMAP\tP20\tNDCG20\n",
      "\t\t0.2956\t0.3433\t0.4400\n",
      "[Iter 209]\tLoss: [0.29919281631708144]\n",
      "[Valid]\t\tMAP\tP20\tNDCG20\n",
      "\t\t0.2876\t0.3267\t0.4240\n",
      "[Iter 210]\tLoss: [0.3122112084925175]\n",
      "[Valid]\t\tMAP\tP20\tNDCG20\n",
      "\t\t0.2852\t0.3233\t0.4211\n",
      "[Iter 211]\tLoss: [0.3345544647425413]\n",
      "[Valid]\t\tMAP\tP20\tNDCG20\n",
      "\t\t0.2952\t0.3400\t0.4379\n",
      "[Iter 212]\tLoss: [0.2908122367784381]\n",
      "[Valid]\t\tMAP\tP20\tNDCG20\n",
      "\t\t0.2871\t0.3267\t0.4243\n",
      "[Iter 213]\tLoss: [0.3386494178138673]\n",
      "[Valid]\t\tMAP\tP20\tNDCG20\n",
      "\t\t0.2880\t0.3333\t0.4286\n",
      "[Iter 214]\tLoss: [0.31225200805813075]\n",
      "[Valid]\t\tMAP\tP20\tNDCG20\n",
      "\t\t0.2848\t0.3200\t0.4149\n",
      "[Iter 215]\tLoss: [0.3239683412387967]\n"
     ]
    },
    {
     "name": "stderr",
     "output_type": "stream",
     "text": [
      "2020-07-13 10:47:21,639 : INFO : Generate totally 18780 pairs\n"
     ]
    },
    {
     "name": "stdout",
     "output_type": "stream",
     "text": [
      "[Valid]\t\tMAP\tP20\tNDCG20\n",
      "\t\t0.2915\t0.3367\t0.4333\n",
      "Epoch 24\n",
      "[Iter 216]\tLoss: [0.31643055453896524]\n",
      "[Valid]\t\tMAP\tP20\tNDCG20\n",
      "\t\t0.2912\t0.3367\t0.4333\n",
      "[Iter 217]\tLoss: [0.3276345744356513]\n",
      "[Valid]\t\tMAP\tP20\tNDCG20\n",
      "\t\t0.2877\t0.3300\t0.4262\n",
      "[Iter 218]\tLoss: [0.31775776294991376]\n",
      "[Valid]\t\tMAP\tP20\tNDCG20\n",
      "\t\t0.2901\t0.3333\t0.4295\n",
      "[Iter 219]\tLoss: [0.3339491948671639]\n",
      "[Valid]\t\tMAP\tP20\tNDCG20\n",
      "\t\t0.2910\t0.3333\t0.4307\n",
      "[Iter 220]\tLoss: [0.28931097077205775]\n",
      "[Valid]\t\tMAP\tP20\tNDCG20\n",
      "\t\t0.2908\t0.3333\t0.4301\n",
      "[Iter 221]\tLoss: [0.30919653695076704]\n",
      "[Valid]\t\tMAP\tP20\tNDCG20\n",
      "\t\t0.2921\t0.3367\t0.4335\n",
      "[Iter 222]\tLoss: [0.30821296483278277]\n",
      "[Valid]\t\tMAP\tP20\tNDCG20\n",
      "\t\t0.2864\t0.3233\t0.4210\n",
      "[Iter 223]\tLoss: [0.31893564701080324]\n",
      "[Valid]\t\tMAP\tP20\tNDCG20\n",
      "\t\t0.2982\t0.3400\t0.4420\n",
      "[Iter 224]\tLoss: [0.2994480062276125]\n"
     ]
    },
    {
     "name": "stderr",
     "output_type": "stream",
     "text": [
      "2020-07-13 10:48:42,133 : INFO : Generate totally 18780 pairs\n"
     ]
    },
    {
     "name": "stdout",
     "output_type": "stream",
     "text": [
      "[Valid]\t\tMAP\tP20\tNDCG20\n",
      "\t\t0.2923\t0.3367\t0.4333\n",
      "Epoch 25\n",
      "[Iter 225]\tLoss: [0.3111523380316794]\n",
      "[Valid]\t\tMAP\tP20\tNDCG20\n",
      "\t\t0.2856\t0.3200\t0.4156\n",
      "[Iter 226]\tLoss: [0.31278516936305095]\n",
      "[Valid]\t\tMAP\tP20\tNDCG20\n",
      "\t\t0.2885\t0.3333\t0.4284\n",
      "[Iter 227]\tLoss: [0.3168565843999386]\n",
      "[Valid]\t\tMAP\tP20\tNDCG20\n",
      "\t\t0.2914\t0.3367\t0.4330\n",
      "[Iter 228]\tLoss: [0.30139485374093056]\n",
      "[Valid]\t\tMAP\tP20\tNDCG20\n",
      "\t\t0.2873\t0.3300\t0.4257\n",
      "[Iter 229]\tLoss: [0.3197509834263474]\n",
      "[Valid]\t\tMAP\tP20\tNDCG20\n",
      "\t\t0.2922\t0.3367\t0.4337\n",
      "[Iter 230]\tLoss: [0.27926116092596204]\n",
      "[Valid]\t\tMAP\tP20\tNDCG20\n",
      "\t\t0.2955\t0.3400\t0.4377\n",
      "[Iter 231]\tLoss: [0.3205571437999606]\n",
      "[Valid]\t\tMAP\tP20\tNDCG20\n",
      "\t\t0.2845\t0.3167\t0.4124\n",
      "[Iter 232]\tLoss: [0.31471254881471394]\n",
      "[Valid]\t\tMAP\tP20\tNDCG20\n",
      "\t\t0.2915\t0.3367\t0.4333\n",
      "[Iter 233]\tLoss: [0.3487721324339509]\n"
     ]
    },
    {
     "name": "stderr",
     "output_type": "stream",
     "text": [
      "2020-07-13 10:50:32,113 : INFO : Generate totally 18780 pairs\n"
     ]
    },
    {
     "name": "stdout",
     "output_type": "stream",
     "text": [
      "[Valid]\t\tMAP\tP20\tNDCG20\n",
      "\t\t0.2945\t0.3400\t0.4374\n",
      "Epoch 26\n",
      "[Iter 234]\tLoss: [0.30478748778812587]\n",
      "[Valid]\t\tMAP\tP20\tNDCG20\n",
      "\t\t0.2911\t0.3367\t0.4330\n",
      "[Iter 235]\tLoss: [0.3458061447739601]\n",
      "[Valid]\t\tMAP\tP20\tNDCG20\n",
      "\t\t0.2958\t0.3400\t0.4378\n",
      "[Iter 236]\tLoss: [0.37018944043666124]\n",
      "[Valid]\t\tMAP\tP20\tNDCG20\n",
      "\t\t0.2876\t0.3267\t0.4238\n",
      "[Iter 237]\tLoss: [0.28069891437888145]\n",
      "[Valid]\t\tMAP\tP20\tNDCG20\n",
      "\t\t0.2854\t0.3200\t0.4156\n",
      "[Iter 238]\tLoss: [0.3250851587206125]\n",
      "[Valid]\t\tMAP\tP20\tNDCG20\n",
      "\t\t0.2919\t0.3367\t0.4334\n",
      "[Iter 239]\tLoss: [0.3235108843445778]\n",
      "[Valid]\t\tMAP\tP20\tNDCG20\n",
      "\t\t0.2951\t0.3400\t0.4376\n",
      "[Iter 240]\tLoss: [0.2784987497329712]\n",
      "[Valid]\t\tMAP\tP20\tNDCG20\n",
      "\t\t0.2849\t0.3200\t0.4153\n",
      "[Iter 241]\tLoss: [0.3248461852222681]\n",
      "[Valid]\t\tMAP\tP20\tNDCG20\n",
      "\t\t0.2903\t0.3333\t0.4304\n",
      "[Iter 242]\tLoss: [0.3473845227621496]\n"
     ]
    },
    {
     "name": "stderr",
     "output_type": "stream",
     "text": [
      "2020-07-13 10:52:21,827 : INFO : Generate totally 18780 pairs\n"
     ]
    },
    {
     "name": "stdout",
     "output_type": "stream",
     "text": [
      "[Valid]\t\tMAP\tP20\tNDCG20\n",
      "\t\t0.2854\t0.3200\t0.4158\n",
      "Epoch 27\n",
      "[Iter 243]\tLoss: [0.31313438653945924]\n",
      "[Valid]\t\tMAP\tP20\tNDCG20\n",
      "\t\t0.2866\t0.3267\t0.4234\n",
      "[Iter 244]\tLoss: [0.3221025377511978]\n",
      "[Valid]\t\tMAP\tP20\tNDCG20\n",
      "\t\t0.2916\t0.3367\t0.4331\n",
      "[Iter 245]\tLoss: [0.29464151529595256]\n",
      "[Valid]\t\tMAP\tP20\tNDCG20\n",
      "\t\t0.2920\t0.3367\t0.4335\n",
      "[Iter 246]\tLoss: [0.3161370731890202]\n",
      "[Valid]\t\tMAP\tP20\tNDCG20\n",
      "\t\t0.2909\t0.3333\t0.4305\n",
      "[Iter 247]\tLoss: [0.33977785520255566]\n",
      "[Valid]\t\tMAP\tP20\tNDCG20\n",
      "\t\t0.2905\t0.3367\t0.4325\n",
      "[Iter 248]\tLoss: [0.3095049956813455]\n",
      "[Valid]\t\tMAP\tP20\tNDCG20\n",
      "\t\t0.2881\t0.3333\t0.4285\n",
      "[Iter 249]\tLoss: [0.3058064995706081]\n",
      "[Valid]\t\tMAP\tP20\tNDCG20\n",
      "\t\t0.2844\t0.3167\t0.4125\n",
      "[Iter 250]\tLoss: [0.33361135475337506]\n",
      "[Valid]\t\tMAP\tP20\tNDCG20\n",
      "\t\t0.2902\t0.3367\t0.4323\n",
      "[Iter 251]\tLoss: [0.284027553498745]\n"
     ]
    },
    {
     "name": "stderr",
     "output_type": "stream",
     "text": [
      "2020-07-13 10:54:11,257 : INFO : Generate totally 18780 pairs\n"
     ]
    },
    {
     "name": "stdout",
     "output_type": "stream",
     "text": [
      "[Valid]\t\tMAP\tP20\tNDCG20\n",
      "\t\t0.2958\t0.3400\t0.4376\n",
      "Epoch 28\n",
      "[Iter 252]\tLoss: [0.29925509486347435]\n",
      "[Valid]\t\tMAP\tP20\tNDCG20\n",
      "\t\t0.2884\t0.3367\t0.4309\n",
      "[Iter 253]\tLoss: [0.3237752303481102]\n",
      "[Valid]\t\tMAP\tP20\tNDCG20\n",
      "\t\t0.2918\t0.3367\t0.4331\n",
      "[Iter 254]\tLoss: [0.334228893481195]\n",
      "[Valid]\t\tMAP\tP20\tNDCG20\n",
      "\t\t0.2946\t0.3433\t0.4392\n",
      "[Iter 255]\tLoss: [0.30400238605216146]\n",
      "[Valid]\t\tMAP\tP20\tNDCG20\n",
      "\t\t0.3045\t0.3367\t0.4465\n",
      "[Iter 256]\tLoss: [0.29544820116832854]\n",
      "[Valid]\t\tMAP\tP20\tNDCG20\n",
      "\t\t0.2874\t0.3333\t0.4281\n",
      "[Iter 257]\tLoss: [0.31906834565103054]\n",
      "[Valid]\t\tMAP\tP20\tNDCG20\n",
      "\t\t0.2901\t0.3367\t0.4323\n",
      "[Iter 258]\tLoss: [0.3347868683747947]\n",
      "[Valid]\t\tMAP\tP20\tNDCG20\n",
      "\t\t0.2904\t0.3367\t0.4326\n",
      "[Iter 259]\tLoss: [0.32873805541545154]\n",
      "[Valid]\t\tMAP\tP20\tNDCG20\n",
      "\t\t0.2961\t0.3433\t0.4428\n",
      "[Iter 260]\tLoss: [0.3232716390490532]\n",
      "[Valid]\t\tMAP\tP20\tNDCG20\n",
      "\t\t0.2922\t0.3367\t0.4333\n",
      "Epoch 29\n"
     ]
    },
    {
     "name": "stderr",
     "output_type": "stream",
     "text": [
      "2020-07-13 10:55:58,359 : INFO : Generate totally 18780 pairs\n"
     ]
    },
    {
     "name": "stdout",
     "output_type": "stream",
     "text": [
      "[Iter 261]\tLoss: [0.30791494782315565]\n",
      "[Valid]\t\tMAP\tP20\tNDCG20\n",
      "\t\t0.2898\t0.3333\t0.4297\n",
      "[Iter 262]\tLoss: [0.3106989903235808]\n",
      "[Valid]\t\tMAP\tP20\tNDCG20\n",
      "\t\t0.2885\t0.3300\t0.4266\n",
      "[Iter 263]\tLoss: [0.3298705654870719]\n",
      "[Valid]\t\tMAP\tP20\tNDCG20\n",
      "\t\t0.2887\t0.3300\t0.4266\n",
      "[Iter 264]\tLoss: [0.3144218688458204]\n",
      "[Valid]\t\tMAP\tP20\tNDCG20\n",
      "\t\t0.2917\t0.3367\t0.4331\n",
      "[Iter 265]\tLoss: [0.3302799257263541]\n",
      "[Valid]\t\tMAP\tP20\tNDCG20\n",
      "\t\t0.2913\t0.3367\t0.4330\n",
      "[Iter 266]\tLoss: [0.31109113490208984]\n",
      "[Valid]\t\tMAP\tP20\tNDCG20\n",
      "\t\t0.2957\t0.3433\t0.4425\n",
      "[Iter 267]\tLoss: [0.3185150957852602]\n",
      "[Valid]\t\tMAP\tP20\tNDCG20\n",
      "\t\t0.2920\t0.3367\t0.4333\n",
      "[Iter 268]\tLoss: [0.3137321013584733]\n",
      "[Valid]\t\tMAP\tP20\tNDCG20\n",
      "\t\t0.2873\t0.3267\t0.4237\n",
      "[Iter 269]\tLoss: [0.32581006303429605]\n",
      "[Valid]\t\tMAP\tP20\tNDCG20\n",
      "\t\t0.2930\t0.3400\t0.4389\n",
      "MAP:0.3045\tP20:0.3367\tNDCG20:0.4465\n"
     ]
    }
   ],
   "source": [
    "nrf.fit(res_train,qrels,train)"
   ]
  },
  {
   "cell_type": "code",
   "execution_count": 8,
   "metadata": {},
   "outputs": [
    {
     "name": "stderr",
     "output_type": "stream",
     "text": [
      "2020-07-13 10:58:40,500 : INFO : loading projection weights from data/GoogleNews-vectors-negative300.bin\n",
      "2020-07-13 10:59:21,721 : INFO : loaded (3000000, 300) matrix from data/GoogleNews-vectors-negative300.bin\n"
     ]
    },
    {
     "name": "stdout",
     "output_type": "stream",
     "text": [
      "Finish qid: 12\n",
      "Finish qid: 15\n",
      "Finish qid: 16\n",
      "Finish qid: 17\n",
      "Finish qid: 2\n",
      "Finish qid: 27\n",
      "Finish qid: 28\n",
      "Finish qid: 43\n",
      "Finish qid: 52\n",
      "Finish qid: 56\n",
      "Finish qid: 57\n",
      "Finish qid: 58\n",
      "Finish qid: 69\n",
      "Finish qid: 7\n",
      "Finish qid: 74\n",
      "Finish qid: 77\n",
      "Finish qid: 8\n",
      "Finish qid: 80\n",
      "Finish qid: 90\n",
      "Finish all!\n"
     ]
    }
   ],
   "source": [
    "nrf.preprocess(res_test, qrels, test, 20)\n",
    "# relevance_dict=nrf.create_relevance(res_test,qrels)\n",
    "# topk_term_corpus = nrf.top_k(res_test)\n",
    "# top_idf_dict = nrf.parse_idf_for_document(relevance_dict,topk_term_corpus)"
   ]
  },
  {
   "cell_type": "code",
   "execution_count": null,
   "metadata": {},
   "outputs": [],
   "source": []
  },
  {
   "cell_type": "code",
   "execution_count": 9,
   "metadata": {},
   "outputs": [
    {
     "name": "stdout",
     "output_type": "stream",
     "text": [
      "[Test]\t\tMAP\tP20\tNDCG20\n",
      "\t\t0.3080\t0.2921\t0.4120\n"
     ]
    },
    {
     "ename": "NameError",
     "evalue": "name 'df_results' is not defined",
     "output_type": "error",
     "traceback": [
      "\u001b[0;31m---------------------------------------------------------------------------\u001b[0m",
      "\u001b[0;31mNameError\u001b[0m                                 Traceback (most recent call last)",
      "\u001b[0;32m<ipython-input-9-ab71a7aed3b3>\u001b[0m in \u001b[0;36m<module>\u001b[0;34m\u001b[0m\n\u001b[0;32m----> 1\u001b[0;31m \u001b[0mnrf\u001b[0m\u001b[0;34m.\u001b[0m\u001b[0mtransform\u001b[0m\u001b[0;34m(\u001b[0m\u001b[0mres_test\u001b[0m\u001b[0;34m,\u001b[0m \u001b[0mqrels\u001b[0m\u001b[0;34m,\u001b[0m \u001b[0mtest\u001b[0m\u001b[0;34m)\u001b[0m\u001b[0;34m\u001b[0m\u001b[0;34m\u001b[0m\u001b[0m\n\u001b[0m",
      "\u001b[0;32m/mnt/c/Dev/Terrier/Estimator.py\u001b[0m in \u001b[0;36mtransform\u001b[0;34m(self, res, qrels, topics)\u001b[0m\n\u001b[1;32m    517\u001b[0m         \u001b[0mprint\u001b[0m\u001b[0;34m(\u001b[0m\u001b[0;34m\"\\t\\t{0}\\t{1}\\t{2}\"\u001b[0m\u001b[0;34m.\u001b[0m\u001b[0mformat\u001b[0m\u001b[0;34m(\u001b[0m\u001b[0mtest_met\u001b[0m\u001b[0;34m[\u001b[0m\u001b[0;36m0\u001b[0m\u001b[0;34m]\u001b[0m\u001b[0;34m,\u001b[0m \u001b[0mtest_met\u001b[0m\u001b[0;34m[\u001b[0m\u001b[0;36m1\u001b[0m\u001b[0;34m]\u001b[0m\u001b[0;34m,\u001b[0m \u001b[0mtest_met\u001b[0m\u001b[0;34m[\u001b[0m\u001b[0;36m2\u001b[0m\u001b[0;34m]\u001b[0m\u001b[0;34m)\u001b[0m\u001b[0;34m)\u001b[0m\u001b[0;34m\u001b[0m\u001b[0;34m\u001b[0m\u001b[0m\n\u001b[1;32m    518\u001b[0m         \u001b[0;31m# df_results = pd.DataFrame(results_dict)\u001b[0m\u001b[0;34m\u001b[0m\u001b[0;34m\u001b[0m\u001b[0;34m\u001b[0m\u001b[0m\n\u001b[0;32m--> 519\u001b[0;31m         \u001b[0;32mreturn\u001b[0m \u001b[0mtest_met\u001b[0m\u001b[0;34m,\u001b[0m \u001b[0mdf_results\u001b[0m\u001b[0;34m\u001b[0m\u001b[0;34m\u001b[0m\u001b[0m\n\u001b[0m\u001b[1;32m    520\u001b[0m     \u001b[0;31m# use some of the same steps?? what if documents or terms have been processed before?\u001b[0m\u001b[0;34m\u001b[0m\u001b[0;34m\u001b[0m\u001b[0;34m\u001b[0m\u001b[0m\n",
      "\u001b[0;31mNameError\u001b[0m: name 'df_results' is not defined"
     ]
    }
   ],
   "source": [
    "nrf.transform(res_test, qrels, test)"
   ]
  },
  {
   "cell_type": "code",
   "execution_count": null,
   "metadata": {},
   "outputs": [],
   "source": []
  },
  {
   "cell_type": "code",
   "execution_count": 10,
   "metadata": {},
   "outputs": [],
   "source": [
    "eval = pt.Utils.evaluate(res_test,qrels)\n"
   ]
  },
  {
   "cell_type": "code",
   "execution_count": 11,
   "metadata": {},
   "outputs": [
    {
     "data": {
      "text/plain": [
       "{'map': 0.26976563772648476, 'ndcg': 0.6082782619726221}"
      ]
     },
     "execution_count": 11,
     "metadata": {},
     "output_type": "execute_result"
    }
   ],
   "source": [
    "eval"
   ]
  },
  {
   "cell_type": "code",
   "execution_count": null,
   "metadata": {},
   "outputs": [],
   "source": []
  }
 ],
 "metadata": {
  "kernelspec": {
   "display_name": "Python 3",
   "language": "python",
   "name": "python3"
  },
  "language_info": {
   "codemirror_mode": {
    "name": "ipython",
    "version": 3
   },
   "file_extension": ".py",
   "mimetype": "text/x-python",
   "name": "python",
   "nbconvert_exporter": "python",
   "pygments_lexer": "ipython3",
   "version": "3.6.9"
  }
 },
 "nbformat": 4,
 "nbformat_minor": 4
}
