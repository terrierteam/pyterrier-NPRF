{
 "cells": [
  {
   "cell_type": "code",
   "execution_count": 1,
   "metadata": {},
   "outputs": [
    {
     "name": "stderr",
     "output_type": "stream",
     "text": [
      "Using TensorFlow backend.\n"
     ]
    }
   ],
   "source": [
    "from Estimator import NeuralPRFEstimator\n",
    "import pyterrier as pt\n",
    "import os\n",
    "os.environ[\"JAVA_HOME\"] = \"/local/trmaster/opt/jdk-11.0.6/\"\n",
    "if not pt.started():\n",
    "    pt.init(boot_packages=[\"com.github.terrierteam:terrier-prf:-SNAPSHOT\"], mem=8000)\n",
    "pt.cache.CACHE_DIR = \"/users/tr.%s/pyterrier_transformer_cache\" % (os.environ[\"USER\"])"
   ]
  },
  {
   "cell_type": "code",
   "execution_count": 2,
   "metadata": {},
   "outputs": [],
   "source": [
    "topics = pt.get_dataset(\"trec-robust-2004\").get_topics()"
   ]
  },
  {
   "cell_type": "code",
   "execution_count": 3,
   "metadata": {},
   "outputs": [],
   "source": [
    "topicsTrain=topics[topics.qid.astype(int) % 2 ==0]\n",
    "topicsTest=topics[topics.qid.astype(int) % 2 !=0]"
   ]
  },
  {
   "cell_type": "code",
   "execution_count": 4,
   "metadata": {},
   "outputs": [],
   "source": [
    "qrels = pt.get_dataset(\"trec-robust-2004\").get_qrels()"
   ]
  },
  {
   "cell_type": "code",
   "execution_count": 5,
   "metadata": {},
   "outputs": [],
   "source": [
    "pt.ApplicationSetup.setProperty(\"termpipelines\", \"\")\n",
    "index_location = \"/users/tr.craigm/projects/tr5/Terrier/var/index_disk45/data.properties\"\n",
    "\n",
    "eval_metrics = [\"map\", \"num_rel_ret\", \"ndcg\", \"ndcg_cut_10\", \"recip_rank\"]"
   ]
  },
  {
   "cell_type": "code",
   "execution_count": 6,
   "metadata": {},
   "outputs": [
    {
     "name": "stdout",
     "output_type": "stream",
     "text": [
      "Number of documents: 528155\n",
      "Number of terms: 520423\n",
      "Number of fields: 0\n",
      "Number of tokens: 143669447\n",
      "Field names: []\n",
      "Positions:   false\n",
      "\n"
     ]
    }
   ],
   "source": [
    "index = pt.IndexFactory.of(index_location)\n",
    "print(index.getCollectionStatistics().toString())"
   ]
  },
  {
   "cell_type": "code",
   "execution_count": 7,
   "metadata": {},
   "outputs": [],
   "source": [
    "from pyterrier.rewrite import RM3, AxiomaticQE\n",
    "\n",
    "firstpass_dph = pt.BatchRetrieve(index, wmodel=\"DPH\", \n",
    "                                 properties={\"termpipelines\": \"\"},\n",
    "                                 verbose=True, metadata=[\"docno\"])"
   ]
  },
  {
   "cell_type": "code",
   "execution_count": 8,
   "metadata": {
    "scrolled": true
   },
   "outputs": [
    {
     "name": "stderr",
     "output_type": "stream",
     "text": [
      "100%|██████████| 125/125 [00:04<00:00, 29.95q/s]\n",
      "100%|██████████| 125/125 [00:03<00:00, 34.00q/s]\n"
     ]
    }
   ],
   "source": [
    "res_train=(firstpass_dph % 100).transform(topicsTrain)\n",
    "res_test= (firstpass_dph % 100).transform(topicsTest)"
   ]
  },
  {
   "cell_type": "code",
   "execution_count": 9,
   "metadata": {},
   "outputs": [
    {
     "data": {
      "text/plain": [
       "((9803, 6), (8690, 6))"
      ]
     },
     "execution_count": 9,
     "metadata": {},
     "output_type": "execute_result"
    }
   ],
   "source": [
    "res_train.shape, res_test.shape"
   ]
  },
  {
   "cell_type": "code",
   "execution_count": 10,
   "metadata": {},
   "outputs": [],
   "source": [
    "import os\n",
    "nrf = NeuralPRFEstimator(index,'data_robust_100')"
   ]
  },
  {
   "cell_type": "code",
   "execution_count": 11,
   "metadata": {},
   "outputs": [],
   "source": [
    "# nrf.preprocess(res_train, qrels, topicsTrain, 20)"
   ]
  },
  {
   "cell_type": "code",
   "execution_count": 12,
   "metadata": {},
   "outputs": [],
   "source": [
    "relevance_dict=nrf.create_relevance(res_train,qrels)\n",
    "topk_term_corpus = nrf.top_k(res_train,20)\n",
    "top_idf_dict = nrf.parse_idf_for_document(relevance_dict,topk_term_corpus, rerank_topk=60, doc_topk_term=20)\n"
   ]
  },
  {
   "cell_type": "code",
   "execution_count": null,
   "metadata": {},
   "outputs": [
    {
     "name": "stdout",
     "output_type": "stream",
     "text": [
      "WARNING:tensorflow:From /users/tr.saraw/anaconda/envs/pyterrier/lib/python3.7/site-packages/keras/backend/tensorflow_backend.py:517: The name tf.placeholder is deprecated. Please use tf.compat.v1.placeholder instead.\n",
      "\n"
     ]
    },
    {
     "name": "stderr",
     "output_type": "stream",
     "text": [
      "2020-08-03 02:00:30,519 : WARNING : From /users/tr.saraw/anaconda/envs/pyterrier/lib/python3.7/site-packages/keras/backend/tensorflow_backend.py:517: The name tf.placeholder is deprecated. Please use tf.compat.v1.placeholder instead.\n",
      "\n"
     ]
    },
    {
     "name": "stdout",
     "output_type": "stream",
     "text": [
      "WARNING:tensorflow:From /users/tr.saraw/anaconda/envs/pyterrier/lib/python3.7/site-packages/keras/backend/tensorflow_backend.py:4138: The name tf.random_uniform is deprecated. Please use tf.random.uniform instead.\n",
      "\n"
     ]
    },
    {
     "name": "stderr",
     "output_type": "stream",
     "text": [
      "2020-08-03 02:00:30,526 : WARNING : From /users/tr.saraw/anaconda/envs/pyterrier/lib/python3.7/site-packages/keras/backend/tensorflow_backend.py:4138: The name tf.random_uniform is deprecated. Please use tf.random.uniform instead.\n",
      "\n"
     ]
    },
    {
     "name": "stdout",
     "output_type": "stream",
     "text": [
      "WARNING:tensorflow:From /users/tr.saraw/anaconda/envs/pyterrier/lib/python3.7/site-packages/keras/backend/tensorflow_backend.py:74: The name tf.get_default_graph is deprecated. Please use tf.compat.v1.get_default_graph instead.\n",
      "\n"
     ]
    },
    {
     "name": "stderr",
     "output_type": "stream",
     "text": [
      "2020-08-03 02:00:30,591 : WARNING : From /users/tr.saraw/anaconda/envs/pyterrier/lib/python3.7/site-packages/keras/backend/tensorflow_backend.py:74: The name tf.get_default_graph is deprecated. Please use tf.compat.v1.get_default_graph instead.\n",
      "\n"
     ]
    },
    {
     "name": "stdout",
     "output_type": "stream",
     "text": [
      "WARNING:tensorflow:From /users/tr.saraw/pytrnprf_100_file/model/nprf_drmm.py:66: The name tf.matrix_diag_part is deprecated. Please use tf.linalg.diag_part instead.\n",
      "\n"
     ]
    },
    {
     "name": "stderr",
     "output_type": "stream",
     "text": [
      "2020-08-03 02:00:30,610 : WARNING : From /users/tr.saraw/pytrnprf_100_file/model/nprf_drmm.py:66: The name tf.matrix_diag_part is deprecated. Please use tf.linalg.diag_part instead.\n",
      "\n",
      "2020-08-03 02:00:30,641 : INFO : Apply doc gating, No dense layer on top, sum up scores\n"
     ]
    },
    {
     "name": "stdout",
     "output_type": "stream",
     "text": [
      "__________________________________________________________________________________________________\n",
      "Layer (type)                    Output Shape         Param #     Connected to                     \n",
      "==================================================================================================\n",
      "dd_d_input (InputLayer)         (None, 20, 20, 10)   0                                            \n",
      "__________________________________________________________________________________________________\n",
      "dd_q_input (InputLayer)         (None, 20, 20, 1)    0                                            \n",
      "__________________________________________________________________________________________________\n",
      "hidden (Dense)                  (None, 20, 20, 5)    55          dd_d_input[0][0]                 \n",
      "__________________________________________________________________________________________________\n",
      "dd_q_gate (Dense)               (None, 20, 20, 1)    1           dd_q_input[0][0]                 \n",
      "__________________________________________________________________________________________________\n",
      "dd_d_gate (Dense)               (None, 20, 20, 1)    6           hidden[0][0]                     \n",
      "__________________________________________________________________________________________________\n",
      "dd_q_softmax (Lambda)           (None, 20, 20)       0           dd_q_gate[0][0]                  \n",
      "__________________________________________________________________________________________________\n",
      "reshape_1 (Reshape)             (None, 20, 20)       0           dd_d_gate[0][0]                  \n",
      "__________________________________________________________________________________________________\n",
      "reshape_2 (Reshape)             (None, 20, 20)       0           dd_q_softmax[0][0]               \n",
      "__________________________________________________________________________________________________\n",
      "dd_pseudo_out (Lambda)          (None, 20, 20)       0           reshape_1[0][0]                  \n",
      "                                                                 reshape_2[0][0]                  \n",
      "__________________________________________________________________________________________________\n",
      "baseline_doc_score (InputLayer) (None, 20, 1)        0                                            \n",
      "__________________________________________________________________________________________________\n",
      "dd_init_out (Lambda)            (None, 20)           0           dd_pseudo_out[0][0]              \n",
      "__________________________________________________________________________________________________\n",
      "dd_gate (Dense)                 (None, 20, 1)        1           baseline_doc_score[0][0]         \n",
      "__________________________________________________________________________________________________\n",
      "reshape_4 (Reshape)             (None, 20)           0           dd_init_out[0][0]                \n",
      "__________________________________________________________________________________________________\n",
      "reshape_3 (Reshape)             (None, 20)           0           dd_gate[0][0]                    \n",
      "__________________________________________________________________________________________________\n",
      "score (Dot)                     (None, 1)            0           reshape_4[0][0]                  \n",
      "                                                                 reshape_3[0][0]                  \n",
      "==================================================================================================\n",
      "Total params: 63\n",
      "Trainable params: 63\n",
      "Non-trainable params: 0\n",
      "__________________________________________________________________________________________________\n",
      "None\n",
      "WARNING:tensorflow:From /users/tr.saraw/anaconda/envs/pyterrier/lib/python3.7/site-packages/keras/optimizers.py:790: The name tf.train.Optimizer is deprecated. Please use tf.compat.v1.train.Optimizer instead.\n",
      "\n"
     ]
    },
    {
     "name": "stderr",
     "output_type": "stream",
     "text": [
      "2020-08-03 02:00:30,652 : WARNING : From /users/tr.saraw/anaconda/envs/pyterrier/lib/python3.7/site-packages/keras/optimizers.py:790: The name tf.train.Optimizer is deprecated. Please use tf.compat.v1.train.Optimizer instead.\n",
      "\n"
     ]
    },
    {
     "name": "stdout",
     "output_type": "stream",
     "text": [
      "WARNING:tensorflow:From /users/tr.saraw/pytrnprf_100_file/Estimator.py:411: The name tf.Session is deprecated. Please use tf.compat.v1.Session instead.\n",
      "\n"
     ]
    },
    {
     "name": "stderr",
     "output_type": "stream",
     "text": [
      "2020-08-03 02:00:30,690 : WARNING : From /users/tr.saraw/pytrnprf_100_file/Estimator.py:411: The name tf.Session is deprecated. Please use tf.compat.v1.Session instead.\n",
      "\n"
     ]
    },
    {
     "name": "stdout",
     "output_type": "stream",
     "text": [
      "WARNING:tensorflow:From /users/tr.saraw/pytrnprf_100_file/Estimator.py:411: The name tf.ConfigProto is deprecated. Please use tf.compat.v1.ConfigProto instead.\n",
      "\n"
     ]
    },
    {
     "name": "stderr",
     "output_type": "stream",
     "text": [
      "2020-08-03 02:00:30,692 : WARNING : From /users/tr.saraw/pytrnprf_100_file/Estimator.py:411: The name tf.ConfigProto is deprecated. Please use tf.compat.v1.ConfigProto instead.\n",
      "\n"
     ]
    },
    {
     "name": "stdout",
     "output_type": "stream",
     "text": [
      "WARNING:tensorflow:From /users/tr.saraw/pytrnprf_100_file/Estimator.py:411: The name tf.GPUOptions is deprecated. Please use tf.compat.v1.GPUOptions instead.\n",
      "\n"
     ]
    },
    {
     "name": "stderr",
     "output_type": "stream",
     "text": [
      "2020-08-03 02:00:30,693 : WARNING : From /users/tr.saraw/pytrnprf_100_file/Estimator.py:411: The name tf.GPUOptions is deprecated. Please use tf.compat.v1.GPUOptions instead.\n",
      "\n"
     ]
    },
    {
     "name": "stdout",
     "output_type": "stream",
     "text": [
      "Epoch 0\n",
      "iteration: -1\n",
      "WARNING:tensorflow:From /users/tr.saraw/anaconda/envs/pyterrier/lib/python3.7/site-packages/tensorflow_core/python/ops/math_grad.py:1424: where (from tensorflow.python.ops.array_ops) is deprecated and will be removed in a future version.\n",
      "Instructions for updating:\n",
      "Use tf.where in 2.0, which has the same broadcast rule as np.where\n"
     ]
    },
    {
     "name": "stderr",
     "output_type": "stream",
     "text": [
      "2020-08-03 02:00:33,374 : WARNING : From /users/tr.saraw/anaconda/envs/pyterrier/lib/python3.7/site-packages/tensorflow_core/python/ops/math_grad.py:1424: where (from tensorflow.python.ops.array_ops) is deprecated and will be removed in a future version.\n",
      "Instructions for updating:\n",
      "Use tf.where in 2.0, which has the same broadcast rule as np.where\n"
     ]
    },
    {
     "name": "stdout",
     "output_type": "stream",
     "text": [
      "WARNING:tensorflow:From /users/tr.saraw/anaconda/envs/pyterrier/lib/python3.7/site-packages/keras/backend/tensorflow_backend.py:986: The name tf.assign_add is deprecated. Please use tf.compat.v1.assign_add instead.\n",
      "\n"
     ]
    },
    {
     "name": "stderr",
     "output_type": "stream",
     "text": [
      "2020-08-03 02:00:33,520 : WARNING : From /users/tr.saraw/anaconda/envs/pyterrier/lib/python3.7/site-packages/keras/backend/tensorflow_backend.py:986: The name tf.assign_add is deprecated. Please use tf.compat.v1.assign_add instead.\n",
      "\n"
     ]
    },
    {
     "name": "stdout",
     "output_type": "stream",
     "text": [
      "WARNING:tensorflow:From /users/tr.saraw/anaconda/envs/pyterrier/lib/python3.7/site-packages/keras/backend/tensorflow_backend.py:973: The name tf.assign is deprecated. Please use tf.compat.v1.assign instead.\n",
      "\n"
     ]
    },
    {
     "name": "stderr",
     "output_type": "stream",
     "text": [
      "2020-08-03 02:00:33,616 : WARNING : From /users/tr.saraw/anaconda/envs/pyterrier/lib/python3.7/site-packages/keras/backend/tensorflow_backend.py:973: The name tf.assign is deprecated. Please use tf.compat.v1.assign instead.\n",
      "\n",
      "2020-08-03 02:00:33,793 : INFO : Generate totally 10120 pairs\n"
     ]
    },
    {
     "name": "stdout",
     "output_type": "stream",
     "text": [
      "WARNING:tensorflow:From /users/tr.saraw/anaconda/envs/pyterrier/lib/python3.7/site-packages/keras/backend/tensorflow_backend.py:174: The name tf.get_default_session is deprecated. Please use tf.compat.v1.get_default_session instead.\n",
      "\n"
     ]
    },
    {
     "name": "stderr",
     "output_type": "stream",
     "text": [
      "2020-08-03 02:00:33,841 : WARNING : From /users/tr.saraw/anaconda/envs/pyterrier/lib/python3.7/site-packages/keras/backend/tensorflow_backend.py:174: The name tf.get_default_session is deprecated. Please use tf.compat.v1.get_default_session instead.\n",
      "\n"
     ]
    },
    {
     "name": "stdout",
     "output_type": "stream",
     "text": [
      "WARNING:tensorflow:From /users/tr.saraw/anaconda/envs/pyterrier/lib/python3.7/site-packages/keras/backend/tensorflow_backend.py:190: The name tf.global_variables is deprecated. Please use tf.compat.v1.global_variables instead.\n",
      "\n"
     ]
    },
    {
     "name": "stderr",
     "output_type": "stream",
     "text": [
      "2020-08-03 02:00:33,855 : WARNING : From /users/tr.saraw/anaconda/envs/pyterrier/lib/python3.7/site-packages/keras/backend/tensorflow_backend.py:190: The name tf.global_variables is deprecated. Please use tf.compat.v1.global_variables instead.\n",
      "\n"
     ]
    },
    {
     "name": "stdout",
     "output_type": "stream",
     "text": [
      "WARNING:tensorflow:From /users/tr.saraw/anaconda/envs/pyterrier/lib/python3.7/site-packages/keras/backend/tensorflow_backend.py:199: The name tf.is_variable_initialized is deprecated. Please use tf.compat.v1.is_variable_initialized instead.\n",
      "\n"
     ]
    },
    {
     "name": "stderr",
     "output_type": "stream",
     "text": [
      "2020-08-03 02:00:33,857 : WARNING : From /users/tr.saraw/anaconda/envs/pyterrier/lib/python3.7/site-packages/keras/backend/tensorflow_backend.py:199: The name tf.is_variable_initialized is deprecated. Please use tf.compat.v1.is_variable_initialized instead.\n",
      "\n"
     ]
    },
    {
     "name": "stdout",
     "output_type": "stream",
     "text": [
      "WARNING:tensorflow:From /users/tr.saraw/anaconda/envs/pyterrier/lib/python3.7/site-packages/keras/backend/tensorflow_backend.py:206: The name tf.variables_initializer is deprecated. Please use tf.compat.v1.variables_initializer instead.\n",
      "\n"
     ]
    },
    {
     "name": "stderr",
     "output_type": "stream",
     "text": [
      "2020-08-03 02:00:33,956 : WARNING : From /users/tr.saraw/anaconda/envs/pyterrier/lib/python3.7/site-packages/keras/backend/tensorflow_backend.py:206: The name tf.variables_initializer is deprecated. Please use tf.compat.v1.variables_initializer instead.\n",
      "\n"
     ]
    },
    {
     "name": "stdout",
     "output_type": "stream",
     "text": [
      "[Iter 0]\tLoss: [0.8950699866407003]\n",
      "[Valid]\t\tMAP\tP20\tNDCG20\n",
      "\t\t0.0819\t0.1475\t0.1857\n",
      "iteration: 0\n",
      "[Iter 1]\tLoss: [0.701585880616908]\n",
      "[Valid]\t\tMAP\tP20\tNDCG20\n",
      "\t\t0.0828\t0.1575\t0.1934\n",
      "iteration: 1\n",
      "[Iter 2]\tLoss: [0.677899934439791]\n",
      "[Valid]\t\tMAP\tP20\tNDCG20\n",
      "\t\t0.0853\t0.1600\t0.1997\n",
      "iteration: 2\n",
      "[Iter 3]\tLoss: [0.6662429239556723]\n",
      "[Valid]\t\tMAP\tP20\tNDCG20\n",
      "\t\t0.0872\t0.1600\t0.2045\n",
      "iteration: 3\n",
      "[Iter 4]\tLoss: [0.6586158492348411]\n",
      "[Valid]\t\tMAP\tP20\tNDCG20\n",
      "\t\t0.0874\t0.1600\t0.2052\n",
      "iteration: 4\n",
      "[Iter 5]\tLoss: [0.6531213842361812]\n"
     ]
    },
    {
     "name": "stderr",
     "output_type": "stream",
     "text": [
      "2020-08-03 02:02:15,252 : INFO : Generate totally 10120 pairs\n"
     ]
    },
    {
     "name": "stdout",
     "output_type": "stream",
     "text": [
      "[Valid]\t\tMAP\tP20\tNDCG20\n",
      "\t\t0.0890\t0.1600\t0.2060\n",
      "Epoch 1\n",
      "iteration: 5\n",
      "[Iter 6]\tLoss: [0.6465287090466899]\n",
      "[Valid]\t\tMAP\tP20\tNDCG20\n",
      "\t\t0.0888\t0.1600\t0.2049\n",
      "iteration: 6\n",
      "[Iter 7]\tLoss: [0.6431249470225436]\n",
      "[Valid]\t\tMAP\tP20\tNDCG20\n",
      "\t\t0.0896\t0.1600\t0.2053\n",
      "iteration: 7\n",
      "[Iter 8]\tLoss: [0.640135361095191]\n",
      "[Valid]\t\tMAP\tP20\tNDCG20\n",
      "\t\t0.0915\t0.1600\t0.2108\n",
      "iteration: 8\n",
      "[Iter 9]\tLoss: [0.6376017337083345]\n",
      "[Valid]\t\tMAP\tP20\tNDCG20\n",
      "\t\t0.0918\t0.1600\t0.2121\n",
      "iteration: 9\n",
      "[Iter 10]\tLoss: [0.6351418992865226]\n",
      "[Valid]\t\tMAP\tP20\tNDCG20\n",
      "\t\t0.0921\t0.1625\t0.2139\n",
      "iteration: 10\n",
      "[Iter 11]\tLoss: [0.632503392520865]\n"
     ]
    },
    {
     "name": "stderr",
     "output_type": "stream",
     "text": [
      "2020-08-03 02:03:55,635 : INFO : Generate totally 10120 pairs\n"
     ]
    },
    {
     "name": "stdout",
     "output_type": "stream",
     "text": [
      "[Valid]\t\tMAP\tP20\tNDCG20\n",
      "\t\t0.0928\t0.1650\t0.2161\n",
      "Epoch 2\n",
      "iteration: 11\n",
      "[Iter 12]\tLoss: [0.6278607074333273]\n",
      "[Valid]\t\tMAP\tP20\tNDCG20\n",
      "\t\t0.0922\t0.1575\t0.2076\n",
      "iteration: 12\n",
      "[Iter 13]\tLoss: [0.6254781596215346]\n",
      "[Valid]\t\tMAP\tP20\tNDCG20\n",
      "\t\t0.0921\t0.1600\t0.2082\n",
      "iteration: 13\n",
      "[Iter 14]\tLoss: [0.6230192075781671]\n",
      "[Valid]\t\tMAP\tP20\tNDCG20\n",
      "\t\t0.0926\t0.1650\t0.2122\n",
      "iteration: 14\n",
      "[Iter 15]\tLoss: [0.6205851566414589]\n",
      "[Valid]\t\tMAP\tP20\tNDCG20\n",
      "\t\t0.0932\t0.1625\t0.2113\n",
      "iteration: 15\n",
      "[Iter 16]\tLoss: [0.6184032450433776]\n",
      "[Valid]\t\tMAP\tP20\tNDCG20\n",
      "\t\t0.0934\t0.1650\t0.2120\n",
      "iteration: 16\n",
      "[Iter 17]\tLoss: [0.6165546282478]\n"
     ]
    },
    {
     "name": "stderr",
     "output_type": "stream",
     "text": [
      "2020-08-03 02:05:35,478 : INFO : Generate totally 10120 pairs\n"
     ]
    },
    {
     "name": "stdout",
     "output_type": "stream",
     "text": [
      "[Valid]\t\tMAP\tP20\tNDCG20\n",
      "\t\t0.0937\t0.1625\t0.2176\n",
      "Epoch 3\n",
      "iteration: 17\n",
      "[Iter 18]\tLoss: [0.6069375817395246]\n",
      "[Valid]\t\tMAP\tP20\tNDCG20\n",
      "\t\t0.0955\t0.1650\t0.2198\n",
      "iteration: 18\n",
      "[Iter 19]\tLoss: [0.6052586938081522]\n",
      "[Valid]\t\tMAP\tP20\tNDCG20\n",
      "\t\t0.0947\t0.1650\t0.2181\n",
      "iteration: 19\n",
      "[Iter 20]\tLoss: [0.6037310509401348]\n",
      "[Valid]\t\tMAP\tP20\tNDCG20\n",
      "\t\t0.0939\t0.1650\t0.2170\n",
      "iteration: 20\n",
      "[Iter 21]\tLoss: [0.6022613199037525]\n",
      "[Valid]\t\tMAP\tP20\tNDCG20\n",
      "\t\t0.0938\t0.1700\t0.2209\n",
      "iteration: 21\n",
      "[Iter 22]\tLoss: [0.6011264175765599]\n",
      "[Valid]\t\tMAP\tP20\tNDCG20\n",
      "\t\t0.0930\t0.1700\t0.2203\n",
      "iteration: 22\n",
      "[Iter 23]\tLoss: [0.6000975893125704]\n"
     ]
    },
    {
     "name": "stderr",
     "output_type": "stream",
     "text": [
      "2020-08-03 02:07:14,361 : INFO : Generate totally 10120 pairs\n"
     ]
    },
    {
     "name": "stdout",
     "output_type": "stream",
     "text": [
      "[Valid]\t\tMAP\tP20\tNDCG20\n",
      "\t\t0.0916\t0.1650\t0.2139\n",
      "Epoch 4\n",
      "iteration: 23\n",
      "[Iter 24]\tLoss: [0.6163396261367402]\n",
      "[Valid]\t\tMAP\tP20\tNDCG20\n",
      "\t\t0.0880\t0.1625\t0.2024\n",
      "iteration: 24\n",
      "[Iter 25]\tLoss: [0.6148138059516669]\n",
      "[Valid]\t\tMAP\tP20\tNDCG20\n",
      "\t\t0.0871\t0.1625\t0.2003\n",
      "iteration: 25\n",
      "[Iter 26]\tLoss: [0.613707254703337]\n",
      "[Valid]\t\tMAP\tP20\tNDCG20\n",
      "\t\t0.0870\t0.1625\t0.2006\n",
      "iteration: 26\n",
      "[Iter 27]\tLoss: [0.612289234053476]\n",
      "[Valid]\t\tMAP\tP20\tNDCG20\n",
      "\t\t0.0869\t0.1600\t0.1990\n",
      "iteration: 27\n",
      "[Iter 28]\tLoss: [0.6112721136553957]\n",
      "[Valid]\t\tMAP\tP20\tNDCG20\n",
      "\t\t0.0858\t0.1625\t0.1995\n",
      "iteration: 28\n",
      "[Iter 29]\tLoss: [0.6100401420425992]\n"
     ]
    },
    {
     "name": "stderr",
     "output_type": "stream",
     "text": [
      "2020-08-03 02:08:50,800 : INFO : Generate totally 10120 pairs\n"
     ]
    },
    {
     "name": "stdout",
     "output_type": "stream",
     "text": [
      "[Valid]\t\tMAP\tP20\tNDCG20\n",
      "\t\t0.0856\t0.1625\t0.2009\n",
      "Epoch 5\n",
      "iteration: 29\n",
      "[Iter 30]\tLoss: [0.5986628742675065]\n",
      "[Valid]\t\tMAP\tP20\tNDCG20\n",
      "\t\t0.0853\t0.1575\t0.2002\n",
      "iteration: 30\n",
      "[Iter 31]\tLoss: [0.5974551350055005]\n",
      "[Valid]\t\tMAP\tP20\tNDCG20\n",
      "\t\t0.0850\t0.1550\t0.1985\n",
      "iteration: 31\n",
      "[Iter 32]\tLoss: [0.5962697624747932]\n",
      "[Valid]\t\tMAP\tP20\tNDCG20\n",
      "\t\t0.0842\t0.1575\t0.1998\n",
      "iteration: 32\n",
      "[Iter 33]\tLoss: [0.5951283801155599]\n",
      "[Valid]\t\tMAP\tP20\tNDCG20\n",
      "\t\t0.0837\t0.1550\t0.1970\n",
      "iteration: 33\n",
      "[Iter 34]\tLoss: [0.594019898901815]\n",
      "[Valid]\t\tMAP\tP20\tNDCG20\n",
      "\t\t0.0827\t0.1550\t0.1965\n",
      "iteration: 34\n",
      "[Iter 35]\tLoss: [0.5930015833481498]\n"
     ]
    },
    {
     "name": "stderr",
     "output_type": "stream",
     "text": [
      "2020-08-03 02:10:31,034 : INFO : Generate totally 10120 pairs\n"
     ]
    },
    {
     "name": "stdout",
     "output_type": "stream",
     "text": [
      "[Valid]\t\tMAP\tP20\tNDCG20\n",
      "\t\t0.0830\t0.1550\t0.1973\n",
      "Epoch 6\n",
      "iteration: 35\n",
      "[Iter 36]\tLoss: [0.5999569510047144]\n",
      "[Valid]\t\tMAP\tP20\tNDCG20\n",
      "\t\t0.0843\t0.1550\t0.1990\n",
      "iteration: 36\n",
      "[Iter 37]\tLoss: [0.5989479713524755]\n",
      "[Valid]\t\tMAP\tP20\tNDCG20\n",
      "\t\t0.0840\t0.1550\t0.1986\n",
      "iteration: 37\n",
      "[Iter 38]\tLoss: [0.5982240767700399]\n",
      "[Valid]\t\tMAP\tP20\tNDCG20\n",
      "\t\t0.0841\t0.1550\t0.1986\n",
      "iteration: 38\n",
      "[Iter 39]\tLoss: [0.5975652771740563]\n",
      "[Valid]\t\tMAP\tP20\tNDCG20\n",
      "\t\t0.0840\t0.1550\t0.1988\n",
      "iteration: 39\n",
      "[Iter 40]\tLoss: [0.5968999762544519]\n",
      "[Valid]\t\tMAP\tP20\tNDCG20\n",
      "\t\t0.0839\t0.1550\t0.1987\n",
      "iteration: 40\n",
      "[Iter 41]\tLoss: [0.5964333326095649]\n"
     ]
    },
    {
     "name": "stderr",
     "output_type": "stream",
     "text": [
      "2020-08-03 02:12:14,062 : INFO : Generate totally 10120 pairs\n"
     ]
    },
    {
     "name": "stdout",
     "output_type": "stream",
     "text": [
      "[Valid]\t\tMAP\tP20\tNDCG20\n",
      "\t\t0.0840\t0.1550\t0.1989\n",
      "Epoch 7\n",
      "iteration: 41\n",
      "[Iter 42]\tLoss: [0.5920848157919443]\n",
      "[Valid]\t\tMAP\tP20\tNDCG20\n",
      "\t\t0.0828\t0.1575\t0.1978\n",
      "iteration: 42\n",
      "[Iter 43]\tLoss: [0.5914922834561748]\n",
      "[Valid]\t\tMAP\tP20\tNDCG20\n",
      "\t\t0.0830\t0.1575\t0.1978\n",
      "iteration: 43\n",
      "[Iter 44]\tLoss: [0.5909930053259073]\n",
      "[Valid]\t\tMAP\tP20\tNDCG20\n",
      "\t\t0.0830\t0.1575\t0.1978\n",
      "iteration: 44\n",
      "[Iter 45]\tLoss: [0.5906275632706556]\n",
      "[Valid]\t\tMAP\tP20\tNDCG20\n",
      "\t\t0.0813\t0.1575\t0.1966\n",
      "iteration: 45\n",
      "[Iter 46]\tLoss: [0.5902535211250716]\n",
      "[Valid]\t\tMAP\tP20\tNDCG20\n",
      "\t\t0.0813\t0.1575\t0.1962\n",
      "iteration: 46\n",
      "[Iter 47]\tLoss: [0.5899647532008854]\n"
     ]
    },
    {
     "name": "stderr",
     "output_type": "stream",
     "text": [
      "2020-08-03 02:13:56,276 : INFO : Generate totally 10120 pairs\n"
     ]
    },
    {
     "name": "stdout",
     "output_type": "stream",
     "text": [
      "[Valid]\t\tMAP\tP20\tNDCG20\n",
      "\t\t0.0812\t0.1575\t0.1960\n",
      "Epoch 8\n",
      "iteration: 47\n",
      "[Iter 48]\tLoss: [0.5874803590444708]\n",
      "[Valid]\t\tMAP\tP20\tNDCG20\n",
      "\t\t0.0818\t0.1575\t0.1981\n",
      "iteration: 48\n",
      "[Iter 49]\tLoss: [0.5867882962283409]\n",
      "[Valid]\t\tMAP\tP20\tNDCG20\n",
      "\t\t0.0817\t0.1575\t0.1980\n",
      "iteration: 49\n",
      "[Iter 50]\tLoss: [0.5863956269539392]\n",
      "[Valid]\t\tMAP\tP20\tNDCG20\n",
      "\t\t0.0817\t0.1575\t0.1980\n",
      "iteration: 50\n",
      "[Iter 51]\tLoss: [0.5860837852589698]\n",
      "[Valid]\t\tMAP\tP20\tNDCG20\n",
      "\t\t0.0818\t0.1575\t0.1983\n",
      "iteration: 51\n",
      "[Iter 52]\tLoss: [0.5857910488846274]\n",
      "[Valid]\t\tMAP\tP20\tNDCG20\n",
      "\t\t0.0817\t0.1600\t0.1994\n",
      "iteration: 52\n",
      "[Iter 53]\tLoss: [0.5855016757553745]\n"
     ]
    },
    {
     "name": "stderr",
     "output_type": "stream",
     "text": [
      "2020-08-03 02:15:38,471 : INFO : Generate totally 10120 pairs\n"
     ]
    },
    {
     "name": "stdout",
     "output_type": "stream",
     "text": [
      "[Valid]\t\tMAP\tP20\tNDCG20\n",
      "\t\t0.0815\t0.1600\t0.2000\n",
      "Epoch 9\n",
      "iteration: 53\n",
      "[Iter 54]\tLoss: [0.5893634698784398]\n",
      "[Valid]\t\tMAP\tP20\tNDCG20\n",
      "\t\t0.0860\t0.1525\t0.1991\n",
      "iteration: 54\n",
      "[Iter 55]\tLoss: [0.5890807910811289]\n",
      "[Valid]\t\tMAP\tP20\tNDCG20\n",
      "\t\t0.0849\t0.1525\t0.1963\n",
      "iteration: 55\n",
      "[Iter 56]\tLoss: [0.5887335129818426]\n",
      "[Valid]\t\tMAP\tP20\tNDCG20\n",
      "\t\t0.0839\t0.1550\t0.1977\n",
      "iteration: 56\n",
      "[Iter 57]\tLoss: [0.5884664545181711]\n",
      "[Valid]\t\tMAP\tP20\tNDCG20\n",
      "\t\t0.0836\t0.1550\t0.1979\n",
      "iteration: 57\n",
      "[Iter 58]\tLoss: [0.5883473549848017]\n",
      "[Valid]\t\tMAP\tP20\tNDCG20\n",
      "\t\t0.0843\t0.1550\t0.1983\n",
      "iteration: 58\n",
      "[Iter 59]\tLoss: [0.5881852873052533]\n"
     ]
    },
    {
     "name": "stderr",
     "output_type": "stream",
     "text": [
      "2020-08-03 02:17:20,765 : INFO : Generate totally 10120 pairs\n"
     ]
    },
    {
     "name": "stdout",
     "output_type": "stream",
     "text": [
      "[Valid]\t\tMAP\tP20\tNDCG20\n",
      "\t\t0.0850\t0.1550\t0.1988\n",
      "Epoch 10\n",
      "iteration: 59\n",
      "[Iter 60]\tLoss: [0.5871504764606359]\n",
      "[Valid]\t\tMAP\tP20\tNDCG20\n",
      "\t\t0.0824\t0.1575\t0.2001\n",
      "iteration: 60\n",
      "[Iter 61]\tLoss: [0.5865349554909548]\n",
      "[Valid]\t\tMAP\tP20\tNDCG20\n",
      "\t\t0.0824\t0.1600\t0.2014\n",
      "iteration: 61\n",
      "[Iter 62]\tLoss: [0.5864007311611779]\n",
      "[Valid]\t\tMAP\tP20\tNDCG20\n",
      "\t\t0.0820\t0.1600\t0.2008\n",
      "iteration: 62\n",
      "[Iter 63]\tLoss: [0.5861540412891052]\n",
      "[Valid]\t\tMAP\tP20\tNDCG20\n",
      "\t\t0.0822\t0.1600\t0.2017\n",
      "iteration: 63\n",
      "[Iter 64]\tLoss: [0.5859351034751051]\n",
      "[Valid]\t\tMAP\tP20\tNDCG20\n",
      "\t\t0.0822\t0.1600\t0.2016\n",
      "iteration: 64\n",
      "[Iter 65]\tLoss: [0.5857987437441415]\n"
     ]
    },
    {
     "name": "stderr",
     "output_type": "stream",
     "text": [
      "2020-08-03 02:19:02,901 : INFO : Generate totally 10120 pairs\n"
     ]
    },
    {
     "name": "stdout",
     "output_type": "stream",
     "text": [
      "[Valid]\t\tMAP\tP20\tNDCG20\n",
      "\t\t0.0821\t0.1600\t0.2015\n",
      "Epoch 11\n",
      "iteration: 65\n",
      "[Iter 66]\tLoss: [0.5918773732814393]\n",
      "[Valid]\t\tMAP\tP20\tNDCG20\n",
      "\t\t0.0831\t0.1575\t0.1981\n",
      "iteration: 66\n",
      "[Iter 67]\tLoss: [0.5919172518514833]\n",
      "[Valid]\t\tMAP\tP20\tNDCG20\n",
      "\t\t0.0830\t0.1575\t0.1980\n",
      "iteration: 67\n",
      "[Iter 68]\tLoss: [0.591654549768791]\n",
      "[Valid]\t\tMAP\tP20\tNDCG20\n",
      "\t\t0.0831\t0.1575\t0.1981\n",
      "iteration: 68\n",
      "[Iter 69]\tLoss: [0.5916325960588078]\n",
      "[Valid]\t\tMAP\tP20\tNDCG20\n",
      "\t\t0.0831\t0.1575\t0.1981\n",
      "iteration: 69\n",
      "[Iter 70]\tLoss: [0.5913443556533972]\n",
      "[Valid]\t\tMAP\tP20\tNDCG20\n",
      "\t\t0.0820\t0.1600\t0.1992\n",
      "iteration: 70\n",
      "[Iter 71]\tLoss: [0.5914624022695387]\n"
     ]
    },
    {
     "name": "stderr",
     "output_type": "stream",
     "text": [
      "2020-08-03 02:20:45,655 : INFO : Generate totally 10120 pairs\n"
     ]
    },
    {
     "name": "stdout",
     "output_type": "stream",
     "text": [
      "[Valid]\t\tMAP\tP20\tNDCG20\n",
      "\t\t0.0820\t0.1600\t0.1989\n",
      "Epoch 12\n",
      "iteration: 71\n",
      "[Iter 72]\tLoss: [0.5882345839392527]\n",
      "[Valid]\t\tMAP\tP20\tNDCG20\n",
      "\t\t0.0823\t0.1600\t0.1995\n",
      "iteration: 72\n",
      "[Iter 73]\tLoss: [0.5878797695924171]\n",
      "[Valid]\t\tMAP\tP20\tNDCG20\n",
      "\t\t0.0835\t0.1600\t0.2003\n",
      "iteration: 73\n",
      "[Iter 74]\tLoss: [0.5876248615532524]\n",
      "[Valid]\t\tMAP\tP20\tNDCG20\n",
      "\t\t0.0835\t0.1600\t0.2003\n",
      "iteration: 74\n",
      "[Iter 75]\tLoss: [0.5875221073568574]\n",
      "[Valid]\t\tMAP\tP20\tNDCG20\n",
      "\t\t0.0836\t0.1600\t0.2004\n",
      "iteration: 75\n",
      "[Iter 76]\tLoss: [0.5874844439062676]\n",
      "[Valid]\t\tMAP\tP20\tNDCG20\n",
      "\t\t0.0836\t0.1600\t0.2003\n",
      "iteration: 76\n",
      "[Iter 77]\tLoss: [0.5873118161036092]\n"
     ]
    },
    {
     "name": "stderr",
     "output_type": "stream",
     "text": [
      "2020-08-03 02:22:29,074 : INFO : Generate totally 10120 pairs\n"
     ]
    },
    {
     "name": "stdout",
     "output_type": "stream",
     "text": [
      "[Valid]\t\tMAP\tP20\tNDCG20\n",
      "\t\t0.0838\t0.1600\t0.2007\n",
      "Epoch 13\n",
      "iteration: 77\n",
      "[Iter 78]\tLoss: [0.590655579220636]\n",
      "[Valid]\t\tMAP\tP20\tNDCG20\n",
      "\t\t0.0854\t0.1575\t0.2055\n",
      "iteration: 78\n",
      "[Iter 79]\tLoss: [0.5902390151391388]\n",
      "[Valid]\t\tMAP\tP20\tNDCG20\n",
      "\t\t0.0850\t0.1575\t0.2053\n",
      "iteration: 79\n",
      "[Iter 80]\tLoss: [0.5900908490650267]\n",
      "[Valid]\t\tMAP\tP20\tNDCG20\n",
      "\t\t0.0848\t0.1575\t0.2051\n",
      "iteration: 80\n",
      "[Iter 81]\tLoss: [0.5900656637172454]\n",
      "[Valid]\t\tMAP\tP20\tNDCG20\n",
      "\t\t0.0848\t0.1575\t0.2050\n",
      "iteration: 81\n",
      "[Iter 82]\tLoss: [0.5898815790714012]\n",
      "[Valid]\t\tMAP\tP20\tNDCG20\n",
      "\t\t0.0850\t0.1575\t0.2048\n",
      "iteration: 82\n",
      "[Iter 83]\tLoss: [0.589635614379357]\n"
     ]
    },
    {
     "name": "stderr",
     "output_type": "stream",
     "text": [
      "2020-08-03 02:24:11,957 : INFO : Generate totally 10120 pairs\n"
     ]
    },
    {
     "name": "stdout",
     "output_type": "stream",
     "text": [
      "[Valid]\t\tMAP\tP20\tNDCG20\n",
      "\t\t0.0849\t0.1575\t0.2047\n",
      "Epoch 14\n",
      "iteration: 83\n",
      "[Iter 84]\tLoss: [0.5829816389343013]\n",
      "[Valid]\t\tMAP\tP20\tNDCG20\n",
      "\t\t0.0825\t0.1625\t0.2025\n",
      "iteration: 84\n",
      "[Iter 85]\tLoss: [0.5826752598106626]\n",
      "[Valid]\t\tMAP\tP20\tNDCG20\n",
      "\t\t0.0829\t0.1625\t0.2035\n",
      "iteration: 85\n",
      "[Iter 86]\tLoss: [0.5824607431947478]\n",
      "[Valid]\t\tMAP\tP20\tNDCG20\n",
      "\t\t0.0828\t0.1625\t0.2031\n",
      "iteration: 86\n",
      "[Iter 87]\tLoss: [0.5821918405209605]\n",
      "[Valid]\t\tMAP\tP20\tNDCG20\n",
      "\t\t0.0826\t0.1625\t0.2030\n",
      "iteration: 87\n",
      "[Iter 88]\tLoss: [0.582113026571368]\n",
      "[Valid]\t\tMAP\tP20\tNDCG20\n",
      "\t\t0.0825\t0.1625\t0.2028\n",
      "iteration: 88\n",
      "[Iter 89]\tLoss: [0.5819696986333655]\n"
     ]
    },
    {
     "name": "stderr",
     "output_type": "stream",
     "text": [
      "2020-08-03 02:25:55,284 : INFO : Generate totally 10120 pairs\n"
     ]
    },
    {
     "name": "stdout",
     "output_type": "stream",
     "text": [
      "[Valid]\t\tMAP\tP20\tNDCG20\n",
      "\t\t0.0821\t0.1625\t0.2021\n",
      "Epoch 15\n",
      "iteration: 89\n",
      "[Iter 90]\tLoss: [0.5952472675871472]\n",
      "[Valid]\t\tMAP\tP20\tNDCG20\n",
      "\t\t0.0815\t0.1625\t0.2014\n",
      "iteration: 90\n",
      "[Iter 91]\tLoss: [0.5952031405370226]\n",
      "[Valid]\t\tMAP\tP20\tNDCG20\n",
      "\t\t0.0819\t0.1625\t0.2025\n",
      "iteration: 91\n",
      "[Iter 92]\tLoss: [0.5949085135115937]\n",
      "[Valid]\t\tMAP\tP20\tNDCG20\n",
      "\t\t0.0819\t0.1625\t0.2025\n",
      "iteration: 92\n",
      "[Iter 93]\tLoss: [0.5948389619883341]\n",
      "[Valid]\t\tMAP\tP20\tNDCG20\n",
      "\t\t0.0819\t0.1625\t0.2027\n",
      "iteration: 93\n",
      "[Iter 94]\tLoss: [0.59469563658294]\n",
      "[Valid]\t\tMAP\tP20\tNDCG20\n",
      "\t\t0.0818\t0.1625\t0.2025\n",
      "iteration: 94\n",
      "[Iter 95]\tLoss: [0.594596503398164]\n"
     ]
    },
    {
     "name": "stderr",
     "output_type": "stream",
     "text": [
      "2020-08-03 02:27:37,006 : INFO : Generate totally 10120 pairs\n"
     ]
    },
    {
     "name": "stdout",
     "output_type": "stream",
     "text": [
      "[Valid]\t\tMAP\tP20\tNDCG20\n",
      "\t\t0.0843\t0.1625\t0.2087\n",
      "Epoch 16\n",
      "iteration: 95\n",
      "[Iter 96]\tLoss: [0.5816857930817623]\n",
      "[Valid]\t\tMAP\tP20\tNDCG20\n",
      "\t\t0.0812\t0.1650\t0.2007\n",
      "iteration: 96\n",
      "[Iter 97]\tLoss: [0.5812904310850758]\n",
      "[Valid]\t\tMAP\tP20\tNDCG20\n",
      "\t\t0.0815\t0.1650\t0.2010\n",
      "iteration: 97\n",
      "[Iter 98]\tLoss: [0.5811676731988376]\n",
      "[Valid]\t\tMAP\tP20\tNDCG20\n",
      "\t\t0.0812\t0.1650\t0.2009\n",
      "iteration: 98\n",
      "[Iter 99]\tLoss: [0.5810004316653188]\n",
      "[Valid]\t\tMAP\tP20\tNDCG20\n",
      "\t\t0.0816\t0.1675\t0.2036\n",
      "iteration: 99\n",
      "[Iter 100]\tLoss: [0.5809252940913434]\n",
      "[Valid]\t\tMAP\tP20\tNDCG20\n",
      "\t\t0.0815\t0.1675\t0.2036\n",
      "iteration: 100\n",
      "[Iter 101]\tLoss: [0.5807592253616676]\n"
     ]
    },
    {
     "name": "stderr",
     "output_type": "stream",
     "text": [
      "2020-08-03 02:29:22,785 : INFO : Generate totally 10120 pairs\n"
     ]
    },
    {
     "name": "stdout",
     "output_type": "stream",
     "text": [
      "[Valid]\t\tMAP\tP20\tNDCG20\n",
      "\t\t0.0816\t0.1675\t0.2037\n",
      "Epoch 17\n",
      "iteration: 101\n",
      "[Iter 102]\tLoss: [0.5796860458233611]\n",
      "[Valid]\t\tMAP\tP20\tNDCG20\n",
      "\t\t0.0824\t0.1625\t0.2021\n",
      "iteration: 102\n",
      "[Iter 103]\tLoss: [0.579306177971627]\n",
      "[Valid]\t\tMAP\tP20\tNDCG20\n",
      "\t\t0.0847\t0.1625\t0.2080\n",
      "iteration: 103\n",
      "[Iter 104]\tLoss: [0.5792381032977415]\n",
      "[Valid]\t\tMAP\tP20\tNDCG20\n",
      "\t\t0.0847\t0.1625\t0.2081\n",
      "iteration: 104\n",
      "[Iter 105]\tLoss: [0.5790558384930192]\n",
      "[Valid]\t\tMAP\tP20\tNDCG20\n",
      "\t\t0.0829\t0.1625\t0.2037\n",
      "iteration: 105\n",
      "[Iter 106]\tLoss: [0.5789443637748717]\n",
      "[Valid]\t\tMAP\tP20\tNDCG20\n",
      "\t\t0.0825\t0.1600\t0.2019\n",
      "iteration: 106\n",
      "[Iter 107]\tLoss: [0.5788398036372521]\n"
     ]
    },
    {
     "name": "stderr",
     "output_type": "stream",
     "text": [
      "2020-08-03 02:31:07,413 : INFO : Generate totally 10120 pairs\n"
     ]
    },
    {
     "name": "stdout",
     "output_type": "stream",
     "text": [
      "[Valid]\t\tMAP\tP20\tNDCG20\n",
      "\t\t0.0843\t0.1625\t0.2080\n",
      "Epoch 18\n",
      "iteration: 107\n",
      "[Iter 108]\tLoss: [0.5850199411214576]\n",
      "[Valid]\t\tMAP\tP20\tNDCG20\n",
      "\t\t0.0814\t0.1600\t0.1985\n",
      "iteration: 108\n",
      "[Iter 109]\tLoss: [0.5849229156853182]\n",
      "[Valid]\t\tMAP\tP20\tNDCG20\n",
      "\t\t0.0811\t0.1600\t0.1979\n",
      "iteration: 109\n",
      "[Iter 110]\tLoss: [0.5847463603959724]\n",
      "[Valid]\t\tMAP\tP20\tNDCG20\n",
      "\t\t0.0810\t0.1600\t0.1982\n",
      "iteration: 110\n",
      "[Iter 111]\tLoss: [0.5846489891704363]\n",
      "[Valid]\t\tMAP\tP20\tNDCG20\n",
      "\t\t0.0810\t0.1600\t0.1982\n",
      "iteration: 111\n",
      "[Iter 112]\tLoss: [0.5845534343257723]\n",
      "[Valid]\t\tMAP\tP20\tNDCG20\n",
      "\t\t0.0824\t0.1600\t0.1994\n",
      "iteration: 112\n",
      "[Iter 113]\tLoss: [0.584270874237119]\n"
     ]
    },
    {
     "name": "stderr",
     "output_type": "stream",
     "text": [
      "2020-08-03 02:32:52,249 : INFO : Generate totally 10120 pairs\n"
     ]
    },
    {
     "name": "stdout",
     "output_type": "stream",
     "text": [
      "[Valid]\t\tMAP\tP20\tNDCG20\n",
      "\t\t0.0811\t0.1575\t0.1965\n",
      "Epoch 19\n",
      "iteration: 113\n",
      "[Iter 114]\tLoss: [0.5820179433661251]\n",
      "[Valid]\t\tMAP\tP20\tNDCG20\n",
      "\t\t0.0821\t0.1575\t0.1984\n",
      "iteration: 114\n",
      "[Iter 115]\tLoss: [0.5814447574935883]\n",
      "[Valid]\t\tMAP\tP20\tNDCG20\n",
      "\t\t0.0825\t0.1575\t0.1991\n",
      "iteration: 115\n",
      "[Iter 116]\tLoss: [0.5813545120710676]\n",
      "[Valid]\t\tMAP\tP20\tNDCG20\n",
      "\t\t0.0824\t0.1575\t0.1989\n",
      "iteration: 116\n",
      "[Iter 117]\tLoss: [0.5811159424336532]\n",
      "[Valid]\t\tMAP\tP20\tNDCG20\n",
      "\t\t0.0848\t0.1575\t0.2050\n",
      "iteration: 117\n",
      "[Iter 118]\tLoss: [0.5810240906011681]\n",
      "[Valid]\t\tMAP\tP20\tNDCG20\n",
      "\t\t0.0849\t0.1575\t0.2053\n",
      "iteration: 118\n",
      "[Iter 119]\tLoss: [0.5808850017195869]\n"
     ]
    },
    {
     "name": "stderr",
     "output_type": "stream",
     "text": [
      "2020-08-03 02:34:36,500 : INFO : Generate totally 10120 pairs\n"
     ]
    },
    {
     "name": "stdout",
     "output_type": "stream",
     "text": [
      "[Valid]\t\tMAP\tP20\tNDCG20\n",
      "\t\t0.0848\t0.1600\t0.2064\n",
      "Epoch 20\n",
      "iteration: 119\n",
      "[Iter 120]\tLoss: [0.5822805155642891]\n",
      "[Valid]\t\tMAP\tP20\tNDCG20\n",
      "\t\t0.0840\t0.1600\t0.2060\n",
      "iteration: 120\n",
      "[Iter 121]\tLoss: [0.582036317278274]\n",
      "[Valid]\t\tMAP\tP20\tNDCG20\n",
      "\t\t0.0831\t0.1600\t0.2014\n",
      "iteration: 121\n",
      "[Iter 122]\tLoss: [0.5817022784484234]\n",
      "[Valid]\t\tMAP\tP20\tNDCG20\n",
      "\t\t0.0839\t0.1600\t0.2061\n",
      "iteration: 122\n",
      "[Iter 123]\tLoss: [0.5815956558693539]\n",
      "[Valid]\t\tMAP\tP20\tNDCG20\n",
      "\t\t0.0839\t0.1600\t0.2061\n",
      "iteration: 123\n",
      "[Iter 124]\tLoss: [0.5816340500363719]\n",
      "[Valid]\t\tMAP\tP20\tNDCG20\n",
      "\t\t0.0816\t0.1600\t0.2000\n",
      "iteration: 124\n",
      "[Iter 125]\tLoss: [0.5814783734236311]\n"
     ]
    },
    {
     "name": "stderr",
     "output_type": "stream",
     "text": [
      "2020-08-03 02:36:19,389 : INFO : Generate totally 10120 pairs\n"
     ]
    },
    {
     "name": "stdout",
     "output_type": "stream",
     "text": [
      "[Valid]\t\tMAP\tP20\tNDCG20\n",
      "\t\t0.0816\t0.1600\t0.1999\n",
      "Epoch 21\n",
      "iteration: 125\n",
      "[Iter 126]\tLoss: [0.5787833558299796]\n",
      "[Valid]\t\tMAP\tP20\tNDCG20\n",
      "\t\t0.0812\t0.1600\t0.1992\n",
      "iteration: 126\n",
      "[Iter 127]\tLoss: [0.5784800454915277]\n",
      "[Valid]\t\tMAP\tP20\tNDCG20\n",
      "\t\t0.0824\t0.1600\t0.1999\n",
      "iteration: 127\n",
      "[Iter 128]\tLoss: [0.5783094955468366]\n",
      "[Valid]\t\tMAP\tP20\tNDCG20\n",
      "\t\t0.0818\t0.1625\t0.2007\n",
      "iteration: 128\n",
      "[Iter 129]\tLoss: [0.5781061997408924]\n",
      "[Valid]\t\tMAP\tP20\tNDCG20\n",
      "\t\t0.0818\t0.1600\t0.1993\n",
      "iteration: 129\n",
      "[Iter 130]\tLoss: [0.5778499730078599]\n",
      "[Valid]\t\tMAP\tP20\tNDCG20\n",
      "\t\t0.0817\t0.1625\t0.2007\n",
      "iteration: 130\n",
      "[Iter 131]\tLoss: [0.5777392862106971]\n"
     ]
    },
    {
     "name": "stderr",
     "output_type": "stream",
     "text": [
      "2020-08-03 02:38:03,186 : INFO : Generate totally 10120 pairs\n"
     ]
    },
    {
     "name": "stdout",
     "output_type": "stream",
     "text": [
      "[Valid]\t\tMAP\tP20\tNDCG20\n",
      "\t\t0.0818\t0.1600\t0.1994\n",
      "Epoch 22\n",
      "iteration: 131\n",
      "[Iter 132]\tLoss: [0.5779364496587294]\n",
      "[Valid]\t\tMAP\tP20\tNDCG20\n",
      "\t\t0.0841\t0.1600\t0.2065\n",
      "iteration: 132\n",
      "[Iter 133]\tLoss: [0.5777571557362089]\n",
      "[Valid]\t\tMAP\tP20\tNDCG20\n",
      "\t\t0.0810\t0.1600\t0.1997\n",
      "iteration: 133\n",
      "[Iter 134]\tLoss: [0.5774719178853299]\n",
      "[Valid]\t\tMAP\tP20\tNDCG20\n",
      "\t\t0.0810\t0.1600\t0.1995\n",
      "iteration: 134\n",
      "[Iter 135]\tLoss: [0.5773777093870838]\n",
      "[Valid]\t\tMAP\tP20\tNDCG20\n",
      "\t\t0.0816\t0.1600\t0.2001\n",
      "iteration: 135\n",
      "[Iter 136]\tLoss: [0.5771929747737915]\n",
      "[Valid]\t\tMAP\tP20\tNDCG20\n",
      "\t\t0.0810\t0.1600\t0.1993\n",
      "iteration: 136\n",
      "[Iter 137]\tLoss: [0.5770790780132468]\n"
     ]
    },
    {
     "name": "stderr",
     "output_type": "stream",
     "text": [
      "2020-08-03 02:39:48,177 : INFO : Generate totally 10120 pairs\n"
     ]
    },
    {
     "name": "stdout",
     "output_type": "stream",
     "text": [
      "[Valid]\t\tMAP\tP20\tNDCG20\n",
      "\t\t0.0811\t0.1625\t0.2004\n",
      "Epoch 23\n",
      "iteration: 137\n",
      "[Iter 138]\tLoss: [0.5670599841435436]\n",
      "[Valid]\t\tMAP\tP20\tNDCG20\n",
      "\t\t0.0817\t0.1625\t0.2019\n",
      "iteration: 138\n",
      "[Iter 139]\tLoss: [0.5668011381044218]\n",
      "[Valid]\t\tMAP\tP20\tNDCG20\n",
      "\t\t0.0817\t0.1625\t0.2017\n",
      "iteration: 139\n",
      "[Iter 140]\tLoss: [0.5665166754378632]\n",
      "[Valid]\t\tMAP\tP20\tNDCG20\n",
      "\t\t0.0815\t0.1625\t0.2016\n",
      "iteration: 140\n",
      "[Iter 141]\tLoss: [0.5664985910823694]\n",
      "[Valid]\t\tMAP\tP20\tNDCG20\n",
      "\t\t0.0820\t0.1625\t0.2018\n",
      "iteration: 141\n",
      "[Iter 142]\tLoss: [0.5662269255389338]\n",
      "[Valid]\t\tMAP\tP20\tNDCG20\n",
      "\t\t0.0819\t0.1625\t0.2017\n",
      "iteration: 142\n",
      "[Iter 143]\tLoss: [0.5661697819122212]\n"
     ]
    },
    {
     "name": "stderr",
     "output_type": "stream",
     "text": [
      "2020-08-03 02:41:32,032 : INFO : Generate totally 10120 pairs\n"
     ]
    },
    {
     "name": "stdout",
     "output_type": "stream",
     "text": [
      "[Valid]\t\tMAP\tP20\tNDCG20\n",
      "\t\t0.0820\t0.1625\t0.2018\n",
      "Epoch 24\n",
      "iteration: 143\n",
      "[Iter 144]\tLoss: [0.5801874848281442]\n",
      "[Valid]\t\tMAP\tP20\tNDCG20\n",
      "\t\t0.0811\t0.1625\t0.2007\n",
      "iteration: 144\n",
      "[Iter 145]\tLoss: [0.5799520473647495]\n",
      "[Valid]\t\tMAP\tP20\tNDCG20\n",
      "\t\t0.0813\t0.1625\t0.2010\n",
      "iteration: 145\n",
      "[Iter 146]\tLoss: [0.5797495449131186]\n",
      "[Valid]\t\tMAP\tP20\tNDCG20\n",
      "\t\t0.0813\t0.1625\t0.2009\n",
      "iteration: 146\n",
      "[Iter 147]\tLoss: [0.5796041510439673]\n",
      "[Valid]\t\tMAP\tP20\tNDCG20\n",
      "\t\t0.0813\t0.1625\t0.2008\n",
      "iteration: 147\n",
      "[Iter 148]\tLoss: [0.5793833050862132]\n",
      "[Valid]\t\tMAP\tP20\tNDCG20\n",
      "\t\t0.0813\t0.1625\t0.2002\n",
      "iteration: 148\n",
      "[Iter 149]\tLoss: [0.5792352244140131]\n"
     ]
    },
    {
     "name": "stderr",
     "output_type": "stream",
     "text": [
      "2020-08-03 02:43:14,096 : INFO : Generate totally 10120 pairs\n"
     ]
    },
    {
     "name": "stdout",
     "output_type": "stream",
     "text": [
      "[Valid]\t\tMAP\tP20\tNDCG20\n",
      "\t\t0.0820\t0.1600\t0.1988\n",
      "Epoch 25\n",
      "iteration: 149\n",
      "[Iter 150]\tLoss: [0.5785409243622788]\n",
      "[Valid]\t\tMAP\tP20\tNDCG20\n",
      "\t\t0.0838\t0.1600\t0.2040\n",
      "iteration: 150\n",
      "[Iter 151]\tLoss: [0.5783722911309819]\n",
      "[Valid]\t\tMAP\tP20\tNDCG20\n",
      "\t\t0.0837\t0.1600\t0.2039\n",
      "iteration: 151\n",
      "[Iter 152]\tLoss: [0.5782163172017916]\n",
      "[Valid]\t\tMAP\tP20\tNDCG20\n",
      "\t\t0.0834\t0.1600\t0.2040\n",
      "iteration: 152\n",
      "[Iter 153]\tLoss: [0.5781471192129987]\n",
      "[Valid]\t\tMAP\tP20\tNDCG20\n",
      "\t\t0.0836\t0.1600\t0.2053\n",
      "iteration: 153\n",
      "[Iter 154]\tLoss: [0.5780020096733165]\n",
      "[Valid]\t\tMAP\tP20\tNDCG20\n",
      "\t\t0.0834\t0.1625\t0.2062\n",
      "iteration: 154\n",
      "[Iter 155]\tLoss: [0.5779517733826939]\n"
     ]
    },
    {
     "name": "stderr",
     "output_type": "stream",
     "text": [
      "2020-08-03 02:44:58,388 : INFO : Generate totally 10120 pairs\n"
     ]
    },
    {
     "name": "stdout",
     "output_type": "stream",
     "text": [
      "[Valid]\t\tMAP\tP20\tNDCG20\n",
      "\t\t0.0833\t0.1625\t0.2064\n",
      "Epoch 26\n",
      "iteration: 155\n",
      "[Iter 156]\tLoss: [0.5789883954398952]\n",
      "[Valid]\t\tMAP\tP20\tNDCG20\n",
      "\t\t0.0834\t0.1650\t0.2081\n",
      "iteration: 156\n",
      "[Iter 157]\tLoss: [0.5785056283410359]\n",
      "[Valid]\t\tMAP\tP20\tNDCG20\n",
      "\t\t0.0834\t0.1650\t0.2084\n",
      "iteration: 157\n",
      "[Iter 158]\tLoss: [0.5784741108832152]\n",
      "[Valid]\t\tMAP\tP20\tNDCG20\n",
      "\t\t0.0833\t0.1650\t0.2078\n",
      "iteration: 158\n",
      "[Iter 159]\tLoss: [0.5781431549445913]\n",
      "[Valid]\t\tMAP\tP20\tNDCG20\n",
      "\t\t0.0834\t0.1650\t0.2074\n",
      "iteration: 159\n",
      "[Iter 160]\tLoss: [0.5782184616732503]\n",
      "[Valid]\t\tMAP\tP20\tNDCG20\n",
      "\t\t0.0836\t0.1650\t0.2076\n",
      "iteration: 160\n",
      "[Iter 161]\tLoss: [0.5780212866812355]\n"
     ]
    },
    {
     "name": "stderr",
     "output_type": "stream",
     "text": [
      "2020-08-03 02:46:40,888 : INFO : Generate totally 10120 pairs\n"
     ]
    },
    {
     "name": "stdout",
     "output_type": "stream",
     "text": [
      "[Valid]\t\tMAP\tP20\tNDCG20\n",
      "\t\t0.0833\t0.1650\t0.2074\n",
      "Epoch 27\n",
      "iteration: 161\n",
      "[Iter 162]\tLoss: [0.5771335530952503]\n",
      "[Valid]\t\tMAP\tP20\tNDCG20\n",
      "\t\t0.0809\t0.1600\t0.1968\n",
      "iteration: 162\n",
      "[Iter 163]\tLoss: [0.5766045723272406]\n",
      "[Valid]\t\tMAP\tP20\tNDCG20\n",
      "\t\t0.0809\t0.1600\t0.1971\n",
      "iteration: 163\n",
      "[Iter 164]\tLoss: [0.5763793711959138]\n",
      "[Valid]\t\tMAP\tP20\tNDCG20\n",
      "\t\t0.0812\t0.1575\t0.1964\n",
      "iteration: 164\n",
      "[Iter 165]\tLoss: [0.5763046140432829]\n",
      "[Valid]\t\tMAP\tP20\tNDCG20\n",
      "\t\t0.0816\t0.1550\t0.1950\n",
      "iteration: 165\n",
      "[Iter 166]\tLoss: [0.576342728828253]\n",
      "[Valid]\t\tMAP\tP20\tNDCG20\n",
      "\t\t0.0813\t0.1550\t0.1947\n",
      "iteration: 166\n",
      "[Iter 167]\tLoss: [0.5762458941034178]\n"
     ]
    },
    {
     "name": "stderr",
     "output_type": "stream",
     "text": [
      "2020-08-03 02:48:24,095 : INFO : Generate totally 10120 pairs\n"
     ]
    },
    {
     "name": "stdout",
     "output_type": "stream",
     "text": [
      "[Valid]\t\tMAP\tP20\tNDCG20\n",
      "\t\t0.0813\t0.1550\t0.1949\n",
      "Epoch 28\n",
      "iteration: 167\n",
      "[Iter 168]\tLoss: [0.5825737900001259]\n",
      "[Valid]\t\tMAP\tP20\tNDCG20\n",
      "\t\t0.0836\t0.1625\t0.2076\n",
      "iteration: 168\n",
      "[Iter 169]\tLoss: [0.5821995800250603]\n",
      "[Valid]\t\tMAP\tP20\tNDCG20\n",
      "\t\t0.0832\t0.1600\t0.2059\n",
      "iteration: 169\n",
      "[Iter 170]\tLoss: [0.5819275350026463]\n",
      "[Valid]\t\tMAP\tP20\tNDCG20\n",
      "\t\t0.0828\t0.1550\t0.2000\n",
      "iteration: 170\n",
      "[Iter 171]\tLoss: [0.5817703440373123]\n",
      "[Valid]\t\tMAP\tP20\tNDCG20\n",
      "\t\t0.0832\t0.1575\t0.2033\n",
      "iteration: 171\n",
      "[Iter 172]\tLoss: [0.5816915986742898]\n",
      "[Valid]\t\tMAP\tP20\tNDCG20\n",
      "\t\t0.0832\t0.1575\t0.2037\n",
      "iteration: 172\n",
      "[Iter 173]\tLoss: [0.5816281184907487]\n"
     ]
    },
    {
     "name": "stderr",
     "output_type": "stream",
     "text": [
      "2020-08-03 02:50:07,624 : INFO : Generate totally 10120 pairs\n"
     ]
    },
    {
     "name": "stdout",
     "output_type": "stream",
     "text": [
      "[Valid]\t\tMAP\tP20\tNDCG20\n",
      "\t\t0.0837\t0.1575\t0.2036\n",
      "Epoch 29\n",
      "iteration: 173\n",
      "[Iter 174]\tLoss: [0.5864093623790345]\n",
      "[Valid]\t\tMAP\tP20\tNDCG20\n",
      "\t\t0.0838\t0.1650\t0.2089\n",
      "iteration: 174\n",
      "[Iter 175]\tLoss: [0.5858266990293156]\n",
      "[Valid]\t\tMAP\tP20\tNDCG20\n",
      "\t\t0.0842\t0.1625\t0.2077\n",
      "iteration: 175\n",
      "[Iter 176]\tLoss: [0.5855839018647379]\n",
      "[Valid]\t\tMAP\tP20\tNDCG20\n",
      "\t\t0.0842\t0.1625\t0.2078\n",
      "iteration: 176\n",
      "[Iter 177]\tLoss: [0.5854359659046052]\n",
      "[Valid]\t\tMAP\tP20\tNDCG20\n",
      "\t\t0.0842\t0.1625\t0.2078\n",
      "iteration: 177\n",
      "[Iter 178]\tLoss: [0.5854032259036901]\n",
      "[Valid]\t\tMAP\tP20\tNDCG20\n",
      "\t\t0.0844\t0.1625\t0.2082\n",
      "iteration: 178\n",
      "[Iter 179]\tLoss: [0.5852528986311242]\n"
     ]
    },
    {
     "name": "stderr",
     "output_type": "stream",
     "text": [
      "2020-08-03 02:51:51,734 : INFO : Generate totally 10120 pairs\n"
     ]
    },
    {
     "name": "stdout",
     "output_type": "stream",
     "text": [
      "[Valid]\t\tMAP\tP20\tNDCG20\n",
      "\t\t0.0842\t0.1625\t0.2078\n",
      "Epoch 30\n",
      "iteration: 179\n",
      "[Iter 180]\tLoss: [0.5738560535278716]\n",
      "[Valid]\t\tMAP\tP20\tNDCG20\n",
      "\t\t0.0835\t0.1600\t0.2050\n",
      "iteration: 180\n",
      "[Iter 181]\tLoss: [0.5736387853506997]\n",
      "[Valid]\t\tMAP\tP20\tNDCG20\n",
      "\t\t0.0833\t0.1600\t0.2047\n",
      "iteration: 181\n",
      "[Iter 182]\tLoss: [0.5734141312038945]\n",
      "[Valid]\t\tMAP\tP20\tNDCG20\n",
      "\t\t0.0836\t0.1600\t0.2046\n",
      "iteration: 182\n",
      "[Iter 183]\tLoss: [0.5731632886491275]\n",
      "[Valid]\t\tMAP\tP20\tNDCG20\n",
      "\t\t0.0835\t0.1600\t0.2047\n",
      "iteration: 183\n",
      "[Iter 184]\tLoss: [0.5730429734342655]\n",
      "[Valid]\t\tMAP\tP20\tNDCG20\n",
      "\t\t0.0834\t0.1600\t0.2045\n",
      "iteration: 184\n",
      "[Iter 185]\tLoss: [0.5730282006998778]\n"
     ]
    },
    {
     "name": "stderr",
     "output_type": "stream",
     "text": [
      "2020-08-03 02:53:33,489 : INFO : Generate totally 10120 pairs\n"
     ]
    },
    {
     "name": "stdout",
     "output_type": "stream",
     "text": [
      "[Valid]\t\tMAP\tP20\tNDCG20\n",
      "\t\t0.0829\t0.1600\t0.2043\n",
      "Epoch 31\n",
      "iteration: 185\n",
      "[Iter 186]\tLoss: [0.5759349530157836]\n",
      "[Valid]\t\tMAP\tP20\tNDCG20\n",
      "\t\t0.0838\t0.1625\t0.2066\n",
      "iteration: 186\n",
      "[Iter 187]\tLoss: [0.5758795290007421]\n",
      "[Valid]\t\tMAP\tP20\tNDCG20\n",
      "\t\t0.0840\t0.1625\t0.2071\n",
      "iteration: 187\n",
      "[Iter 188]\tLoss: [0.5757858822998322]\n",
      "[Valid]\t\tMAP\tP20\tNDCG20\n",
      "\t\t0.0841\t0.1625\t0.2071\n",
      "iteration: 188\n",
      "[Iter 189]\tLoss: [0.5756829959366161]\n",
      "[Valid]\t\tMAP\tP20\tNDCG20\n",
      "\t\t0.0841\t0.1625\t0.2071\n",
      "iteration: 189\n",
      "[Iter 190]\tLoss: [0.5757347884562176]\n",
      "[Valid]\t\tMAP\tP20\tNDCG20\n",
      "\t\t0.0845\t0.1650\t0.2091\n",
      "iteration: 190\n",
      "[Iter 191]\tLoss: [0.5757348198782314]\n"
     ]
    },
    {
     "name": "stderr",
     "output_type": "stream",
     "text": [
      "2020-08-03 02:55:15,718 : INFO : Generate totally 10120 pairs\n"
     ]
    },
    {
     "name": "stdout",
     "output_type": "stream",
     "text": [
      "[Valid]\t\tMAP\tP20\tNDCG20\n",
      "\t\t0.0845\t0.1650\t0.2092\n",
      "Epoch 32\n",
      "iteration: 191\n",
      "[Iter 192]\tLoss: [0.5642537065881043]\n",
      "[Valid]\t\tMAP\tP20\tNDCG20\n",
      "\t\t0.0842\t0.1675\t0.2093\n",
      "iteration: 192\n",
      "[Iter 193]\tLoss: [0.5639598578391339]\n",
      "[Valid]\t\tMAP\tP20\tNDCG20\n",
      "\t\t0.0841\t0.1625\t0.2064\n",
      "iteration: 193\n",
      "[Iter 194]\tLoss: [0.5637967776757455]\n",
      "[Valid]\t\tMAP\tP20\tNDCG20\n",
      "\t\t0.0841\t0.1650\t0.2085\n",
      "iteration: 194\n",
      "[Iter 195]\tLoss: [0.5634845784412542]\n",
      "[Valid]\t\tMAP\tP20\tNDCG20\n",
      "\t\t0.0840\t0.1625\t0.2076\n",
      "iteration: 195\n",
      "[Iter 196]\tLoss: [0.5635760467897055]\n",
      "[Valid]\t\tMAP\tP20\tNDCG20\n",
      "\t\t0.0841\t0.1625\t0.2066\n",
      "iteration: 196\n",
      "[Iter 197]\tLoss: [0.5633883404401923]\n"
     ]
    },
    {
     "name": "stderr",
     "output_type": "stream",
     "text": [
      "2020-08-03 02:56:58,886 : INFO : Generate totally 10120 pairs\n"
     ]
    },
    {
     "name": "stdout",
     "output_type": "stream",
     "text": [
      "[Valid]\t\tMAP\tP20\tNDCG20\n",
      "\t\t0.0841\t0.1650\t0.2081\n",
      "Epoch 33\n",
      "iteration: 197\n",
      "[Iter 198]\tLoss: [0.5723771426399706]\n",
      "[Valid]\t\tMAP\tP20\tNDCG20\n",
      "\t\t0.0836\t0.1625\t0.2066\n",
      "iteration: 198\n",
      "[Iter 199]\tLoss: [0.571998849776187]\n",
      "[Valid]\t\tMAP\tP20\tNDCG20\n",
      "\t\t0.0835\t0.1550\t0.2018\n",
      "iteration: 199\n",
      "[Iter 200]\tLoss: [0.5720116563524182]\n",
      "[Valid]\t\tMAP\tP20\tNDCG20\n",
      "\t\t0.0836\t0.1550\t0.2020\n",
      "iteration: 200\n",
      "[Iter 201]\tLoss: [0.5718812588823171]\n",
      "[Valid]\t\tMAP\tP20\tNDCG20\n",
      "\t\t0.0838\t0.1575\t0.2038\n",
      "iteration: 201\n",
      "[Iter 202]\tLoss: [0.5719078720911689]\n",
      "[Valid]\t\tMAP\tP20\tNDCG20\n",
      "\t\t0.0837\t0.1550\t0.2024\n",
      "iteration: 202\n",
      "[Iter 203]\tLoss: [0.5717277310700285]\n"
     ]
    },
    {
     "name": "stderr",
     "output_type": "stream",
     "text": [
      "2020-08-03 02:58:40,982 : INFO : Generate totally 10120 pairs\n"
     ]
    },
    {
     "name": "stdout",
     "output_type": "stream",
     "text": [
      "[Valid]\t\tMAP\tP20\tNDCG20\n",
      "\t\t0.0840\t0.1575\t0.2040\n",
      "Epoch 34\n",
      "iteration: 203\n",
      "[Iter 204]\tLoss: [0.5690721574390358]\n",
      "[Valid]\t\tMAP\tP20\tNDCG20\n",
      "\t\t0.0809\t0.1550\t0.1936\n",
      "iteration: 204\n",
      "[Iter 205]\tLoss: [0.5687347695879315]\n",
      "[Valid]\t\tMAP\tP20\tNDCG20\n",
      "\t\t0.0809\t0.1550\t0.1937\n",
      "iteration: 205\n",
      "[Iter 206]\tLoss: [0.5687106633963792]\n",
      "[Valid]\t\tMAP\tP20\tNDCG20\n",
      "\t\t0.0809\t0.1550\t0.1938\n",
      "iteration: 206\n",
      "[Iter 207]\tLoss: [0.568676967276886]\n",
      "[Valid]\t\tMAP\tP20\tNDCG20\n",
      "\t\t0.0803\t0.1550\t0.1933\n",
      "iteration: 207\n",
      "[Iter 208]\tLoss: [0.5684771636140206]\n",
      "[Valid]\t\tMAP\tP20\tNDCG20\n",
      "\t\t0.0803\t0.1550\t0.1935\n",
      "iteration: 208\n",
      "[Iter 209]\tLoss: [0.5683969608820946]\n"
     ]
    },
    {
     "name": "stderr",
     "output_type": "stream",
     "text": [
      "2020-08-03 03:00:23,117 : INFO : Generate totally 10120 pairs\n"
     ]
    },
    {
     "name": "stdout",
     "output_type": "stream",
     "text": [
      "[Valid]\t\tMAP\tP20\tNDCG20\n",
      "\t\t0.0803\t0.1550\t0.1933\n",
      "Epoch 35\n",
      "iteration: 209\n",
      "[Iter 210]\tLoss: [0.5721058162010234]\n",
      "[Valid]\t\tMAP\tP20\tNDCG20\n",
      "\t\t0.0842\t0.1575\t0.2050\n",
      "iteration: 210\n",
      "[Iter 211]\tLoss: [0.5719656024879146]\n",
      "[Valid]\t\tMAP\tP20\tNDCG20\n",
      "\t\t0.0840\t0.1600\t0.2053\n",
      "iteration: 211\n",
      "[Iter 212]\tLoss: [0.5719081558022103]\n",
      "[Valid]\t\tMAP\tP20\tNDCG20\n",
      "\t\t0.0840\t0.1600\t0.2054\n",
      "iteration: 212\n",
      "[Iter 213]\tLoss: [0.5717634450600081]\n",
      "[Valid]\t\tMAP\tP20\tNDCG20\n",
      "\t\t0.0839\t0.1600\t0.2051\n",
      "iteration: 213\n",
      "[Iter 214]\tLoss: [0.5717252861899821]\n",
      "[Valid]\t\tMAP\tP20\tNDCG20\n",
      "\t\t0.0838\t0.1575\t0.2023\n",
      "iteration: 214\n",
      "[Iter 215]\tLoss: [0.571697542112571]\n"
     ]
    },
    {
     "name": "stderr",
     "output_type": "stream",
     "text": [
      "2020-08-03 03:02:05,985 : INFO : Generate totally 10120 pairs\n"
     ]
    },
    {
     "name": "stdout",
     "output_type": "stream",
     "text": [
      "[Valid]\t\tMAP\tP20\tNDCG20\n",
      "\t\t0.0812\t0.1575\t0.1959\n",
      "Epoch 36\n",
      "iteration: 215\n",
      "[Iter 216]\tLoss: [0.5709049469338575]\n",
      "[Valid]\t\tMAP\tP20\tNDCG20\n",
      "\t\t0.0807\t0.1575\t0.1955\n",
      "iteration: 216\n",
      "[Iter 217]\tLoss: [0.5706804840284374]\n",
      "[Valid]\t\tMAP\tP20\tNDCG20\n",
      "\t\t0.0806\t0.1550\t0.1938\n",
      "iteration: 217\n",
      "[Iter 218]\tLoss: [0.570635293989549]\n",
      "[Valid]\t\tMAP\tP20\tNDCG20\n",
      "\t\t0.0815\t0.1550\t0.1944\n",
      "iteration: 218\n",
      "[Iter 219]\tLoss: [0.5705740442094596]\n",
      "[Valid]\t\tMAP\tP20\tNDCG20\n",
      "\t\t0.0817\t0.1550\t0.1949\n",
      "iteration: 219\n",
      "[Iter 220]\tLoss: [0.5704914535811767]\n",
      "[Valid]\t\tMAP\tP20\tNDCG20\n",
      "\t\t0.0816\t0.1525\t0.1935\n",
      "iteration: 220\n",
      "[Iter 221]\tLoss: [0.5703335377303037]\n"
     ]
    },
    {
     "name": "stderr",
     "output_type": "stream",
     "text": [
      "2020-08-03 03:03:49,656 : INFO : Generate totally 10120 pairs\n"
     ]
    },
    {
     "name": "stdout",
     "output_type": "stream",
     "text": [
      "[Valid]\t\tMAP\tP20\tNDCG20\n",
      "\t\t0.0841\t0.1550\t0.2011\n",
      "Epoch 37\n",
      "iteration: 221\n",
      "[Iter 222]\tLoss: [0.5729287047631184]\n",
      "[Valid]\t\tMAP\tP20\tNDCG20\n",
      "\t\t0.0838\t0.1600\t0.2025\n",
      "iteration: 222\n",
      "[Iter 223]\tLoss: [0.5726455863521033]\n",
      "[Valid]\t\tMAP\tP20\tNDCG20\n",
      "\t\t0.0839\t0.1600\t0.2028\n",
      "iteration: 223\n",
      "[Iter 224]\tLoss: [0.5726541680663]\n",
      "[Valid]\t\tMAP\tP20\tNDCG20\n",
      "\t\t0.0838\t0.1600\t0.2026\n",
      "iteration: 224\n",
      "[Iter 225]\tLoss: [0.5725302108427281]\n",
      "[Valid]\t\tMAP\tP20\tNDCG20\n",
      "\t\t0.0844\t0.1600\t0.2051\n",
      "iteration: 225\n",
      "[Iter 226]\tLoss: [0.5725635960403639]\n",
      "[Valid]\t\tMAP\tP20\tNDCG20\n",
      "\t\t0.0844\t0.1600\t0.2051\n",
      "iteration: 226\n",
      "[Iter 227]\tLoss: [0.5724094899098864]\n"
     ]
    },
    {
     "name": "stderr",
     "output_type": "stream",
     "text": [
      "2020-08-03 03:05:30,992 : INFO : Generate totally 10120 pairs\n"
     ]
    },
    {
     "name": "stdout",
     "output_type": "stream",
     "text": [
      "[Valid]\t\tMAP\tP20\tNDCG20\n",
      "\t\t0.0841\t0.1575\t0.2035\n",
      "Epoch 38\n",
      "iteration: 227\n",
      "[Iter 228]\tLoss: [0.5851722367314011]\n",
      "[Valid]\t\tMAP\tP20\tNDCG20\n",
      "\t\t0.0823\t0.1550\t0.1992\n",
      "iteration: 228\n",
      "[Iter 229]\tLoss: [0.5846534139907407]\n",
      "[Valid]\t\tMAP\tP20\tNDCG20\n",
      "\t\t0.0788\t0.1575\t0.1924\n",
      "iteration: 229\n",
      "[Iter 230]\tLoss: [0.5844160813705723]\n",
      "[Valid]\t\tMAP\tP20\tNDCG20\n",
      "\t\t0.0803\t0.1550\t0.1930\n",
      "iteration: 230\n",
      "[Iter 231]\tLoss: [0.5842415625928891]\n",
      "[Valid]\t\tMAP\tP20\tNDCG20\n",
      "\t\t0.0799\t0.1525\t0.1904\n",
      "iteration: 231\n",
      "[Iter 232]\tLoss: [0.5842684989449064]\n",
      "[Valid]\t\tMAP\tP20\tNDCG20\n",
      "\t\t0.0797\t0.1550\t0.1920\n",
      "iteration: 232\n",
      "[Iter 233]\tLoss: [0.5840811186098298]\n"
     ]
    },
    {
     "name": "stderr",
     "output_type": "stream",
     "text": [
      "2020-08-03 03:07:11,361 : INFO : Generate totally 10120 pairs\n"
     ]
    },
    {
     "name": "stdout",
     "output_type": "stream",
     "text": [
      "[Valid]\t\tMAP\tP20\tNDCG20\n",
      "\t\t0.0791\t0.1525\t0.1891\n",
      "Epoch 39\n",
      "iteration: 233\n",
      "[Iter 234]\tLoss: [0.5831537614079568]\n",
      "[Valid]\t\tMAP\tP20\tNDCG20\n",
      "\t\t0.0838\t0.1600\t0.2055\n",
      "iteration: 234\n",
      "[Iter 235]\tLoss: [0.5822884129294058]\n",
      "[Valid]\t\tMAP\tP20\tNDCG20\n",
      "\t\t0.0841\t0.1600\t0.2062\n",
      "iteration: 235\n",
      "[Iter 236]\tLoss: [0.582155433803679]\n",
      "[Valid]\t\tMAP\tP20\tNDCG20\n",
      "\t\t0.0839\t0.1575\t0.2043\n",
      "iteration: 236\n",
      "[Iter 237]\tLoss: [0.5820921206692227]\n",
      "[Valid]\t\tMAP\tP20\tNDCG20\n",
      "\t\t0.0838\t0.1575\t0.2043\n",
      "iteration: 237\n",
      "[Iter 238]\tLoss: [0.5821810654795216]\n",
      "[Valid]\t\tMAP\tP20\tNDCG20\n",
      "\t\t0.0837\t0.1575\t0.2042\n",
      "iteration: 238\n",
      "[Iter 239]\tLoss: [0.582017643193129]\n"
     ]
    },
    {
     "name": "stderr",
     "output_type": "stream",
     "text": [
      "2020-08-03 03:08:51,370 : INFO : Generate totally 10120 pairs\n"
     ]
    },
    {
     "name": "stdout",
     "output_type": "stream",
     "text": [
      "[Valid]\t\tMAP\tP20\tNDCG20\n",
      "\t\t0.0836\t0.1575\t0.2041\n",
      "Epoch 40\n",
      "iteration: 239\n",
      "[Iter 240]\tLoss: [0.5731664755539931]\n",
      "[Valid]\t\tMAP\tP20\tNDCG20\n",
      "\t\t0.0825\t0.1550\t0.1999\n",
      "iteration: 240\n",
      "[Iter 241]\tLoss: [0.5729986529929836]\n",
      "[Valid]\t\tMAP\tP20\tNDCG20\n",
      "\t\t0.0826\t0.1550\t0.2002\n",
      "iteration: 241\n",
      "[Iter 242]\tLoss: [0.5730646220532801]\n",
      "[Valid]\t\tMAP\tP20\tNDCG20\n",
      "\t\t0.0826\t0.1575\t0.2025\n",
      "iteration: 242\n",
      "[Iter 243]\tLoss: [0.5731175913523309]\n",
      "[Valid]\t\tMAP\tP20\tNDCG20\n",
      "\t\t0.0807\t0.1550\t0.1959\n",
      "iteration: 243\n",
      "[Iter 244]\tLoss: [0.5729275968941775]\n",
      "[Valid]\t\tMAP\tP20\tNDCG20\n",
      "\t\t0.0807\t0.1550\t0.1963\n",
      "iteration: 244\n",
      "[Iter 245]\tLoss: [0.5728134348870737]\n"
     ]
    },
    {
     "name": "stderr",
     "output_type": "stream",
     "text": [
      "2020-08-03 03:10:30,436 : INFO : Generate totally 10120 pairs\n"
     ]
    },
    {
     "name": "stdout",
     "output_type": "stream",
     "text": [
      "[Valid]\t\tMAP\tP20\tNDCG20\n",
      "\t\t0.0825\t0.1600\t0.2041\n",
      "Epoch 41\n",
      "iteration: 245\n",
      "[Iter 246]\tLoss: [0.5700101727995242]\n",
      "[Valid]\t\tMAP\tP20\tNDCG20\n",
      "\t\t0.0826\t0.1600\t0.2033\n",
      "iteration: 246\n",
      "[Iter 247]\tLoss: [0.569926360040432]\n",
      "[Valid]\t\tMAP\tP20\tNDCG20\n",
      "\t\t0.0825\t0.1600\t0.2029\n",
      "iteration: 247\n",
      "[Iter 248]\tLoss: [0.5697991226472167]\n",
      "[Valid]\t\tMAP\tP20\tNDCG20\n",
      "\t\t0.0825\t0.1600\t0.2029\n",
      "iteration: 248\n",
      "[Iter 249]\tLoss: [0.569766265137688]\n",
      "[Valid]\t\tMAP\tP20\tNDCG20\n",
      "\t\t0.0806\t0.1600\t0.1984\n",
      "iteration: 249\n",
      "[Iter 250]\tLoss: [0.5696275495139977]\n",
      "[Valid]\t\tMAP\tP20\tNDCG20\n",
      "\t\t0.0806\t0.1600\t0.1984\n",
      "iteration: 250\n",
      "[Iter 251]\tLoss: [0.5695426939386624]\n"
     ]
    },
    {
     "name": "stderr",
     "output_type": "stream",
     "text": [
      "2020-08-03 03:12:09,358 : INFO : Generate totally 10120 pairs\n"
     ]
    },
    {
     "name": "stdout",
     "output_type": "stream",
     "text": [
      "[Valid]\t\tMAP\tP20\tNDCG20\n",
      "\t\t0.0807\t0.1600\t0.1985\n",
      "Epoch 42\n",
      "iteration: 251\n",
      "[Iter 252]\tLoss: [0.5810996416823666]\n",
      "[Valid]\t\tMAP\tP20\tNDCG20\n",
      "\t\t0.0800\t0.1525\t0.1914\n",
      "iteration: 252\n",
      "[Iter 253]\tLoss: [0.5808152450697696]\n",
      "[Valid]\t\tMAP\tP20\tNDCG20\n",
      "\t\t0.0798\t0.1525\t0.1905\n",
      "iteration: 253\n",
      "[Iter 254]\tLoss: [0.5806214506388182]\n",
      "[Valid]\t\tMAP\tP20\tNDCG20\n",
      "\t\t0.0801\t0.1525\t0.1911\n",
      "iteration: 254\n",
      "[Iter 255]\tLoss: [0.5804014849097361]\n",
      "[Valid]\t\tMAP\tP20\tNDCG20\n",
      "\t\t0.0825\t0.1525\t0.1972\n",
      "iteration: 255\n",
      "[Iter 256]\tLoss: [0.5803492050397067]\n",
      "[Valid]\t\tMAP\tP20\tNDCG20\n",
      "\t\t0.0824\t0.1525\t0.1967\n",
      "iteration: 256\n",
      "[Iter 257]\tLoss: [0.5801620290802402]\n"
     ]
    },
    {
     "name": "stderr",
     "output_type": "stream",
     "text": [
      "2020-08-03 03:13:46,975 : INFO : Generate totally 10120 pairs\n"
     ]
    },
    {
     "name": "stdout",
     "output_type": "stream",
     "text": [
      "[Valid]\t\tMAP\tP20\tNDCG20\n",
      "\t\t0.0825\t0.1500\t0.1951\n",
      "Epoch 43\n",
      "iteration: 257\n",
      "[Iter 258]\tLoss: [0.5744359538017997]\n",
      "[Valid]\t\tMAP\tP20\tNDCG20\n",
      "\t\t0.0784\t0.1550\t0.1889\n",
      "iteration: 258\n",
      "[Iter 259]\tLoss: [0.5743430021841064]\n",
      "[Valid]\t\tMAP\tP20\tNDCG20\n",
      "\t\t0.0786\t0.1525\t0.1876\n",
      "iteration: 259\n",
      "[Iter 260]\tLoss: [0.5741819434545257]\n",
      "[Valid]\t\tMAP\tP20\tNDCG20\n",
      "\t\t0.0787\t0.1525\t0.1877\n",
      "iteration: 260\n",
      "[Iter 261]\tLoss: [0.57399857983641]\n",
      "[Valid]\t\tMAP\tP20\tNDCG20\n",
      "\t\t0.0792\t0.1500\t0.1881\n",
      "iteration: 261\n",
      "[Iter 262]\tLoss: [0.573907978685477]\n",
      "[Valid]\t\tMAP\tP20\tNDCG20\n",
      "\t\t0.0791\t0.1525\t0.1904\n",
      "iteration: 262\n",
      "[Iter 263]\tLoss: [0.5736628264601051]\n"
     ]
    },
    {
     "name": "stderr",
     "output_type": "stream",
     "text": [
      "2020-08-03 03:15:24,853 : INFO : Generate totally 10120 pairs\n"
     ]
    },
    {
     "name": "stdout",
     "output_type": "stream",
     "text": [
      "[Valid]\t\tMAP\tP20\tNDCG20\n",
      "\t\t0.0793\t0.1525\t0.1905\n",
      "Epoch 44\n",
      "iteration: 263\n",
      "[Iter 264]\tLoss: [0.5675936142210903]\n",
      "[Valid]\t\tMAP\tP20\tNDCG20\n",
      "\t\t0.0781\t0.1500\t0.1874\n",
      "iteration: 264\n",
      "[Iter 265]\tLoss: [0.5672568760134957]\n",
      "[Valid]\t\tMAP\tP20\tNDCG20\n",
      "\t\t0.0789\t0.1525\t0.1906\n",
      "iteration: 265\n",
      "[Iter 266]\tLoss: [0.566803550384497]\n",
      "[Valid]\t\tMAP\tP20\tNDCG20\n",
      "\t\t0.0787\t0.1525\t0.1901\n",
      "iteration: 266\n",
      "[Iter 267]\tLoss: [0.566585210266085]\n",
      "[Valid]\t\tMAP\tP20\tNDCG20\n",
      "\t\t0.0786\t0.1475\t0.1868\n",
      "iteration: 267\n",
      "[Iter 268]\tLoss: [0.5667577707484777]\n",
      "[Valid]\t\tMAP\tP20\tNDCG20\n",
      "\t\t0.0785\t0.1475\t0.1867\n",
      "iteration: 268\n",
      "[Iter 269]\tLoss: [0.5665864539535149]\n"
     ]
    },
    {
     "name": "stderr",
     "output_type": "stream",
     "text": [
      "2020-08-03 03:17:03,049 : INFO : Generate totally 10120 pairs\n"
     ]
    },
    {
     "name": "stdout",
     "output_type": "stream",
     "text": [
      "[Valid]\t\tMAP\tP20\tNDCG20\n",
      "\t\t0.0792\t0.1500\t0.1890\n",
      "Epoch 45\n",
      "iteration: 269\n",
      "[Iter 270]\tLoss: [0.5827242860150903]\n",
      "[Valid]\t\tMAP\tP20\tNDCG20\n",
      "\t\t0.0796\t0.1500\t0.1902\n",
      "iteration: 270\n",
      "[Iter 271]\tLoss: [0.5823424250005262]\n",
      "[Valid]\t\tMAP\tP20\tNDCG20\n",
      "\t\t0.0794\t0.1500\t0.1900\n",
      "iteration: 271\n",
      "[Iter 272]\tLoss: [0.5820731518002367]\n",
      "[Valid]\t\tMAP\tP20\tNDCG20\n",
      "\t\t0.0788\t0.1500\t0.1882\n",
      "iteration: 272\n",
      "[Iter 273]\tLoss: [0.5820263445730737]\n",
      "[Valid]\t\tMAP\tP20\tNDCG20\n",
      "\t\t0.0808\t0.1500\t0.1910\n",
      "iteration: 273\n",
      "[Iter 274]\tLoss: [0.5818953105053412]\n",
      "[Valid]\t\tMAP\tP20\tNDCG20\n",
      "\t\t0.0802\t0.1500\t0.1894\n",
      "iteration: 274\n",
      "[Iter 275]\tLoss: [0.5818416596990329]\n"
     ]
    },
    {
     "name": "stderr",
     "output_type": "stream",
     "text": [
      "2020-08-03 03:18:41,047 : INFO : Generate totally 10120 pairs\n"
     ]
    },
    {
     "name": "stdout",
     "output_type": "stream",
     "text": [
      "[Valid]\t\tMAP\tP20\tNDCG20\n",
      "\t\t0.0803\t0.1500\t0.1894\n",
      "Epoch 46\n",
      "iteration: 275\n",
      "[Iter 276]\tLoss: [0.5841922625722621]\n",
      "[Valid]\t\tMAP\tP20\tNDCG20\n",
      "\t\t0.0813\t0.1575\t0.1973\n",
      "iteration: 276\n",
      "[Iter 277]\tLoss: [0.5840756416674188]\n",
      "[Valid]\t\tMAP\tP20\tNDCG20\n",
      "\t\t0.0819\t0.1575\t0.1975\n",
      "iteration: 277\n",
      "[Iter 278]\tLoss: [0.5839829951701428]\n",
      "[Valid]\t\tMAP\tP20\tNDCG20\n",
      "\t\t0.0806\t0.1550\t0.1936\n",
      "iteration: 278\n",
      "[Iter 279]\tLoss: [0.5838118974163599]\n",
      "[Valid]\t\tMAP\tP20\tNDCG20\n",
      "\t\t0.0806\t0.1525\t0.1920\n",
      "iteration: 279\n",
      "[Iter 280]\tLoss: [0.5838435595862479]\n",
      "[Valid]\t\tMAP\tP20\tNDCG20\n",
      "\t\t0.0807\t0.1550\t0.1938\n",
      "iteration: 280\n",
      "[Iter 281]\tLoss: [0.5838471526802764]\n"
     ]
    },
    {
     "name": "stderr",
     "output_type": "stream",
     "text": [
      "2020-08-03 03:20:20,781 : INFO : Generate totally 10120 pairs\n"
     ]
    },
    {
     "name": "stdout",
     "output_type": "stream",
     "text": [
      "[Valid]\t\tMAP\tP20\tNDCG20\n",
      "\t\t0.0807\t0.1550\t0.1939\n",
      "Epoch 47\n",
      "iteration: 281\n",
      "[Iter 282]\tLoss: [0.5744056573262799]\n",
      "[Valid]\t\tMAP\tP20\tNDCG20\n",
      "\t\t0.0780\t0.1525\t0.1866\n",
      "iteration: 282\n",
      "[Iter 283]\tLoss: [0.5741565857421268]\n",
      "[Valid]\t\tMAP\tP20\tNDCG20\n",
      "\t\t0.0780\t0.1525\t0.1866\n",
      "iteration: 283\n",
      "[Iter 284]\tLoss: [0.5740652961045386]\n",
      "[Valid]\t\tMAP\tP20\tNDCG20\n",
      "\t\t0.0780\t0.1550\t0.1890\n",
      "iteration: 284\n",
      "[Iter 285]\tLoss: [0.573953578152911]\n",
      "[Valid]\t\tMAP\tP20\tNDCG20\n",
      "\t\t0.0782\t0.1525\t0.1887\n",
      "iteration: 285\n",
      "[Iter 286]\tLoss: [0.5737870422453277]\n",
      "[Valid]\t\tMAP\tP20\tNDCG20\n",
      "\t\t0.0788\t0.1525\t0.1896\n",
      "iteration: 286\n",
      "[Iter 287]\tLoss: [0.5736621610614151]\n"
     ]
    },
    {
     "name": "stderr",
     "output_type": "stream",
     "text": [
      "2020-08-03 03:22:00,664 : INFO : Generate totally 10120 pairs\n"
     ]
    },
    {
     "name": "stdout",
     "output_type": "stream",
     "text": [
      "[Valid]\t\tMAP\tP20\tNDCG20\n",
      "\t\t0.0790\t0.1525\t0.1901\n",
      "Epoch 48\n",
      "iteration: 287\n",
      "[Iter 288]\tLoss: [0.5625483458456786]\n",
      "[Valid]\t\tMAP\tP20\tNDCG20\n",
      "\t\t0.0812\t0.1575\t0.1987\n",
      "iteration: 288\n",
      "[Iter 289]\tLoss: [0.5622967966342632]\n",
      "[Valid]\t\tMAP\tP20\tNDCG20\n",
      "\t\t0.0814\t0.1575\t0.1988\n",
      "iteration: 289\n",
      "[Iter 290]\tLoss: [0.5623412243874648]\n",
      "[Valid]\t\tMAP\tP20\tNDCG20\n",
      "\t\t0.0816\t0.1575\t0.1988\n",
      "iteration: 290\n",
      "[Iter 291]\tLoss: [0.5621251249501827]\n",
      "[Valid]\t\tMAP\tP20\tNDCG20\n",
      "\t\t0.0817\t0.1625\t0.2030\n",
      "iteration: 291\n",
      "[Iter 292]\tLoss: [0.5621986132659931]\n",
      "[Valid]\t\tMAP\tP20\tNDCG20\n",
      "\t\t0.0819\t0.1650\t0.2061\n",
      "iteration: 292\n",
      "[Iter 293]\tLoss: [0.5620684434067119]\n"
     ]
    },
    {
     "name": "stderr",
     "output_type": "stream",
     "text": [
      "2020-08-03 03:23:37,384 : INFO : Generate totally 10120 pairs\n"
     ]
    },
    {
     "name": "stdout",
     "output_type": "stream",
     "text": [
      "[Valid]\t\tMAP\tP20\tNDCG20\n",
      "\t\t0.0819\t0.1650\t0.2062\n",
      "Epoch 49\n",
      "iteration: 293\n",
      "[Iter 294]\tLoss: [0.5600603086203926]\n",
      "[Valid]\t\tMAP\tP20\tNDCG20\n",
      "\t\t0.0817\t0.1550\t0.1979\n",
      "iteration: 294\n",
      "[Iter 295]\tLoss: [0.5595482707965986]\n",
      "[Valid]\t\tMAP\tP20\tNDCG20\n",
      "\t\t0.0820\t0.1550\t0.1984\n",
      "iteration: 295\n",
      "[Iter 296]\tLoss: [0.5594007116650405]\n",
      "[Valid]\t\tMAP\tP20\tNDCG20\n",
      "\t\t0.0821\t0.1550\t0.1986\n",
      "iteration: 296\n",
      "[Iter 297]\tLoss: [0.559205483306538]\n",
      "[Valid]\t\tMAP\tP20\tNDCG20\n",
      "\t\t0.0826\t0.1550\t0.1994\n",
      "iteration: 297\n",
      "[Iter 298]\tLoss: [0.559104118982087]\n",
      "[Valid]\t\tMAP\tP20\tNDCG20\n",
      "\t\t0.0821\t0.1550\t0.1988\n",
      "iteration: 298\n",
      "[Iter 299]\tLoss: [0.5590777603298308]\n"
     ]
    },
    {
     "name": "stderr",
     "output_type": "stream",
     "text": [
      "2020-08-03 03:25:15,866 : INFO : Generate totally 10120 pairs\n"
     ]
    },
    {
     "name": "stdout",
     "output_type": "stream",
     "text": [
      "[Valid]\t\tMAP\tP20\tNDCG20\n",
      "\t\t0.0828\t0.1550\t0.1996\n",
      "Epoch 50\n",
      "iteration: 299\n",
      "[Iter 300]\tLoss: [0.5773812035032412]\n",
      "[Valid]\t\tMAP\tP20\tNDCG20\n",
      "\t\t0.0830\t0.1650\t0.2038\n",
      "iteration: 300\n",
      "[Iter 301]\tLoss: [0.57660600796283]\n",
      "[Valid]\t\tMAP\tP20\tNDCG20\n",
      "\t\t0.0831\t0.1675\t0.2054\n",
      "iteration: 301\n",
      "[Iter 302]\tLoss: [0.5762495614087628]\n",
      "[Valid]\t\tMAP\tP20\tNDCG20\n",
      "\t\t0.0832\t0.1675\t0.2048\n",
      "iteration: 302\n",
      "[Iter 303]\tLoss: [0.5762176587883192]\n",
      "[Valid]\t\tMAP\tP20\tNDCG20\n",
      "\t\t0.0833\t0.1675\t0.2049\n",
      "iteration: 303\n",
      "[Iter 304]\tLoss: [0.5760995040945855]\n",
      "[Valid]\t\tMAP\tP20\tNDCG20\n",
      "\t\t0.0830\t0.1675\t0.2051\n",
      "iteration: 304\n",
      "[Iter 305]\tLoss: [0.5759507627060763]\n"
     ]
    },
    {
     "name": "stderr",
     "output_type": "stream",
     "text": [
      "2020-08-03 03:26:52,807 : INFO : Generate totally 10120 pairs\n"
     ]
    },
    {
     "name": "stdout",
     "output_type": "stream",
     "text": [
      "[Valid]\t\tMAP\tP20\tNDCG20\n",
      "\t\t0.0831\t0.1675\t0.2048\n",
      "Epoch 51\n",
      "iteration: 305\n",
      "[Iter 306]\tLoss: [0.5651601931676563]\n",
      "[Valid]\t\tMAP\tP20\tNDCG20\n",
      "\t\t0.0800\t0.1500\t0.1901\n",
      "iteration: 306\n",
      "[Iter 307]\tLoss: [0.5653389465255229]\n",
      "[Valid]\t\tMAP\tP20\tNDCG20\n",
      "\t\t0.0788\t0.1500\t0.1888\n",
      "iteration: 307\n",
      "[Iter 308]\tLoss: [0.5652684995779407]\n",
      "[Valid]\t\tMAP\tP20\tNDCG20\n",
      "\t\t0.0790\t0.1525\t0.1900\n",
      "iteration: 308\n",
      "[Iter 309]\tLoss: [0.5651296923165264]\n",
      "[Valid]\t\tMAP\tP20\tNDCG20\n",
      "\t\t0.0790\t0.1525\t0.1904\n",
      "iteration: 309\n",
      "[Iter 310]\tLoss: [0.5649367399778762]\n",
      "[Valid]\t\tMAP\tP20\tNDCG20\n",
      "\t\t0.0789\t0.1575\t0.1927\n",
      "iteration: 310\n",
      "[Iter 311]\tLoss: [0.5648024101620135]\n"
     ]
    },
    {
     "name": "stderr",
     "output_type": "stream",
     "text": [
      "2020-08-03 03:28:29,185 : INFO : Generate totally 10120 pairs\n"
     ]
    },
    {
     "name": "stdout",
     "output_type": "stream",
     "text": [
      "[Valid]\t\tMAP\tP20\tNDCG20\n",
      "\t\t0.0798\t0.1550\t0.1934\n",
      "Epoch 52\n",
      "iteration: 311\n",
      "[Iter 312]\tLoss: [0.5648756194197142]\n",
      "[Valid]\t\tMAP\tP20\tNDCG20\n",
      "\t\t0.0795\t0.1625\t0.1963\n",
      "iteration: 312\n",
      "[Iter 313]\tLoss: [0.5650818036361174]\n",
      "[Valid]\t\tMAP\tP20\tNDCG20\n",
      "\t\t0.0796\t0.1600\t0.1943\n",
      "iteration: 313\n",
      "[Iter 314]\tLoss: [0.5649812164690655]\n",
      "[Valid]\t\tMAP\tP20\tNDCG20\n",
      "\t\t0.0796\t0.1600\t0.1950\n",
      "iteration: 314\n",
      "[Iter 315]\tLoss: [0.5645401815593007]\n",
      "[Valid]\t\tMAP\tP20\tNDCG20\n",
      "\t\t0.0793\t0.1600\t0.1946\n",
      "iteration: 315\n",
      "[Iter 316]\tLoss: [0.5644452405187923]\n",
      "[Valid]\t\tMAP\tP20\tNDCG20\n",
      "\t\t0.0794\t0.1600\t0.1947\n",
      "iteration: 316\n",
      "[Iter 317]\tLoss: [0.5645288165084458]\n"
     ]
    },
    {
     "name": "stderr",
     "output_type": "stream",
     "text": [
      "2020-08-03 03:30:08,898 : INFO : Generate totally 10120 pairs\n"
     ]
    },
    {
     "name": "stdout",
     "output_type": "stream",
     "text": [
      "[Valid]\t\tMAP\tP20\tNDCG20\n",
      "\t\t0.0793\t0.1600\t0.1945\n",
      "Epoch 53\n",
      "iteration: 317\n",
      "[Iter 318]\tLoss: [0.5769782605555218]\n",
      "[Valid]\t\tMAP\tP20\tNDCG20\n",
      "\t\t0.0785\t0.1525\t0.1903\n",
      "iteration: 318\n",
      "[Iter 319]\tLoss: [0.576766010948085]\n",
      "[Valid]\t\tMAP\tP20\tNDCG20\n",
      "\t\t0.0785\t0.1525\t0.1899\n",
      "iteration: 319\n",
      "[Iter 320]\tLoss: [0.5764623780848952]\n",
      "[Valid]\t\tMAP\tP20\tNDCG20\n",
      "\t\t0.0785\t0.1550\t0.1915\n",
      "iteration: 320\n",
      "[Iter 321]\tLoss: [0.5763843778093813]\n",
      "[Valid]\t\tMAP\tP20\tNDCG20\n",
      "\t\t0.0786\t0.1550\t0.1916\n",
      "iteration: 321\n",
      "[Iter 322]\tLoss: [0.5762739684506367]\n",
      "[Valid]\t\tMAP\tP20\tNDCG20\n",
      "\t\t0.0786\t0.1550\t0.1916\n",
      "iteration: 322\n",
      "[Iter 323]\tLoss: [0.5761632672234958]\n"
     ]
    },
    {
     "name": "stderr",
     "output_type": "stream",
     "text": [
      "2020-08-03 03:31:47,863 : INFO : Generate totally 10120 pairs\n"
     ]
    },
    {
     "name": "stdout",
     "output_type": "stream",
     "text": [
      "[Valid]\t\tMAP\tP20\tNDCG20\n",
      "\t\t0.0787\t0.1575\t0.1930\n",
      "Epoch 54\n",
      "iteration: 323\n",
      "[Iter 324]\tLoss: [0.5715671306836746]\n",
      "[Valid]\t\tMAP\tP20\tNDCG20\n",
      "\t\t0.0807\t0.1525\t0.1953\n",
      "iteration: 324\n",
      "[Iter 325]\tLoss: [0.5712436059187994]\n",
      "[Valid]\t\tMAP\tP20\tNDCG20\n",
      "\t\t0.0803\t0.1525\t0.1945\n",
      "iteration: 325\n",
      "[Iter 326]\tLoss: [0.5711431778054463]\n",
      "[Valid]\t\tMAP\tP20\tNDCG20\n",
      "\t\t0.0803\t0.1525\t0.1946\n",
      "iteration: 326\n",
      "[Iter 327]\tLoss: [0.5711309094674031]\n",
      "[Valid]\t\tMAP\tP20\tNDCG20\n",
      "\t\t0.0803\t0.1525\t0.1946\n",
      "iteration: 327\n",
      "[Iter 328]\tLoss: [0.5710958022138347]\n",
      "[Valid]\t\tMAP\tP20\tNDCG20\n",
      "\t\t0.0803\t0.1500\t0.1930\n",
      "iteration: 328\n",
      "[Iter 329]\tLoss: [0.5708976095844164]\n"
     ]
    },
    {
     "name": "stderr",
     "output_type": "stream",
     "text": [
      "2020-08-03 03:33:26,839 : INFO : Generate totally 10120 pairs\n"
     ]
    },
    {
     "name": "stdout",
     "output_type": "stream",
     "text": [
      "[Valid]\t\tMAP\tP20\tNDCG20\n",
      "\t\t0.0803\t0.1500\t0.1930\n",
      "Epoch 55\n",
      "iteration: 329\n",
      "[Iter 330]\tLoss: [0.568566389646926]\n",
      "[Valid]\t\tMAP\tP20\tNDCG20\n",
      "\t\t0.0818\t0.1600\t0.2019\n",
      "iteration: 330\n",
      "[Iter 331]\tLoss: [0.5685021316581093]\n",
      "[Valid]\t\tMAP\tP20\tNDCG20\n",
      "\t\t0.0819\t0.1625\t0.2034\n",
      "iteration: 331\n",
      "[Iter 332]\tLoss: [0.5684403338922343]\n",
      "[Valid]\t\tMAP\tP20\tNDCG20\n",
      "\t\t0.0820\t0.1575\t0.2001\n",
      "iteration: 332\n",
      "[Iter 333]\tLoss: [0.5682942691174421]\n",
      "[Valid]\t\tMAP\tP20\tNDCG20\n",
      "\t\t0.0819\t0.1600\t0.2015\n",
      "iteration: 333\n",
      "[Iter 334]\tLoss: [0.5682380071918484]\n",
      "[Valid]\t\tMAP\tP20\tNDCG20\n",
      "\t\t0.0815\t0.1550\t0.1965\n",
      "iteration: 334\n",
      "[Iter 335]\tLoss: [0.568144646852384]\n"
     ]
    },
    {
     "name": "stderr",
     "output_type": "stream",
     "text": [
      "2020-08-03 03:35:07,509 : INFO : Generate totally 10120 pairs\n"
     ]
    },
    {
     "name": "stdout",
     "output_type": "stream",
     "text": [
      "[Valid]\t\tMAP\tP20\tNDCG20\n",
      "\t\t0.0815\t0.1550\t0.1970\n",
      "Epoch 56\n",
      "iteration: 335\n",
      "[Iter 336]\tLoss: [0.5809440508249248]\n",
      "[Valid]\t\tMAP\tP20\tNDCG20\n",
      "\t\t0.0788\t0.1500\t0.1884\n",
      "iteration: 336\n",
      "[Iter 337]\tLoss: [0.5804562626678953]\n",
      "[Valid]\t\tMAP\tP20\tNDCG20\n",
      "\t\t0.0792\t0.1525\t0.1902\n",
      "iteration: 337\n",
      "[Iter 338]\tLoss: [0.5802048287196122]\n",
      "[Valid]\t\tMAP\tP20\tNDCG20\n",
      "\t\t0.0792\t0.1525\t0.1901\n",
      "iteration: 338\n",
      "[Iter 339]\tLoss: [0.5800856217859762]\n",
      "[Valid]\t\tMAP\tP20\tNDCG20\n",
      "\t\t0.0791\t0.1525\t0.1900\n",
      "iteration: 339\n",
      "[Iter 340]\tLoss: [0.5800632741081385]\n",
      "[Valid]\t\tMAP\tP20\tNDCG20\n",
      "\t\t0.0792\t0.1525\t0.1903\n",
      "iteration: 340\n",
      "[Iter 341]\tLoss: [0.5798926346975825]\n"
     ]
    },
    {
     "name": "stderr",
     "output_type": "stream",
     "text": [
      "2020-08-03 03:36:48,623 : INFO : Generate totally 10120 pairs\n"
     ]
    },
    {
     "name": "stdout",
     "output_type": "stream",
     "text": [
      "[Valid]\t\tMAP\tP20\tNDCG20\n",
      "\t\t0.0791\t0.1525\t0.1902\n",
      "Epoch 57\n",
      "iteration: 341\n",
      "[Iter 342]\tLoss: [0.5638028873579776]\n",
      "[Valid]\t\tMAP\tP20\tNDCG20\n",
      "\t\t0.0814\t0.1525\t0.1955\n",
      "iteration: 342\n",
      "[Iter 343]\tLoss: [0.5636719145734791]\n",
      "[Valid]\t\tMAP\tP20\tNDCG20\n",
      "\t\t0.0813\t0.1525\t0.1954\n",
      "iteration: 343\n",
      "[Iter 344]\tLoss: [0.5634114081444948]\n",
      "[Valid]\t\tMAP\tP20\tNDCG20\n",
      "\t\t0.0814\t0.1525\t0.1951\n",
      "iteration: 344\n",
      "[Iter 345]\tLoss: [0.5633165938227545]\n",
      "[Valid]\t\tMAP\tP20\tNDCG20\n",
      "\t\t0.0808\t0.1525\t0.1946\n",
      "iteration: 345\n",
      "[Iter 346]\tLoss: [0.5631603259931911]\n",
      "[Valid]\t\tMAP\tP20\tNDCG20\n",
      "\t\t0.0809\t0.1525\t0.1949\n",
      "iteration: 346\n",
      "[Iter 347]\tLoss: [0.5632273997419437]\n"
     ]
    },
    {
     "name": "stderr",
     "output_type": "stream",
     "text": [
      "2020-08-03 03:38:28,409 : INFO : Generate totally 10120 pairs\n"
     ]
    },
    {
     "name": "stdout",
     "output_type": "stream",
     "text": [
      "[Valid]\t\tMAP\tP20\tNDCG20\n",
      "\t\t0.0808\t0.1525\t0.1948\n",
      "Epoch 58\n",
      "iteration: 347\n",
      "[Iter 348]\tLoss: [0.5709487710427861]\n",
      "[Valid]\t\tMAP\tP20\tNDCG20\n",
      "\t\t0.0796\t0.1650\t0.2003\n",
      "iteration: 348\n",
      "[Iter 349]\tLoss: [0.5707213545858625]\n",
      "[Valid]\t\tMAP\tP20\tNDCG20\n",
      "\t\t0.0795\t0.1600\t0.1978\n",
      "iteration: 349\n",
      "[Iter 350]\tLoss: [0.5704345950790545]\n",
      "[Valid]\t\tMAP\tP20\tNDCG20\n",
      "\t\t0.0790\t0.1550\t0.1947\n",
      "iteration: 350\n",
      "[Iter 351]\tLoss: [0.5702955184776792]\n",
      "[Valid]\t\tMAP\tP20\tNDCG20\n",
      "\t\t0.0791\t0.1575\t0.1959\n",
      "iteration: 351\n",
      "[Iter 352]\tLoss: [0.5701278059673404]\n",
      "[Valid]\t\tMAP\tP20\tNDCG20\n",
      "\t\t0.0813\t0.1550\t0.1969\n",
      "iteration: 352\n",
      "[Iter 353]\tLoss: [0.5699022110154035]\n"
     ]
    },
    {
     "name": "stderr",
     "output_type": "stream",
     "text": [
      "2020-08-03 03:40:10,625 : INFO : Generate totally 10120 pairs\n"
     ]
    },
    {
     "name": "stdout",
     "output_type": "stream",
     "text": [
      "[Valid]\t\tMAP\tP20\tNDCG20\n",
      "\t\t0.0815\t0.1525\t0.1955\n",
      "Epoch 59\n",
      "iteration: 353\n",
      "[Iter 354]\tLoss: [0.5685856220397082]\n",
      "[Valid]\t\tMAP\tP20\tNDCG20\n",
      "\t\t0.0813\t0.1575\t0.1983\n",
      "iteration: 354\n",
      "[Iter 355]\tLoss: [0.5683084700713045]\n",
      "[Valid]\t\tMAP\tP20\tNDCG20\n",
      "\t\t0.0817\t0.1575\t0.1986\n",
      "iteration: 355\n",
      "[Iter 356]\tLoss: [0.5683478873826769]\n",
      "[Valid]\t\tMAP\tP20\tNDCG20\n",
      "\t\t0.0815\t0.1575\t0.1978\n",
      "iteration: 356\n",
      "[Iter 357]\tLoss: [0.5681273417746125]\n",
      "[Valid]\t\tMAP\tP20\tNDCG20\n",
      "\t\t0.0816\t0.1575\t0.1979\n",
      "iteration: 357\n",
      "[Iter 358]\tLoss: [0.5680114507027294]\n",
      "[Valid]\t\tMAP\tP20\tNDCG20\n",
      "\t\t0.0794\t0.1625\t0.1989\n",
      "iteration: 358\n",
      "[Iter 359]\tLoss: [0.5680938501190762]\n"
     ]
    },
    {
     "name": "stderr",
     "output_type": "stream",
     "text": [
      "2020-08-03 03:41:51,616 : INFO : Generate totally 10120 pairs\n"
     ]
    },
    {
     "name": "stdout",
     "output_type": "stream",
     "text": [
      "[Valid]\t\tMAP\tP20\tNDCG20\n",
      "\t\t0.0795\t0.1625\t0.1991\n",
      "Epoch 60\n",
      "iteration: 359\n",
      "[Iter 360]\tLoss: [0.5726209433064631]\n",
      "[Valid]\t\tMAP\tP20\tNDCG20\n",
      "\t\t0.0787\t0.1525\t0.1908\n",
      "iteration: 360\n",
      "[Iter 361]\tLoss: [0.5722133868591116]\n",
      "[Valid]\t\tMAP\tP20\tNDCG20\n",
      "\t\t0.0804\t0.1525\t0.1954\n",
      "iteration: 361\n",
      "[Iter 362]\tLoss: [0.5722308760810747]\n",
      "[Valid]\t\tMAP\tP20\tNDCG20\n",
      "\t\t0.0805\t0.1525\t0.1956\n",
      "iteration: 362\n",
      "[Iter 363]\tLoss: [0.5720783429360201]\n",
      "[Valid]\t\tMAP\tP20\tNDCG20\n",
      "\t\t0.0805\t0.1525\t0.1955\n",
      "iteration: 363\n",
      "[Iter 364]\tLoss: [0.5720382709159211]\n",
      "[Valid]\t\tMAP\tP20\tNDCG20\n",
      "\t\t0.0807\t0.1525\t0.1956\n",
      "iteration: 364\n",
      "[Iter 365]\tLoss: [0.5719725620075177]\n"
     ]
    },
    {
     "name": "stderr",
     "output_type": "stream",
     "text": [
      "2020-08-03 03:43:32,705 : INFO : Generate totally 10120 pairs\n"
     ]
    },
    {
     "name": "stdout",
     "output_type": "stream",
     "text": [
      "[Valid]\t\tMAP\tP20\tNDCG20\n",
      "\t\t0.0807\t0.1525\t0.1956\n",
      "Epoch 61\n",
      "iteration: 365\n",
      "[Iter 366]\tLoss: [0.5815858686629962]\n",
      "[Valid]\t\tMAP\tP20\tNDCG20\n",
      "\t\t0.0807\t0.1500\t0.1928\n",
      "iteration: 366\n",
      "[Iter 367]\tLoss: [0.581319785341915]\n",
      "[Valid]\t\tMAP\tP20\tNDCG20\n",
      "\t\t0.0808\t0.1500\t0.1927\n",
      "iteration: 367\n",
      "[Iter 368]\tLoss: [0.5811234038220092]\n",
      "[Valid]\t\tMAP\tP20\tNDCG20\n",
      "\t\t0.0808\t0.1500\t0.1925\n",
      "iteration: 368\n",
      "[Iter 369]\tLoss: [0.580936863635604]\n",
      "[Valid]\t\tMAP\tP20\tNDCG20\n",
      "\t\t0.0808\t0.1500\t0.1925\n",
      "iteration: 369\n",
      "[Iter 370]\tLoss: [0.580802921426626]\n",
      "[Valid]\t\tMAP\tP20\tNDCG20\n",
      "\t\t0.0810\t0.1525\t0.1944\n",
      "iteration: 370\n",
      "[Iter 371]\tLoss: [0.5806939746492465]\n"
     ]
    },
    {
     "name": "stderr",
     "output_type": "stream",
     "text": [
      "2020-08-03 03:45:15,836 : INFO : Generate totally 10120 pairs\n"
     ]
    },
    {
     "name": "stdout",
     "output_type": "stream",
     "text": [
      "[Valid]\t\tMAP\tP20\tNDCG20\n",
      "\t\t0.0810\t0.1525\t0.1941\n",
      "Epoch 62\n",
      "iteration: 371\n",
      "[Iter 372]\tLoss: [0.5732895412110528]\n",
      "[Valid]\t\tMAP\tP20\tNDCG20\n",
      "\t\t0.0788\t0.1550\t0.1927\n",
      "iteration: 372\n",
      "[Iter 373]\tLoss: [0.5729413569974805]\n",
      "[Valid]\t\tMAP\tP20\tNDCG20\n",
      "\t\t0.0788\t0.1525\t0.1919\n",
      "iteration: 373\n",
      "[Iter 374]\tLoss: [0.5727893765500411]\n",
      "[Valid]\t\tMAP\tP20\tNDCG20\n",
      "\t\t0.0785\t0.1525\t0.1917\n",
      "iteration: 374\n",
      "[Iter 375]\tLoss: [0.5725782606677104]\n",
      "[Valid]\t\tMAP\tP20\tNDCG20\n",
      "\t\t0.0785\t0.1550\t0.1933\n",
      "iteration: 375\n",
      "[Iter 376]\tLoss: [0.5725038461534402]\n",
      "[Valid]\t\tMAP\tP20\tNDCG20\n",
      "\t\t0.0785\t0.1575\t0.1962\n",
      "iteration: 376\n",
      "[Iter 377]\tLoss: [0.572515263004972]\n"
     ]
    },
    {
     "name": "stderr",
     "output_type": "stream",
     "text": [
      "2020-08-03 03:46:56,497 : INFO : Generate totally 10120 pairs\n"
     ]
    },
    {
     "name": "stdout",
     "output_type": "stream",
     "text": [
      "[Valid]\t\tMAP\tP20\tNDCG20\n",
      "\t\t0.0785\t0.1550\t0.1941\n",
      "Epoch 63\n",
      "iteration: 377\n",
      "[Iter 378]\tLoss: [0.5726236978126138]\n",
      "[Valid]\t\tMAP\tP20\tNDCG20\n",
      "\t\t0.0801\t0.1525\t0.1939\n",
      "iteration: 378\n",
      "[Iter 379]\tLoss: [0.5724064913015121]\n",
      "[Valid]\t\tMAP\tP20\tNDCG20\n",
      "\t\t0.0799\t0.1550\t0.1951\n",
      "iteration: 379\n",
      "[Iter 380]\tLoss: [0.5724121309787389]\n",
      "[Valid]\t\tMAP\tP20\tNDCG20\n",
      "\t\t0.0802\t0.1550\t0.1950\n",
      "iteration: 380\n",
      "[Iter 381]\tLoss: [0.5723073880663031]\n",
      "[Valid]\t\tMAP\tP20\tNDCG20\n",
      "\t\t0.0796\t0.1550\t0.1945\n",
      "iteration: 381\n",
      "[Iter 382]\tLoss: [0.572034172507614]\n",
      "[Valid]\t\tMAP\tP20\tNDCG20\n",
      "\t\t0.0801\t0.1525\t0.1935\n",
      "iteration: 382\n",
      "[Iter 383]\tLoss: [0.5719568673153168]\n"
     ]
    },
    {
     "name": "stderr",
     "output_type": "stream",
     "text": [
      "2020-08-03 03:48:37,610 : INFO : Generate totally 10120 pairs\n"
     ]
    },
    {
     "name": "stdout",
     "output_type": "stream",
     "text": [
      "[Valid]\t\tMAP\tP20\tNDCG20\n",
      "\t\t0.0800\t0.1475\t0.1900\n",
      "Epoch 64\n",
      "iteration: 383\n",
      "[Iter 384]\tLoss: [0.569729074541288]\n",
      "[Valid]\t\tMAP\tP20\tNDCG20\n",
      "\t\t0.0789\t0.1600\t0.1950\n",
      "iteration: 384\n",
      "[Iter 385]\tLoss: [0.569729220284068]\n",
      "[Valid]\t\tMAP\tP20\tNDCG20\n",
      "\t\t0.0790\t0.1600\t0.1950\n",
      "iteration: 385\n",
      "[Iter 386]\tLoss: [0.5697069206374435]\n",
      "[Valid]\t\tMAP\tP20\tNDCG20\n",
      "\t\t0.0789\t0.1600\t0.1952\n",
      "iteration: 386\n",
      "[Iter 387]\tLoss: [0.5695868425159586]\n",
      "[Valid]\t\tMAP\tP20\tNDCG20\n",
      "\t\t0.0789\t0.1550\t0.1923\n",
      "iteration: 387\n",
      "[Iter 388]\tLoss: [0.5694426551402322]\n",
      "[Valid]\t\tMAP\tP20\tNDCG20\n",
      "\t\t0.0789\t0.1575\t0.1939\n",
      "iteration: 388\n",
      "[Iter 389]\tLoss: [0.5694728737822163]\n"
     ]
    },
    {
     "name": "stderr",
     "output_type": "stream",
     "text": [
      "2020-08-03 03:50:21,153 : INFO : Generate totally 10120 pairs\n"
     ]
    },
    {
     "name": "stdout",
     "output_type": "stream",
     "text": [
      "[Valid]\t\tMAP\tP20\tNDCG20\n",
      "\t\t0.0788\t0.1550\t0.1926\n",
      "Epoch 65\n",
      "iteration: 389\n",
      "[Iter 390]\tLoss: [0.5622260456558744]\n",
      "[Valid]\t\tMAP\tP20\tNDCG20\n",
      "\t\t0.0804\t0.1550\t0.1956\n",
      "iteration: 390\n",
      "[Iter 391]\tLoss: [0.5620624473384718]\n",
      "[Valid]\t\tMAP\tP20\tNDCG20\n",
      "\t\t0.0805\t0.1550\t0.1958\n",
      "iteration: 391\n",
      "[Iter 392]\tLoss: [0.5619316394385613]\n",
      "[Valid]\t\tMAP\tP20\tNDCG20\n",
      "\t\t0.0806\t0.1550\t0.1964\n",
      "iteration: 392\n",
      "[Iter 393]\tLoss: [0.561709172464171]\n",
      "[Valid]\t\tMAP\tP20\tNDCG20\n",
      "\t\t0.0805\t0.1525\t0.1949\n",
      "iteration: 393\n",
      "[Iter 394]\tLoss: [0.5616803272321761]\n",
      "[Valid]\t\tMAP\tP20\tNDCG20\n",
      "\t\t0.0806\t0.1525\t0.1951\n",
      "iteration: 394\n",
      "[Iter 395]\tLoss: [0.561333758587187]\n"
     ]
    },
    {
     "name": "stderr",
     "output_type": "stream",
     "text": [
      "2020-08-03 03:51:59,615 : INFO : Generate totally 10120 pairs\n"
     ]
    },
    {
     "name": "stdout",
     "output_type": "stream",
     "text": [
      "[Valid]\t\tMAP\tP20\tNDCG20\n",
      "\t\t0.0789\t0.1525\t0.1908\n",
      "Epoch 66\n",
      "iteration: 395\n",
      "[Iter 396]\tLoss: [0.5757210158371171]\n",
      "[Valid]\t\tMAP\tP20\tNDCG20\n",
      "\t\t0.0804\t0.1500\t0.1937\n",
      "iteration: 396\n",
      "[Iter 397]\tLoss: [0.5752321626298984]\n",
      "[Valid]\t\tMAP\tP20\tNDCG20\n",
      "\t\t0.0808\t0.1525\t0.1954\n",
      "iteration: 397\n",
      "[Iter 398]\tLoss: [0.5752164364567859]\n",
      "[Valid]\t\tMAP\tP20\tNDCG20\n",
      "\t\t0.0807\t0.1550\t0.1974\n",
      "iteration: 398\n",
      "[Iter 399]\tLoss: [0.5751864698976867]\n",
      "[Valid]\t\tMAP\tP20\tNDCG20\n",
      "\t\t0.0784\t0.1525\t0.1920\n",
      "iteration: 399\n",
      "[Iter 400]\tLoss: [0.5751064298711276]\n",
      "[Valid]\t\tMAP\tP20\tNDCG20\n",
      "\t\t0.0785\t0.1525\t0.1920\n",
      "iteration: 400\n",
      "[Iter 401]\tLoss: [0.5749367666633233]\n"
     ]
    },
    {
     "name": "stderr",
     "output_type": "stream",
     "text": [
      "2020-08-03 03:53:43,119 : INFO : Generate totally 10120 pairs\n"
     ]
    },
    {
     "name": "stdout",
     "output_type": "stream",
     "text": [
      "[Valid]\t\tMAP\tP20\tNDCG20\n",
      "\t\t0.0785\t0.1550\t0.1936\n",
      "Epoch 67\n",
      "iteration: 401\n",
      "[Iter 402]\tLoss: [0.579936481040457]\n",
      "[Valid]\t\tMAP\tP20\tNDCG20\n",
      "\t\t0.0782\t0.1550\t0.1930\n",
      "iteration: 402\n",
      "[Iter 403]\tLoss: [0.5797320226494502]\n",
      "[Valid]\t\tMAP\tP20\tNDCG20\n",
      "\t\t0.0803\t0.1525\t0.1951\n",
      "iteration: 403\n",
      "[Iter 404]\tLoss: [0.5797409588552039]\n",
      "[Valid]\t\tMAP\tP20\tNDCG20\n",
      "\t\t0.0781\t0.1550\t0.1924\n",
      "iteration: 404\n",
      "[Iter 405]\tLoss: [0.5796175622951844]\n",
      "[Valid]\t\tMAP\tP20\tNDCG20\n",
      "\t\t0.0782\t0.1550\t0.1927\n",
      "iteration: 405\n",
      "[Iter 406]\tLoss: [0.5795921841157755]\n",
      "[Valid]\t\tMAP\tP20\tNDCG20\n",
      "\t\t0.0778\t0.1525\t0.1890\n",
      "iteration: 406\n",
      "[Iter 407]\tLoss: [0.5795552516172054]\n"
     ]
    },
    {
     "name": "stderr",
     "output_type": "stream",
     "text": [
      "2020-08-03 03:55:23,746 : INFO : Generate totally 10120 pairs\n"
     ]
    },
    {
     "name": "stdout",
     "output_type": "stream",
     "text": [
      "[Valid]\t\tMAP\tP20\tNDCG20\n",
      "\t\t0.0778\t0.1525\t0.1891\n",
      "Epoch 68\n",
      "iteration: 407\n",
      "[Iter 408]\tLoss: [0.5685864483768289]\n",
      "[Valid]\t\tMAP\tP20\tNDCG20\n",
      "\t\t0.0793\t0.1575\t0.1944\n",
      "iteration: 408\n",
      "[Iter 409]\tLoss: [0.5682615533235515]\n",
      "[Valid]\t\tMAP\tP20\tNDCG20\n",
      "\t\t0.0786\t0.1575\t0.1944\n",
      "iteration: 409\n",
      "[Iter 410]\tLoss: [0.5680342855837506]\n",
      "[Valid]\t\tMAP\tP20\tNDCG20\n",
      "\t\t0.0790\t0.1575\t0.1966\n",
      "iteration: 410\n",
      "[Iter 411]\tLoss: [0.5678545559053364]\n",
      "[Valid]\t\tMAP\tP20\tNDCG20\n",
      "\t\t0.0787\t0.1550\t0.1928\n",
      "iteration: 411\n",
      "[Iter 412]\tLoss: [0.5677996593501728]\n",
      "[Valid]\t\tMAP\tP20\tNDCG20\n",
      "\t\t0.0787\t0.1550\t0.1928\n",
      "iteration: 412\n",
      "[Iter 413]\tLoss: [0.567768090180022]\n"
     ]
    },
    {
     "name": "stderr",
     "output_type": "stream",
     "text": [
      "2020-08-03 03:57:06,577 : INFO : Generate totally 10120 pairs\n"
     ]
    },
    {
     "name": "stdout",
     "output_type": "stream",
     "text": [
      "[Valid]\t\tMAP\tP20\tNDCG20\n",
      "\t\t0.0786\t0.1550\t0.1930\n",
      "Epoch 69\n",
      "iteration: 413\n",
      "[Iter 414]\tLoss: [0.5756876866219072]\n",
      "[Valid]\t\tMAP\tP20\tNDCG20\n",
      "\t\t0.0798\t0.1625\t0.1971\n",
      "iteration: 414\n",
      "[Iter 415]\tLoss: [0.5754298280055815]\n",
      "[Valid]\t\tMAP\tP20\tNDCG20\n",
      "\t\t0.0796\t0.1625\t0.1970\n",
      "iteration: 415\n",
      "[Iter 416]\tLoss: [0.5753984410359926]\n",
      "[Valid]\t\tMAP\tP20\tNDCG20\n",
      "\t\t0.0800\t0.1650\t0.1984\n",
      "iteration: 416\n",
      "[Iter 417]\tLoss: [0.5753189436944106]\n",
      "[Valid]\t\tMAP\tP20\tNDCG20\n",
      "\t\t0.0803\t0.1650\t0.1989\n",
      "iteration: 417\n",
      "[Iter 418]\tLoss: [0.5752882905922859]\n",
      "[Valid]\t\tMAP\tP20\tNDCG20\n",
      "\t\t0.0800\t0.1650\t0.1985\n",
      "iteration: 418\n",
      "[Iter 419]\tLoss: [0.5751756574561002]\n"
     ]
    },
    {
     "name": "stderr",
     "output_type": "stream",
     "text": [
      "2020-08-03 03:58:45,504 : INFO : Generate totally 10120 pairs\n"
     ]
    },
    {
     "name": "stdout",
     "output_type": "stream",
     "text": [
      "[Valid]\t\tMAP\tP20\tNDCG20\n",
      "\t\t0.0803\t0.1625\t0.1977\n",
      "Epoch 70\n",
      "iteration: 419\n",
      "[Iter 420]\tLoss: [0.5720299818063442]\n",
      "[Valid]\t\tMAP\tP20\tNDCG20\n",
      "\t\t0.0795\t0.1525\t0.1940\n",
      "iteration: 420\n",
      "[Iter 421]\tLoss: [0.5715918497075676]\n",
      "[Valid]\t\tMAP\tP20\tNDCG20\n",
      "\t\t0.0793\t0.1550\t0.1949\n",
      "iteration: 421\n",
      "[Iter 422]\tLoss: [0.571804514000185]\n",
      "[Valid]\t\tMAP\tP20\tNDCG20\n",
      "\t\t0.0793\t0.1550\t0.1947\n",
      "iteration: 422\n",
      "[Iter 423]\tLoss: [0.5715691196794802]\n",
      "[Valid]\t\tMAP\tP20\tNDCG20\n",
      "\t\t0.0793\t0.1550\t0.1947\n",
      "iteration: 423\n",
      "[Iter 424]\tLoss: [0.5714334687402126]\n",
      "[Valid]\t\tMAP\tP20\tNDCG20\n",
      "\t\t0.0793\t0.1550\t0.1946\n",
      "iteration: 424\n",
      "[Iter 425]\tLoss: [0.571397320717102]\n"
     ]
    },
    {
     "name": "stderr",
     "output_type": "stream",
     "text": [
      "2020-08-03 04:00:25,453 : INFO : Generate totally 10120 pairs\n"
     ]
    },
    {
     "name": "stdout",
     "output_type": "stream",
     "text": [
      "[Valid]\t\tMAP\tP20\tNDCG20\n",
      "\t\t0.0794\t0.1550\t0.1946\n",
      "Epoch 71\n",
      "iteration: 425\n",
      "[Iter 426]\tLoss: [0.5742162417458452]\n",
      "[Valid]\t\tMAP\tP20\tNDCG20\n",
      "\t\t0.0790\t0.1600\t0.1951\n",
      "iteration: 426\n",
      "[Iter 427]\tLoss: [0.5739730645133101]\n",
      "[Valid]\t\tMAP\tP20\tNDCG20\n",
      "\t\t0.0788\t0.1550\t0.1906\n",
      "iteration: 427\n",
      "[Iter 428]\tLoss: [0.57373916431378]\n",
      "[Valid]\t\tMAP\tP20\tNDCG20\n",
      "\t\t0.0791\t0.1600\t0.1947\n",
      "iteration: 428\n",
      "[Iter 429]\tLoss: [0.5735323619936766]\n",
      "[Valid]\t\tMAP\tP20\tNDCG20\n",
      "\t\t0.0793\t0.1600\t0.1956\n",
      "iteration: 429\n",
      "[Iter 430]\tLoss: [0.5734420651385906]\n",
      "[Valid]\t\tMAP\tP20\tNDCG20\n",
      "\t\t0.0792\t0.1575\t0.1938\n",
      "iteration: 430\n",
      "[Iter 431]\tLoss: [0.5735375310180215]\n"
     ]
    },
    {
     "name": "stderr",
     "output_type": "stream",
     "text": [
      "2020-08-03 04:02:05,055 : INFO : Generate totally 10120 pairs\n"
     ]
    },
    {
     "name": "stdout",
     "output_type": "stream",
     "text": [
      "[Valid]\t\tMAP\tP20\tNDCG20\n",
      "\t\t0.0794\t0.1550\t0.1925\n",
      "Epoch 72\n",
      "iteration: 431\n",
      "[Iter 432]\tLoss: [0.5757126249814694]\n",
      "[Valid]\t\tMAP\tP20\tNDCG20\n",
      "\t\t0.0791\t0.1575\t0.1920\n",
      "iteration: 432\n",
      "[Iter 433]\tLoss: [0.5750200245455791]\n",
      "[Valid]\t\tMAP\tP20\tNDCG20\n",
      "\t\t0.0782\t0.1575\t0.1904\n",
      "iteration: 433\n",
      "[Iter 434]\tLoss: [0.5749895984358467]\n",
      "[Valid]\t\tMAP\tP20\tNDCG20\n",
      "\t\t0.0781\t0.1575\t0.1909\n",
      "iteration: 434\n",
      "[Iter 435]\tLoss: [0.574798011202586]\n",
      "[Valid]\t\tMAP\tP20\tNDCG20\n",
      "\t\t0.0780\t0.1550\t0.1880\n",
      "iteration: 435\n",
      "[Iter 436]\tLoss: [0.5748482759114311]\n",
      "[Valid]\t\tMAP\tP20\tNDCG20\n",
      "\t\t0.0782\t0.1550\t0.1882\n",
      "iteration: 436\n",
      "[Iter 437]\tLoss: [0.5747615528318721]\n"
     ]
    },
    {
     "name": "stderr",
     "output_type": "stream",
     "text": [
      "2020-08-03 04:03:47,046 : INFO : Generate totally 10120 pairs\n"
     ]
    },
    {
     "name": "stdout",
     "output_type": "stream",
     "text": [
      "[Valid]\t\tMAP\tP20\tNDCG20\n",
      "\t\t0.0783\t0.1575\t0.1916\n",
      "Epoch 73\n",
      "iteration: 437\n",
      "[Iter 438]\tLoss: [0.5678944143617577]\n",
      "[Valid]\t\tMAP\tP20\tNDCG20\n",
      "\t\t0.0776\t0.1550\t0.1919\n",
      "iteration: 438\n",
      "[Iter 439]\tLoss: [0.5675314329270083]\n",
      "[Valid]\t\tMAP\tP20\tNDCG20\n",
      "\t\t0.0776\t0.1575\t0.1935\n",
      "iteration: 439\n",
      "[Iter 440]\tLoss: [0.5674377852395589]\n",
      "[Valid]\t\tMAP\tP20\tNDCG20\n",
      "\t\t0.0777\t0.1550\t0.1923\n",
      "iteration: 440\n",
      "[Iter 441]\tLoss: [0.5673708521830941]\n",
      "[Valid]\t\tMAP\tP20\tNDCG20\n",
      "\t\t0.0778\t0.1550\t0.1926\n",
      "iteration: 441\n",
      "[Iter 442]\tLoss: [0.5672685850868112]\n",
      "[Valid]\t\tMAP\tP20\tNDCG20\n",
      "\t\t0.0779\t0.1550\t0.1926\n",
      "iteration: 442\n",
      "[Iter 443]\tLoss: [0.5671084087503993]\n"
     ]
    },
    {
     "name": "stderr",
     "output_type": "stream",
     "text": [
      "2020-08-03 04:05:29,864 : INFO : Generate totally 10120 pairs\n"
     ]
    },
    {
     "name": "stdout",
     "output_type": "stream",
     "text": [
      "[Valid]\t\tMAP\tP20\tNDCG20\n",
      "\t\t0.0779\t0.1575\t0.1942\n",
      "Epoch 74\n",
      "iteration: 443\n",
      "[Iter 444]\tLoss: [0.5690097978169267]\n",
      "[Valid]\t\tMAP\tP20\tNDCG20\n",
      "\t\t0.0802\t0.1525\t0.1945\n",
      "iteration: 444\n",
      "[Iter 445]\tLoss: [0.5690210132082931]\n",
      "[Valid]\t\tMAP\tP20\tNDCG20\n",
      "\t\t0.0806\t0.1525\t0.1946\n",
      "iteration: 445\n",
      "[Iter 446]\tLoss: [0.5690523375988948]\n",
      "[Valid]\t\tMAP\tP20\tNDCG20\n",
      "\t\t0.0783\t0.1550\t0.1919\n",
      "iteration: 446\n",
      "[Iter 447]\tLoss: [0.5689605188228396]\n",
      "[Valid]\t\tMAP\tP20\tNDCG20\n",
      "\t\t0.0786\t0.1575\t0.1938\n",
      "iteration: 447\n",
      "[Iter 448]\tLoss: [0.5687494128648001]\n",
      "[Valid]\t\tMAP\tP20\tNDCG20\n",
      "\t\t0.0787\t0.1600\t0.1957\n",
      "iteration: 448\n",
      "[Iter 449]\tLoss: [0.5687348266305189]\n"
     ]
    },
    {
     "name": "stderr",
     "output_type": "stream",
     "text": [
      "2020-08-03 04:07:10,309 : INFO : Generate totally 10120 pairs\n"
     ]
    },
    {
     "name": "stdout",
     "output_type": "stream",
     "text": [
      "[Valid]\t\tMAP\tP20\tNDCG20\n",
      "\t\t0.0783\t0.1650\t0.2000\n",
      "Epoch 75\n",
      "iteration: 449\n",
      "[Iter 450]\tLoss: [0.5744889606482426]\n",
      "[Valid]\t\tMAP\tP20\tNDCG20\n",
      "\t\t0.0778\t0.1525\t0.1884\n",
      "iteration: 450\n",
      "[Iter 451]\tLoss: [0.5741130609963487]\n",
      "[Valid]\t\tMAP\tP20\tNDCG20\n",
      "\t\t0.0771\t0.1500\t0.1853\n",
      "iteration: 451\n",
      "[Iter 452]\tLoss: [0.5739228619564428]\n",
      "[Valid]\t\tMAP\tP20\tNDCG20\n",
      "\t\t0.0779\t0.1475\t0.1847\n",
      "iteration: 452\n",
      "[Iter 453]\tLoss: [0.5737082160449782]\n",
      "[Valid]\t\tMAP\tP20\tNDCG20\n",
      "\t\t0.0778\t0.1475\t0.1846\n",
      "iteration: 453\n",
      "[Iter 454]\tLoss: [0.5736532519339573]\n",
      "[Valid]\t\tMAP\tP20\tNDCG20\n",
      "\t\t0.0779\t0.1475\t0.1848\n",
      "iteration: 454\n",
      "[Iter 455]\tLoss: [0.5735727847947669]\n"
     ]
    },
    {
     "name": "stderr",
     "output_type": "stream",
     "text": [
      "2020-08-03 04:08:49,532 : INFO : Generate totally 10120 pairs\n"
     ]
    },
    {
     "name": "stdout",
     "output_type": "stream",
     "text": [
      "[Valid]\t\tMAP\tP20\tNDCG20\n",
      "\t\t0.0779\t0.1475\t0.1848\n",
      "Epoch 76\n",
      "iteration: 455\n",
      "[Iter 456]\tLoss: [0.5706377297698745]\n",
      "[Valid]\t\tMAP\tP20\tNDCG20\n",
      "\t\t0.0778\t0.1625\t0.1950\n",
      "iteration: 456\n",
      "[Iter 457]\tLoss: [0.5703253845864605]\n",
      "[Valid]\t\tMAP\tP20\tNDCG20\n",
      "\t\t0.0788\t0.1675\t0.1989\n",
      "iteration: 457\n",
      "[Iter 458]\tLoss: [0.5704276718994374]\n",
      "[Valid]\t\tMAP\tP20\tNDCG20\n",
      "\t\t0.0785\t0.1625\t0.1959\n",
      "iteration: 458\n",
      "[Iter 459]\tLoss: [0.5703472416450384]\n",
      "[Valid]\t\tMAP\tP20\tNDCG20\n",
      "\t\t0.0784\t0.1600\t0.1953\n",
      "iteration: 459\n",
      "[Iter 460]\tLoss: [0.5701858778833871]\n",
      "[Valid]\t\tMAP\tP20\tNDCG20\n",
      "\t\t0.0789\t0.1625\t0.1991\n",
      "iteration: 460\n",
      "[Iter 461]\tLoss: [0.5701804980930132]\n"
     ]
    },
    {
     "name": "stderr",
     "output_type": "stream",
     "text": [
      "2020-08-03 04:10:30,039 : INFO : Generate totally 10120 pairs\n"
     ]
    },
    {
     "name": "stdout",
     "output_type": "stream",
     "text": [
      "[Valid]\t\tMAP\tP20\tNDCG20\n",
      "\t\t0.0788\t0.1625\t0.1990\n",
      "Epoch 77\n",
      "iteration: 461\n",
      "[Iter 462]\tLoss: [0.5656759753941076]\n",
      "[Valid]\t\tMAP\tP20\tNDCG20\n",
      "\t\t0.0778\t0.1550\t0.1922\n",
      "iteration: 462\n",
      "[Iter 463]\tLoss: [0.565402610647113]\n",
      "[Valid]\t\tMAP\tP20\tNDCG20\n",
      "\t\t0.0783\t0.1525\t0.1915\n",
      "iteration: 463\n",
      "[Iter 464]\tLoss: [0.5652854800989977]\n",
      "[Valid]\t\tMAP\tP20\tNDCG20\n",
      "\t\t0.0782\t0.1575\t0.1947\n",
      "iteration: 464\n",
      "[Iter 465]\tLoss: [0.5652242258426701]\n",
      "[Valid]\t\tMAP\tP20\tNDCG20\n",
      "\t\t0.0784\t0.1575\t0.1950\n",
      "iteration: 465\n",
      "[Iter 466]\tLoss: [0.5650984950864268]\n",
      "[Valid]\t\tMAP\tP20\tNDCG20\n",
      "\t\t0.0784\t0.1575\t0.1950\n",
      "iteration: 466\n",
      "[Iter 467]\tLoss: [0.5649496336640577]\n"
     ]
    },
    {
     "name": "stderr",
     "output_type": "stream",
     "text": [
      "2020-08-03 04:12:12,665 : INFO : Generate totally 10120 pairs\n"
     ]
    },
    {
     "name": "stdout",
     "output_type": "stream",
     "text": [
      "[Valid]\t\tMAP\tP20\tNDCG20\n",
      "\t\t0.0785\t0.1550\t0.1929\n",
      "Epoch 78\n",
      "iteration: 467\n",
      "[Iter 468]\tLoss: [0.5696933698277229]\n",
      "[Valid]\t\tMAP\tP20\tNDCG20\n",
      "\t\t0.0788\t0.1575\t0.1951\n",
      "iteration: 468\n",
      "[Iter 469]\tLoss: [0.5695400375563636]\n",
      "[Valid]\t\tMAP\tP20\tNDCG20\n",
      "\t\t0.0790\t0.1575\t0.1952\n",
      "iteration: 469\n",
      "[Iter 470]\tLoss: [0.5694819518582152]\n",
      "[Valid]\t\tMAP\tP20\tNDCG20\n",
      "\t\t0.0790\t0.1575\t0.1953\n",
      "iteration: 470\n",
      "[Iter 471]\tLoss: [0.5694410307075195]\n",
      "[Valid]\t\tMAP\tP20\tNDCG20\n",
      "\t\t0.0790\t0.1575\t0.1941\n",
      "iteration: 471\n",
      "[Iter 472]\tLoss: [0.5692857015627646]\n",
      "[Valid]\t\tMAP\tP20\tNDCG20\n",
      "\t\t0.0791\t0.1575\t0.1941\n",
      "iteration: 472\n",
      "[Iter 473]\tLoss: [0.5693182427244695]\n"
     ]
    },
    {
     "name": "stderr",
     "output_type": "stream",
     "text": [
      "2020-08-03 04:13:51,846 : INFO : Generate totally 10120 pairs\n"
     ]
    },
    {
     "name": "stdout",
     "output_type": "stream",
     "text": [
      "[Valid]\t\tMAP\tP20\tNDCG20\n",
      "\t\t0.0793\t0.1575\t0.1943\n",
      "Epoch 79\n",
      "iteration: 473\n",
      "[Iter 474]\tLoss: [0.5641569827974078]\n",
      "[Valid]\t\tMAP\tP20\tNDCG20\n",
      "\t\t0.0805\t0.1525\t0.1953\n",
      "iteration: 474\n",
      "[Iter 475]\tLoss: [0.5636049355030531]\n",
      "[Valid]\t\tMAP\tP20\tNDCG20\n",
      "\t\t0.0806\t0.1525\t0.1954\n",
      "iteration: 475\n",
      "[Iter 476]\tLoss: [0.5634419608257505]\n",
      "[Valid]\t\tMAP\tP20\tNDCG20\n",
      "\t\t0.0804\t0.1525\t0.1950\n",
      "iteration: 476\n",
      "[Iter 477]\tLoss: [0.5633715677402708]\n",
      "[Valid]\t\tMAP\tP20\tNDCG20\n",
      "\t\t0.0803\t0.1525\t0.1949\n",
      "iteration: 477\n",
      "[Iter 478]\tLoss: [0.5632686734258422]\n",
      "[Valid]\t\tMAP\tP20\tNDCG20\n",
      "\t\t0.0804\t0.1525\t0.1948\n",
      "iteration: 478\n",
      "[Iter 479]\tLoss: [0.5631549638427293]\n"
     ]
    },
    {
     "name": "stderr",
     "output_type": "stream",
     "text": [
      "2020-08-03 04:15:31,374 : INFO : Generate totally 10120 pairs\n"
     ]
    },
    {
     "name": "stdout",
     "output_type": "stream",
     "text": [
      "[Valid]\t\tMAP\tP20\tNDCG20\n",
      "\t\t0.0785\t0.1525\t0.1912\n",
      "Epoch 80\n",
      "iteration: 479\n",
      "[Iter 480]\tLoss: [0.5709010501182362]\n",
      "[Valid]\t\tMAP\tP20\tNDCG20\n",
      "\t\t0.0772\t0.1575\t0.1933\n",
      "iteration: 480\n",
      "[Iter 481]\tLoss: [0.5706000267840893]\n",
      "[Valid]\t\tMAP\tP20\tNDCG20\n",
      "\t\t0.0772\t0.1600\t0.1959\n",
      "iteration: 481\n",
      "[Iter 482]\tLoss: [0.570563273585361]\n",
      "[Valid]\t\tMAP\tP20\tNDCG20\n",
      "\t\t0.0773\t0.1600\t0.1960\n",
      "iteration: 482\n",
      "[Iter 483]\tLoss: [0.5703559508142264]\n",
      "[Valid]\t\tMAP\tP20\tNDCG20\n",
      "\t\t0.0775\t0.1600\t0.1962\n",
      "iteration: 483\n",
      "[Iter 484]\tLoss: [0.5703206672940565]\n",
      "[Valid]\t\tMAP\tP20\tNDCG20\n",
      "\t\t0.0776\t0.1600\t0.1963\n",
      "iteration: 484\n",
      "[Iter 485]\tLoss: [0.570415630067879]\n"
     ]
    },
    {
     "name": "stderr",
     "output_type": "stream",
     "text": [
      "2020-08-03 04:17:09,195 : INFO : Generate totally 10120 pairs\n"
     ]
    },
    {
     "name": "stdout",
     "output_type": "stream",
     "text": [
      "[Valid]\t\tMAP\tP20\tNDCG20\n",
      "\t\t0.0774\t0.1625\t0.1960\n",
      "Epoch 81\n",
      "iteration: 485\n",
      "[Iter 486]\tLoss: [0.5712742408214821]\n",
      "[Valid]\t\tMAP\tP20\tNDCG20\n",
      "\t\t0.0770\t0.1600\t0.1938\n",
      "iteration: 486\n",
      "[Iter 487]\tLoss: [0.5711157244184742]\n",
      "[Valid]\t\tMAP\tP20\tNDCG20\n",
      "\t\t0.0770\t0.1575\t0.1911\n",
      "iteration: 487\n",
      "[Iter 488]\tLoss: [0.5710616873304835]\n",
      "[Valid]\t\tMAP\tP20\tNDCG20\n",
      "\t\t0.0772\t0.1625\t0.1957\n",
      "iteration: 488\n",
      "[Iter 489]\tLoss: [0.5710356834495491]\n",
      "[Valid]\t\tMAP\tP20\tNDCG20\n",
      "\t\t0.0774\t0.1625\t0.1959\n",
      "iteration: 489\n",
      "[Iter 490]\tLoss: [0.5710727375133235]\n",
      "[Valid]\t\tMAP\tP20\tNDCG20\n",
      "\t\t0.0775\t0.1575\t0.1934\n",
      "iteration: 490\n",
      "[Iter 491]\tLoss: [0.5709271006315593]\n"
     ]
    },
    {
     "name": "stderr",
     "output_type": "stream",
     "text": [
      "2020-08-03 04:18:46,435 : INFO : Generate totally 10120 pairs\n"
     ]
    },
    {
     "name": "stdout",
     "output_type": "stream",
     "text": [
      "[Valid]\t\tMAP\tP20\tNDCG20\n",
      "\t\t0.0773\t0.1625\t0.1958\n",
      "Epoch 82\n",
      "iteration: 491\n",
      "[Iter 492]\tLoss: [0.5613933149651577]\n",
      "[Valid]\t\tMAP\tP20\tNDCG20\n",
      "\t\t0.0785\t0.1475\t0.1858\n",
      "iteration: 492\n",
      "[Iter 493]\tLoss: [0.5613268474227355]\n",
      "[Valid]\t\tMAP\tP20\tNDCG20\n",
      "\t\t0.0787\t0.1475\t0.1857\n",
      "iteration: 493\n",
      "[Iter 494]\tLoss: [0.5612116302013869]\n",
      "[Valid]\t\tMAP\tP20\tNDCG20\n",
      "\t\t0.0783\t0.1475\t0.1848\n",
      "iteration: 494\n",
      "[Iter 495]\tLoss: [0.5611265124127328]\n",
      "[Valid]\t\tMAP\tP20\tNDCG20\n",
      "\t\t0.0783\t0.1475\t0.1847\n",
      "iteration: 495\n",
      "[Iter 496]\tLoss: [0.5610794137883564]\n",
      "[Valid]\t\tMAP\tP20\tNDCG20\n",
      "\t\t0.0778\t0.1450\t0.1820\n",
      "iteration: 496\n",
      "[Iter 497]\tLoss: [0.5610444596398018]\n"
     ]
    },
    {
     "name": "stderr",
     "output_type": "stream",
     "text": [
      "2020-08-03 04:20:24,802 : INFO : Generate totally 10120 pairs\n"
     ]
    },
    {
     "name": "stdout",
     "output_type": "stream",
     "text": [
      "[Valid]\t\tMAP\tP20\tNDCG20\n",
      "\t\t0.0779\t0.1450\t0.1823\n",
      "Epoch 83\n",
      "iteration: 497\n",
      "[Iter 498]\tLoss: [0.5715336939504024]\n",
      "[Valid]\t\tMAP\tP20\tNDCG20\n",
      "\t\t0.0778\t0.1600\t0.1947\n",
      "iteration: 498\n",
      "[Iter 499]\tLoss: [0.5720672089120616]\n",
      "[Valid]\t\tMAP\tP20\tNDCG20\n",
      "\t\t0.0778\t0.1625\t0.1955\n",
      "iteration: 499\n",
      "[Iter 500]\tLoss: [0.5720153660347811]\n",
      "[Valid]\t\tMAP\tP20\tNDCG20\n",
      "\t\t0.0777\t0.1625\t0.1956\n",
      "iteration: 500\n",
      "[Iter 501]\tLoss: [0.5719890820944733]\n",
      "[Valid]\t\tMAP\tP20\tNDCG20\n",
      "\t\t0.0777\t0.1625\t0.1957\n",
      "iteration: 501\n",
      "[Iter 502]\tLoss: [0.5719641596667852]\n",
      "[Valid]\t\tMAP\tP20\tNDCG20\n",
      "\t\t0.0776\t0.1575\t0.1921\n",
      "iteration: 502\n",
      "[Iter 503]\tLoss: [0.5720667194707592]\n"
     ]
    },
    {
     "name": "stderr",
     "output_type": "stream",
     "text": [
      "2020-08-03 04:22:04,993 : INFO : Generate totally 10120 pairs\n"
     ]
    },
    {
     "name": "stdout",
     "output_type": "stream",
     "text": [
      "[Valid]\t\tMAP\tP20\tNDCG20\n",
      "\t\t0.0775\t0.1575\t0.1919\n",
      "Epoch 84\n",
      "iteration: 503\n",
      "[Iter 504]\tLoss: [0.5663907648369729]\n",
      "[Valid]\t\tMAP\tP20\tNDCG20\n",
      "\t\t0.0778\t0.1575\t0.1945\n",
      "iteration: 504\n",
      "[Iter 505]\tLoss: [0.5660799464336026]\n",
      "[Valid]\t\tMAP\tP20\tNDCG20\n",
      "\t\t0.0770\t0.1550\t0.1897\n",
      "iteration: 505\n",
      "[Iter 506]\tLoss: [0.5661733591921716]\n",
      "[Valid]\t\tMAP\tP20\tNDCG20\n",
      "\t\t0.0772\t0.1550\t0.1896\n",
      "iteration: 506\n",
      "[Iter 507]\tLoss: [0.5660108390886321]\n",
      "[Valid]\t\tMAP\tP20\tNDCG20\n",
      "\t\t0.0792\t0.1575\t0.1949\n",
      "iteration: 507\n",
      "[Iter 508]\tLoss: [0.5659560493153074]\n",
      "[Valid]\t\tMAP\tP20\tNDCG20\n",
      "\t\t0.0792\t0.1575\t0.1949\n",
      "iteration: 508\n",
      "[Iter 509]\tLoss: [0.5658453116892826]\n"
     ]
    },
    {
     "name": "stderr",
     "output_type": "stream",
     "text": [
      "2020-08-03 04:23:43,725 : INFO : Generate totally 10120 pairs\n"
     ]
    },
    {
     "name": "stdout",
     "output_type": "stream",
     "text": [
      "[Valid]\t\tMAP\tP20\tNDCG20\n",
      "\t\t0.0796\t0.1575\t0.1971\n",
      "Epoch 85\n",
      "iteration: 509\n",
      "[Iter 510]\tLoss: [0.5649601467572182]\n",
      "[Valid]\t\tMAP\tP20\tNDCG20\n",
      "\t\t0.0786\t0.1675\t0.1998\n",
      "iteration: 510\n",
      "[Iter 511]\tLoss: [0.5649973037891944]\n",
      "[Valid]\t\tMAP\tP20\tNDCG20\n",
      "\t\t0.0783\t0.1650\t0.1989\n",
      "iteration: 511\n",
      "[Iter 512]\tLoss: [0.5648408286685764]\n",
      "[Valid]\t\tMAP\tP20\tNDCG20\n",
      "\t\t0.0783\t0.1625\t0.1977\n",
      "iteration: 512\n",
      "[Iter 513]\tLoss: [0.5646345340333908]\n",
      "[Valid]\t\tMAP\tP20\tNDCG20\n",
      "\t\t0.0775\t0.1550\t0.1904\n",
      "iteration: 513\n",
      "[Iter 514]\tLoss: [0.5645978545895207]\n",
      "[Valid]\t\tMAP\tP20\tNDCG20\n",
      "\t\t0.0776\t0.1550\t0.1906\n",
      "iteration: 514\n",
      "[Iter 515]\tLoss: [0.5645073737963857]\n"
     ]
    },
    {
     "name": "stderr",
     "output_type": "stream",
     "text": [
      "2020-08-03 04:25:24,802 : INFO : Generate totally 10120 pairs\n"
     ]
    },
    {
     "name": "stdout",
     "output_type": "stream",
     "text": [
      "[Valid]\t\tMAP\tP20\tNDCG20\n",
      "\t\t0.0775\t0.1550\t0.1905\n",
      "Epoch 86\n",
      "iteration: 515\n",
      "[Iter 516]\tLoss: [0.5638011832953441]\n",
      "[Valid]\t\tMAP\tP20\tNDCG20\n",
      "\t\t0.0780\t0.1600\t0.1938\n",
      "iteration: 516\n",
      "[Iter 517]\tLoss: [0.563488748734412]\n",
      "[Valid]\t\tMAP\tP20\tNDCG20\n",
      "\t\t0.0780\t0.1600\t0.1936\n",
      "iteration: 517\n",
      "[Iter 518]\tLoss: [0.5633748599692531]\n",
      "[Valid]\t\tMAP\tP20\tNDCG20\n",
      "\t\t0.0781\t0.1600\t0.1940\n",
      "iteration: 518\n",
      "[Iter 519]\tLoss: [0.5634556092145179]\n",
      "[Valid]\t\tMAP\tP20\tNDCG20\n",
      "\t\t0.0781\t0.1600\t0.1940\n",
      "iteration: 519\n",
      "[Iter 520]\tLoss: [0.5634269793867593]\n",
      "[Valid]\t\tMAP\tP20\tNDCG20\n",
      "\t\t0.0781\t0.1600\t0.1940\n",
      "iteration: 520\n",
      "[Iter 521]\tLoss: [0.5633164958608716]\n"
     ]
    },
    {
     "name": "stderr",
     "output_type": "stream",
     "text": [
      "2020-08-03 04:27:06,886 : INFO : Generate totally 10120 pairs\n"
     ]
    },
    {
     "name": "stdout",
     "output_type": "stream",
     "text": [
      "[Valid]\t\tMAP\tP20\tNDCG20\n",
      "\t\t0.0779\t0.1600\t0.1938\n",
      "Epoch 87\n",
      "iteration: 521\n",
      "[Iter 522]\tLoss: [0.5618069194139463]\n",
      "[Valid]\t\tMAP\tP20\tNDCG20\n",
      "\t\t0.0772\t0.1625\t0.1959\n",
      "iteration: 522\n",
      "[Iter 523]\tLoss: [0.5618038848778711]\n",
      "[Valid]\t\tMAP\tP20\tNDCG20\n",
      "\t\t0.0773\t0.1600\t0.1940\n",
      "iteration: 523\n",
      "[Iter 524]\tLoss: [0.5618175150082988]\n",
      "[Valid]\t\tMAP\tP20\tNDCG20\n",
      "\t\t0.0773\t0.1575\t0.1926\n",
      "iteration: 524\n",
      "[Iter 525]\tLoss: [0.5617927899915475]\n",
      "[Valid]\t\tMAP\tP20\tNDCG20\n",
      "\t\t0.0774\t0.1575\t0.1927\n",
      "iteration: 525\n",
      "[Iter 526]\tLoss: [0.5617102836608415]\n",
      "[Valid]\t\tMAP\tP20\tNDCG20\n",
      "\t\t0.0776\t0.1575\t0.1926\n",
      "iteration: 526\n",
      "[Iter 527]\tLoss: [0.5618334982264419]\n"
     ]
    },
    {
     "name": "stderr",
     "output_type": "stream",
     "text": [
      "2020-08-03 04:28:45,686 : INFO : Generate totally 10120 pairs\n"
     ]
    },
    {
     "name": "stdout",
     "output_type": "stream",
     "text": [
      "[Valid]\t\tMAP\tP20\tNDCG20\n",
      "\t\t0.0773\t0.1575\t0.1915\n",
      "Epoch 88\n",
      "iteration: 527\n",
      "[Iter 528]\tLoss: [0.570747373559376]\n",
      "[Valid]\t\tMAP\tP20\tNDCG20\n",
      "\t\t0.0751\t0.1525\t0.1851\n",
      "iteration: 528\n",
      "[Iter 529]\tLoss: [0.5703822349312277]\n",
      "[Valid]\t\tMAP\tP20\tNDCG20\n",
      "\t\t0.0746\t0.1525\t0.1837\n",
      "iteration: 529\n",
      "[Iter 530]\tLoss: [0.5705776968345105]\n",
      "[Valid]\t\tMAP\tP20\tNDCG20\n",
      "\t\t0.0746\t0.1525\t0.1837\n",
      "iteration: 530\n",
      "[Iter 531]\tLoss: [0.5705127974920593]\n",
      "[Valid]\t\tMAP\tP20\tNDCG20\n",
      "\t\t0.0746\t0.1525\t0.1835\n",
      "iteration: 531\n",
      "[Iter 532]\tLoss: [0.5702555051051346]\n",
      "[Valid]\t\tMAP\tP20\tNDCG20\n",
      "\t\t0.0772\t0.1525\t0.1898\n",
      "iteration: 532\n",
      "[Iter 533]\tLoss: [0.5701784033902549]\n"
     ]
    },
    {
     "name": "stderr",
     "output_type": "stream",
     "text": [
      "2020-08-03 04:30:24,396 : INFO : Generate totally 10120 pairs\n"
     ]
    },
    {
     "name": "stdout",
     "output_type": "stream",
     "text": [
      "[Valid]\t\tMAP\tP20\tNDCG20\n",
      "\t\t0.0747\t0.1525\t0.1836\n",
      "Epoch 89\n",
      "iteration: 533\n",
      "[Iter 534]\tLoss: [0.5674837822087198]\n",
      "[Valid]\t\tMAP\tP20\tNDCG20\n",
      "\t\t0.0793\t0.1700\t0.1958\n",
      "iteration: 534\n",
      "[Iter 535]\tLoss: [0.567106907487858]\n",
      "[Valid]\t\tMAP\tP20\tNDCG20\n",
      "\t\t0.0792\t0.1700\t0.1951\n",
      "iteration: 535\n",
      "[Iter 536]\tLoss: [0.5668675751230227]\n",
      "[Valid]\t\tMAP\tP20\tNDCG20\n",
      "\t\t0.0794\t0.1700\t0.1967\n",
      "iteration: 536\n",
      "[Iter 537]\tLoss: [0.5667928487592535]\n",
      "[Valid]\t\tMAP\tP20\tNDCG20\n",
      "\t\t0.0790\t0.1725\t0.1979\n",
      "iteration: 537\n",
      "[Iter 538]\tLoss: [0.5667187568433436]\n",
      "[Valid]\t\tMAP\tP20\tNDCG20\n",
      "\t\t0.0794\t0.1725\t0.2012\n",
      "iteration: 538\n",
      "[Iter 539]\tLoss: [0.5666974316472593]\n"
     ]
    },
    {
     "name": "stderr",
     "output_type": "stream",
     "text": [
      "2020-08-03 04:32:06,928 : INFO : Generate totally 10120 pairs\n"
     ]
    },
    {
     "name": "stdout",
     "output_type": "stream",
     "text": [
      "[Valid]\t\tMAP\tP20\tNDCG20\n",
      "\t\t0.0798\t0.1725\t0.2023\n",
      "Epoch 90\n",
      "iteration: 539\n",
      "[Iter 540]\tLoss: [0.5673744358681878]\n",
      "[Valid]\t\tMAP\tP20\tNDCG20\n",
      "\t\t0.0779\t0.1625\t0.1958\n",
      "iteration: 540\n",
      "[Iter 541]\tLoss: [0.567171632212848]\n",
      "[Valid]\t\tMAP\tP20\tNDCG20\n",
      "\t\t0.0776\t0.1600\t0.1950\n",
      "iteration: 541\n",
      "[Iter 542]\tLoss: [0.5672339054317813]\n",
      "[Valid]\t\tMAP\tP20\tNDCG20\n",
      "\t\t0.0774\t0.1600\t0.1947\n",
      "iteration: 542\n",
      "[Iter 543]\tLoss: [0.5667869739322794]\n",
      "[Valid]\t\tMAP\tP20\tNDCG20\n",
      "\t\t0.0769\t0.1575\t0.1929\n",
      "iteration: 543\n",
      "[Iter 544]\tLoss: [0.5669281141088885]\n",
      "[Valid]\t\tMAP\tP20\tNDCG20\n",
      "\t\t0.0773\t0.1575\t0.1947\n",
      "iteration: 544\n",
      "[Iter 545]\tLoss: [0.5670654429159617]\n"
     ]
    },
    {
     "name": "stderr",
     "output_type": "stream",
     "text": [
      "2020-08-03 04:33:46,574 : INFO : Generate totally 10120 pairs\n"
     ]
    },
    {
     "name": "stdout",
     "output_type": "stream",
     "text": [
      "[Valid]\t\tMAP\tP20\tNDCG20\n",
      "\t\t0.0773\t0.1600\t0.1964\n",
      "Epoch 91\n",
      "iteration: 545\n",
      "[Iter 546]\tLoss: [0.5636768739655791]\n",
      "[Valid]\t\tMAP\tP20\tNDCG20\n",
      "\t\t0.0767\t0.1525\t0.1889\n",
      "iteration: 546\n",
      "[Iter 547]\tLoss: [0.5634163262050143]\n",
      "[Valid]\t\tMAP\tP20\tNDCG20\n",
      "\t\t0.0766\t0.1550\t0.1904\n",
      "iteration: 547\n",
      "[Iter 548]\tLoss: [0.5633198565880772]\n",
      "[Valid]\t\tMAP\tP20\tNDCG20\n",
      "\t\t0.0768\t0.1600\t0.1953\n",
      "iteration: 548\n",
      "[Iter 549]\tLoss: [0.5633311756102464]\n",
      "[Valid]\t\tMAP\tP20\tNDCG20\n",
      "\t\t0.0768\t0.1575\t0.1928\n",
      "iteration: 549\n",
      "[Iter 550]\tLoss: [0.5633499714814627]\n",
      "[Valid]\t\tMAP\tP20\tNDCG20\n",
      "\t\t0.0767\t0.1575\t0.1925\n",
      "iteration: 550\n",
      "[Iter 551]\tLoss: [0.5632684328280418]\n"
     ]
    },
    {
     "name": "stderr",
     "output_type": "stream",
     "text": [
      "2020-08-03 04:35:29,282 : INFO : Generate totally 10120 pairs\n"
     ]
    },
    {
     "name": "stdout",
     "output_type": "stream",
     "text": [
      "[Valid]\t\tMAP\tP20\tNDCG20\n",
      "\t\t0.0767\t0.1575\t0.1925\n",
      "Epoch 92\n",
      "iteration: 551\n",
      "[Iter 552]\tLoss: [0.5659937491058832]\n",
      "[Valid]\t\tMAP\tP20\tNDCG20\n",
      "\t\t0.0787\t0.1700\t0.1995\n",
      "iteration: 552\n"
     ]
    }
   ],
   "source": [
    "nrf.fit(res_train,qrels,topicsTrain)"
   ]
  },
  {
   "cell_type": "code",
   "execution_count": 15,
   "metadata": {},
   "outputs": [
    {
     "name": "stdout",
     "output_type": "stream",
     "text": [
      "ok\n"
     ]
    }
   ],
   "source": [
    "print('ok')"
   ]
  },
  {
   "cell_type": "code",
   "execution_count": null,
   "metadata": {},
   "outputs": [
    {
     "name": "stderr",
     "output_type": "stream",
     "text": [
      "2020-08-04 08:00:12,871 : INFO : loading projection weights from data/GoogleNews-vectors-negative300.bin\n",
      "2020-08-04 08:01:27,781 : INFO : loaded (3000000, 300) matrix from data/GoogleNews-vectors-negative300.bin\n",
      "100%|██████████| 96/96 [02:01<00:00,  1.26s/it]\n",
      " 31%|███▏      | 30/96 [1:59:15<5:34:42, 304.28s/it]"
     ]
    }
   ],
   "source": [
    "nrf.preprocess(res_test, qrels, topicsTest, 20)"
   ]
  },
  {
   "cell_type": "code",
   "execution_count": null,
   "metadata": {},
   "outputs": [],
   "source": []
  }
 ],
 "metadata": {
  "kernelspec": {
   "display_name": "Python 3",
   "language": "python",
   "name": "python3"
  },
  "language_info": {
   "codemirror_mode": {
    "name": "ipython",
    "version": 3
   },
   "file_extension": ".py",
   "mimetype": "text/x-python",
   "name": "python",
   "nbconvert_exporter": "python",
   "pygments_lexer": "ipython3",
   "version": "3.7.7"
  }
 },
 "nbformat": 4,
 "nbformat_minor": 4
}
